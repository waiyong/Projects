{
  "nbformat": 4,
  "nbformat_minor": 0,
  "metadata": {
    "colab": {
      "name": "Credit Risk Modelling Notebook.ipynb",
      "version": "0.3.2",
      "provenance": [],
      "collapsed_sections": [
        "p0xBLV_9SZNg",
        "s2iF9OCLSZNh",
        "7HCFpEqXSZNv",
        "yyX1EajUSZN3",
        "vkK_EUthSZN-",
        "Ex3hlz1ySZOJ",
        "7WsUmpdBSZOJ",
        "LDu005tESZOP",
        "yIHPPK6oSZOU",
        "fB3fI1_ISZOY",
        "qNM0HWPUSZOb",
        "nCGLgA2BSZOe",
        "efMxyq0USZOh",
        "GsnUypPcSZOn",
        "aCC33bZCSZOo",
        "DuXcm4s0SZOq",
        "DJqQ7rHcSZOt",
        "CnWzw7nFSZOz",
        "8jE4oVwlSZO1",
        "xy_V_uBuSZO8",
        "N6JSaHAdSZO8",
        "VYwlLbT_SZO-",
        "tVuBJj2nSZPF",
        "oohw7NwRSZPI",
        "ea5jWGd3SZPL",
        "7WdiwhITSZPM",
        "gPpIBKGXSZPO",
        "bYDhT9lhSZPQ",
        "7_uosvV3SZPT",
        "rbBZnuo1SZPV",
        "EfNsb-qMSZPW",
        "IUZMO5MhSZPe",
        "OSn3VmD7SZPj",
        "urt6tcxqSZPm",
        "X9c9detaSZPo",
        "dFgPd-SXSZPq",
        "RhkjEKHVSZPq",
        "vxZkRrauSZPs",
        "fYa_sJvFSZPt",
        "KqWhx_IcSZPw",
        "8Ek-ETcWSZPx",
        "ViDlgXnNSZPz",
        "GorzFev_SZP1",
        "MncvkyIASZP8",
        "I_BxJ7xlSZP_",
        "iNRNwkvHSZQL",
        "4Qgzcg1NSZQS",
        "WRdWRSx2SZQZ",
        "jAmGhzmzSZQa",
        "9KLcb0xeSZQf",
        "TlEfKYHYSZQp",
        "sbiwOnxVSZQp",
        "oCPnOqLXSZQt",
        "KvEDh5K1SZQu",
        "YFySuu7nSZQv",
        "19pstnSwSZQz",
        "caD-sL60SZQ3",
        "82FYnusuSZQ8",
        "zwJrHrcJSZRF",
        "8NR16yAgSZRI",
        "JJhDSDHCSZRK"
      ]
    },
    "kernelspec": {
      "display_name": "Python 3",
      "language": "python",
      "name": "python3"
    }
  },
  "cells": [
    {
      "metadata": {
        "id": "miBedieiDl0d",
        "colab_type": "code",
        "colab": {}
      },
      "cell_type": "code",
      "source": [
        "!pip install -U -q PyDrive\n",
        "from pydrive.auth import GoogleAuth\n",
        "from pydrive.drive import GoogleDrive\n",
        "from google.colab import auth\n",
        "from oauth2client.client import GoogleCredentials\n",
        "# Authenticate and create the PyDrive client.\n",
        "auth.authenticate_user()\n",
        "gauth = GoogleAuth()\n",
        "gauth.credentials = GoogleCredentials.get_application_default()\n",
        "drive = GoogleDrive(gauth)"
      ],
      "execution_count": 0,
      "outputs": []
    },
    {
      "metadata": {
        "id": "HjfnuEGDF7d1",
        "colab_type": "code",
        "colab": {
          "base_uri": "https://localhost:8080/",
          "height": 52
        },
        "outputId": "05d9158b-5878-4334-867e-3200a4900dac"
      },
      "cell_type": "code",
      "source": [
        "link = 'https://drive.google.com/open?id=1QBZnoHedAcIlVZ3tagAnSZZ6LhXpIScd'\n",
        "link2= 'https://drive.google.com/open?id=1O16A69Xz5KWNwljGCHRzHTVqvo44VaKH'\n",
        "fluff, id1 = link.split('=')\n",
        "fluff, id2 = link2.split('=')\n",
        "print (id1)\n",
        "print (id2)# Verify that you have everything after '='\n",
        "downloaded1 = drive.CreateFile({'id':id1}) \n",
        "downloaded2 = drive.CreateFile({'id':id2}) \n",
        "downloaded.GetContentFile('application_train.csv') \n",
        "downloaded.GetContentFile('bureau.csv') \n",
        "df1read = pd.read_csv('application_train.csv')\n",
        "df4read = pd.read_csv('bureau.csv')"
      ],
      "execution_count": 19,
      "outputs": [
        {
          "output_type": "stream",
          "text": [
            "1QBZnoHedAcIlVZ3tagAnSZZ6LhXpIScd\n",
            "1O16A69Xz5KWNwljGCHRzHTVqvo44VaKH\n"
          ],
          "name": "stdout"
        }
      ]
    },
    {
      "metadata": {
        "id": "1OPuTho3SZNC",
        "colab_type": "code",
        "colab": {}
      },
      "cell_type": "code",
      "source": [
        "%matplotlib inline\n",
        "import json\n",
        "from pprint import pprint\n",
        "import os\n",
        "import numpy as np\n",
        "import pandas as pd\n",
        "import matplotlib.pyplot as plt\n",
        "from time import time\n",
        "import numpy as np\n",
        "import seaborn as sns\n",
        "from statistics import mean\n",
        "from matplotlib.pyplot import figure\n",
        "from IPython.core.interactiveshell import InteractiveShell\n",
        "InteractiveShell.ast_node_interactivity='all'\n",
        "pd.options.display.max_rows = 100\n",
        "pd.set_option('display.max_columns', 80)\n",
        "pd.set_option('display.max_rows', 80)\n",
        "from statistics import mean"
      ],
      "execution_count": 0,
      "outputs": []
    },
    {
      "metadata": {
        "id": "nQ12b7alSZNI",
        "colab_type": "text"
      },
      "cell_type": "markdown",
      "source": [
        "# Evaluating the credit worthiness of individuals with non-existent credit histories"
      ]
    },
    {
      "metadata": {
        "id": "KB3kcU9LSZNI",
        "colab_type": "text"
      },
      "cell_type": "markdown",
      "source": [
        "1) Many people struggle to get loans due to insufficient or non-existent credit histories. And, unfortunately, this population is often taken advantage of by untrustworthy lenders. Home Credit strives to broaden financial inclusion for the unbanked population by providing a positive and safe borrowing experience. In order to make sure this underserved population has a positive loan experience, Home Credit makes use of a variety of alternative data--including telco and transactional information to predict their clients' repayment abilities.\n",
        "\n",
        "2) For this competition, a data dictionary is provided. However, due to the nature of it, I was unable to liaise with business stakeholders to understand deeper some of the variables. My understanding would be restricted to the explanation given (some are rather short). There are variables that are encoded and the explanation do not mean much. This would influence my ability to feature engineer. However, workarounds would be used \n",
        "\n",
        "3) The objective of this project is to use a variety of data/information to predict their clients' repayment abilities\n",
        "\n",
        "4) For this competition, 7 datasets were provided. However, due to computational constraints, working on all 7 would be rather resource demanding. In addition, my purpose of this project was to work on data in a field which i would not usually handle and also to put into practise my knowledge/skills in a new area"
      ]
    },
    {
      "metadata": {
        "id": "3PSXZTeISZNM",
        "colab_type": "code",
        "colab": {}
      },
      "cell_type": "code",
      "source": [
        "df1=df1read.copy()\n",
        "df4=df4read.copy()"
      ],
      "execution_count": 0,
      "outputs": []
    },
    {
      "metadata": {
        "id": "bSywViz0SZNO",
        "colab_type": "text"
      },
      "cell_type": "markdown",
      "source": [
        "# Datasets used"
      ]
    },
    {
      "metadata": {
        "id": "NCSk_UyrSZNO",
        "colab_type": "text"
      },
      "cell_type": "markdown",
      "source": [
        "1. The Application Data contains background information that were given by individuals upon application for credit loans. It encompasses information such as Family, assets owned, education level, employment status.  \n",
        "<br>  \n",
        "2. The Bureau Data contains credit information of individuals that are held by the credit bureau. It encompasses information such as current loan ID, previous loan ID, time gap between current and previous loands, credit limit of credit cards reported and annuity of the credit bureau credit."
      ]
    },
    {
      "metadata": {
        "id": "kbjxIR8JSZNP",
        "colab_type": "text"
      },
      "cell_type": "markdown",
      "source": [
        "# Exploring the datasets\n",
        "## Application Data"
      ]
    },
    {
      "metadata": {
        "id": "h3oFWNykSZNP",
        "colab_type": "text"
      },
      "cell_type": "markdown",
      "source": [
        "\n",
        "2. Firstly basic data sanity checks are done on the Application Data\n",
        "    - The columns in the Dataframe\n",
        "    - Any NULL values\n",
        "    - Any Missing Values  \n",
        "<br>   \n",
        "3. Application Data information findings\n",
        "    - 307511 rows by 122 columns\n",
        "    - There are plenty of NULL rows in the dataset, meaning that there are quite alot of missing information present, which in the next section further analysis would be carried out"
      ]
    },
    {
      "metadata": {
        "id": "P_6oBzYbSZNQ",
        "colab_type": "code",
        "colab": {}
      },
      "cell_type": "code",
      "source": [
        "def Datacheck(df):\n",
        "        return df.shape,df.columns,df.isnull().any(),"
      ],
      "execution_count": 0,
      "outputs": []
    },
    {
      "metadata": {
        "scrolled": false,
        "id": "QBpiiCHnSZNS",
        "colab_type": "code",
        "outputId": "7686da41-7c80-4deb-a8c9-cef900378ece",
        "colab": {
          "base_uri": "https://localhost:8080/",
          "height": 1629
        }
      },
      "cell_type": "code",
      "source": [
        "Datacheck(df1)"
      ],
      "execution_count": 22,
      "outputs": [
        {
          "output_type": "execute_result",
          "data": {
            "text/plain": [
              "((307511, 122),\n",
              " Index(['SK_ID_CURR', 'TARGET', 'NAME_CONTRACT_TYPE', 'CODE_GENDER',\n",
              "        'FLAG_OWN_CAR', 'FLAG_OWN_REALTY', 'CNT_CHILDREN', 'AMT_INCOME_TOTAL',\n",
              "        'AMT_CREDIT', 'AMT_ANNUITY',\n",
              "        ...\n",
              "        'FLAG_DOCUMENT_18', 'FLAG_DOCUMENT_19', 'FLAG_DOCUMENT_20',\n",
              "        'FLAG_DOCUMENT_21', 'AMT_REQ_CREDIT_BUREAU_HOUR',\n",
              "        'AMT_REQ_CREDIT_BUREAU_DAY', 'AMT_REQ_CREDIT_BUREAU_WEEK',\n",
              "        'AMT_REQ_CREDIT_BUREAU_MON', 'AMT_REQ_CREDIT_BUREAU_QRT',\n",
              "        'AMT_REQ_CREDIT_BUREAU_YEAR'],\n",
              "       dtype='object', length=122),\n",
              " SK_ID_CURR                     False\n",
              " TARGET                         False\n",
              " NAME_CONTRACT_TYPE             False\n",
              " CODE_GENDER                    False\n",
              " FLAG_OWN_CAR                   False\n",
              " FLAG_OWN_REALTY                False\n",
              " CNT_CHILDREN                   False\n",
              " AMT_INCOME_TOTAL               False\n",
              " AMT_CREDIT                     False\n",
              " AMT_ANNUITY                     True\n",
              " AMT_GOODS_PRICE                 True\n",
              " NAME_TYPE_SUITE                 True\n",
              " NAME_INCOME_TYPE               False\n",
              " NAME_EDUCATION_TYPE            False\n",
              " NAME_FAMILY_STATUS             False\n",
              " NAME_HOUSING_TYPE              False\n",
              " REGION_POPULATION_RELATIVE     False\n",
              " DAYS_BIRTH                     False\n",
              " DAYS_EMPLOYED                  False\n",
              " DAYS_REGISTRATION              False\n",
              " DAYS_ID_PUBLISH                False\n",
              " OWN_CAR_AGE                     True\n",
              " FLAG_MOBIL                     False\n",
              " FLAG_EMP_PHONE                 False\n",
              " FLAG_WORK_PHONE                False\n",
              " FLAG_CONT_MOBILE               False\n",
              " FLAG_PHONE                     False\n",
              " FLAG_EMAIL                     False\n",
              " OCCUPATION_TYPE                 True\n",
              " CNT_FAM_MEMBERS                 True\n",
              " REGION_RATING_CLIENT           False\n",
              " REGION_RATING_CLIENT_W_CITY    False\n",
              " WEEKDAY_APPR_PROCESS_START     False\n",
              " HOUR_APPR_PROCESS_START        False\n",
              " REG_REGION_NOT_LIVE_REGION     False\n",
              " REG_REGION_NOT_WORK_REGION     False\n",
              " LIVE_REGION_NOT_WORK_REGION    False\n",
              " REG_CITY_NOT_LIVE_CITY         False\n",
              " REG_CITY_NOT_WORK_CITY         False\n",
              " LIVE_CITY_NOT_WORK_CITY        False\n",
              "                                ...  \n",
              " LIVINGAPARTMENTS_MEDI           True\n",
              " LIVINGAREA_MEDI                 True\n",
              " NONLIVINGAPARTMENTS_MEDI        True\n",
              " NONLIVINGAREA_MEDI              True\n",
              " FONDKAPREMONT_MODE              True\n",
              " HOUSETYPE_MODE                  True\n",
              " TOTALAREA_MODE                  True\n",
              " WALLSMATERIAL_MODE              True\n",
              " EMERGENCYSTATE_MODE             True\n",
              " OBS_30_CNT_SOCIAL_CIRCLE        True\n",
              " DEF_30_CNT_SOCIAL_CIRCLE        True\n",
              " OBS_60_CNT_SOCIAL_CIRCLE        True\n",
              " DEF_60_CNT_SOCIAL_CIRCLE        True\n",
              " DAYS_LAST_PHONE_CHANGE          True\n",
              " FLAG_DOCUMENT_2                False\n",
              " FLAG_DOCUMENT_3                False\n",
              " FLAG_DOCUMENT_4                False\n",
              " FLAG_DOCUMENT_5                False\n",
              " FLAG_DOCUMENT_6                False\n",
              " FLAG_DOCUMENT_7                False\n",
              " FLAG_DOCUMENT_8                False\n",
              " FLAG_DOCUMENT_9                False\n",
              " FLAG_DOCUMENT_10               False\n",
              " FLAG_DOCUMENT_11               False\n",
              " FLAG_DOCUMENT_12               False\n",
              " FLAG_DOCUMENT_13               False\n",
              " FLAG_DOCUMENT_14               False\n",
              " FLAG_DOCUMENT_15               False\n",
              " FLAG_DOCUMENT_16               False\n",
              " FLAG_DOCUMENT_17               False\n",
              " FLAG_DOCUMENT_18               False\n",
              " FLAG_DOCUMENT_19               False\n",
              " FLAG_DOCUMENT_20               False\n",
              " FLAG_DOCUMENT_21               False\n",
              " AMT_REQ_CREDIT_BUREAU_HOUR      True\n",
              " AMT_REQ_CREDIT_BUREAU_DAY       True\n",
              " AMT_REQ_CREDIT_BUREAU_WEEK      True\n",
              " AMT_REQ_CREDIT_BUREAU_MON       True\n",
              " AMT_REQ_CREDIT_BUREAU_QRT       True\n",
              " AMT_REQ_CREDIT_BUREAU_YEAR      True\n",
              " Length: 122, dtype: bool)"
            ]
          },
          "metadata": {
            "tags": []
          },
          "execution_count": 22
        }
      ]
    },
    {
      "metadata": {
        "id": "h5v7WcAwSZNW",
        "colab_type": "text"
      },
      "cell_type": "markdown",
      "source": [
        "### What variables are important/selected?"
      ]
    },
    {
      "metadata": {
        "id": "Irq-qQ11SZNX",
        "colab_type": "text"
      },
      "cell_type": "markdown",
      "source": [
        "1. The data dictionary contains the description of all the 122 columns found in the application dataset. However, there are quite a number of columns where there are insufficient information given from the descriptors. These would include cases like housing information and whether applicant has provided certain documents.  \n",
        "\n",
        "2. In addition, the large number of columns with missing dataset might pose a problem in the modelling process and might be unusable. These columns with missing data would need to be dealt with, through imputation or dropping whole columns totally.  \n",
        "\n",
        "3. Despite the missingness, some variables might hold important information on the credit worthiness of an individual. As such, it will still be assessed on a case by case basis.  \n",
        "  \n",
        "3. In the next section, analysis on the missing values will be done"
      ]
    },
    {
      "metadata": {
        "id": "xDVIUVm6SZNY",
        "colab_type": "text"
      },
      "cell_type": "markdown",
      "source": [
        "### Analysing Missing Values"
      ]
    },
    {
      "metadata": {
        "id": "-qSwMavJSZNY",
        "colab_type": "text"
      },
      "cell_type": "markdown",
      "source": [
        "1. Initial check revealed many variables with null values  \n",
        "\n",
        "2. To take a closer look, a function is written to scan through the variables and return the percentage missing values\n",
        "    - There are 122 columns and out of these 67 columns have missing values.\n",
        "    - The missing values had columns with up to 69.9% missing.   \n",
        "\n",
        "3. On closer inspection with reference to the data dictionary, large portion of the missing values are Housing information. Typically, credit scores are used by lenders when trying to assess the application to determine the risk that is undertaken,ie the creditworthiness of an individual.  \n",
        "\n",
        "4. Usually, housing information would be taken into consideration as it is a huge financial involvement. An individual with huge housing loans to their salary/income inflow will usually be considered as a higher risk applicant by lending agencies. This in turn would affect the credit score of individuals.\n",
        "\n",
        "**According to Credit Bureau Singapore website:**\n",
        "> A credit Score is a number used by lenders as an indicator of how likely an individual is to repay his debts and the probability of going into default. It is an independent assessment of the individual's risk as a credit applicant."
      ]
    },
    {
      "metadata": {
        "id": "m9jcDKb1SZNZ",
        "colab_type": "code",
        "outputId": "eb375181-b42b-439d-dd80-79c0be621742",
        "colab": {
          "base_uri": "https://localhost:8080/",
          "height": 1179
        }
      },
      "cell_type": "code",
      "source": [
        "# Taking a closer look at variables with null values\n",
        "df1.columns[df1.isna().any()].tolist()"
      ],
      "execution_count": 23,
      "outputs": [
        {
          "output_type": "execute_result",
          "data": {
            "text/plain": [
              "['AMT_ANNUITY',\n",
              " 'AMT_GOODS_PRICE',\n",
              " 'NAME_TYPE_SUITE',\n",
              " 'OWN_CAR_AGE',\n",
              " 'OCCUPATION_TYPE',\n",
              " 'CNT_FAM_MEMBERS',\n",
              " 'EXT_SOURCE_1',\n",
              " 'EXT_SOURCE_2',\n",
              " 'EXT_SOURCE_3',\n",
              " 'APARTMENTS_AVG',\n",
              " 'BASEMENTAREA_AVG',\n",
              " 'YEARS_BEGINEXPLUATATION_AVG',\n",
              " 'YEARS_BUILD_AVG',\n",
              " 'COMMONAREA_AVG',\n",
              " 'ELEVATORS_AVG',\n",
              " 'ENTRANCES_AVG',\n",
              " 'FLOORSMAX_AVG',\n",
              " 'FLOORSMIN_AVG',\n",
              " 'LANDAREA_AVG',\n",
              " 'LIVINGAPARTMENTS_AVG',\n",
              " 'LIVINGAREA_AVG',\n",
              " 'NONLIVINGAPARTMENTS_AVG',\n",
              " 'NONLIVINGAREA_AVG',\n",
              " 'APARTMENTS_MODE',\n",
              " 'BASEMENTAREA_MODE',\n",
              " 'YEARS_BEGINEXPLUATATION_MODE',\n",
              " 'YEARS_BUILD_MODE',\n",
              " 'COMMONAREA_MODE',\n",
              " 'ELEVATORS_MODE',\n",
              " 'ENTRANCES_MODE',\n",
              " 'FLOORSMAX_MODE',\n",
              " 'FLOORSMIN_MODE',\n",
              " 'LANDAREA_MODE',\n",
              " 'LIVINGAPARTMENTS_MODE',\n",
              " 'LIVINGAREA_MODE',\n",
              " 'NONLIVINGAPARTMENTS_MODE',\n",
              " 'NONLIVINGAREA_MODE',\n",
              " 'APARTMENTS_MEDI',\n",
              " 'BASEMENTAREA_MEDI',\n",
              " 'YEARS_BEGINEXPLUATATION_MEDI',\n",
              " 'YEARS_BUILD_MEDI',\n",
              " 'COMMONAREA_MEDI',\n",
              " 'ELEVATORS_MEDI',\n",
              " 'ENTRANCES_MEDI',\n",
              " 'FLOORSMAX_MEDI',\n",
              " 'FLOORSMIN_MEDI',\n",
              " 'LANDAREA_MEDI',\n",
              " 'LIVINGAPARTMENTS_MEDI',\n",
              " 'LIVINGAREA_MEDI',\n",
              " 'NONLIVINGAPARTMENTS_MEDI',\n",
              " 'NONLIVINGAREA_MEDI',\n",
              " 'FONDKAPREMONT_MODE',\n",
              " 'HOUSETYPE_MODE',\n",
              " 'TOTALAREA_MODE',\n",
              " 'WALLSMATERIAL_MODE',\n",
              " 'EMERGENCYSTATE_MODE',\n",
              " 'OBS_30_CNT_SOCIAL_CIRCLE',\n",
              " 'DEF_30_CNT_SOCIAL_CIRCLE',\n",
              " 'OBS_60_CNT_SOCIAL_CIRCLE',\n",
              " 'DEF_60_CNT_SOCIAL_CIRCLE',\n",
              " 'DAYS_LAST_PHONE_CHANGE',\n",
              " 'AMT_REQ_CREDIT_BUREAU_HOUR',\n",
              " 'AMT_REQ_CREDIT_BUREAU_DAY',\n",
              " 'AMT_REQ_CREDIT_BUREAU_WEEK',\n",
              " 'AMT_REQ_CREDIT_BUREAU_MON',\n",
              " 'AMT_REQ_CREDIT_BUREAU_QRT',\n",
              " 'AMT_REQ_CREDIT_BUREAU_YEAR']"
            ]
          },
          "metadata": {
            "tags": []
          },
          "execution_count": 23
        }
      ]
    },
    {
      "metadata": {
        "id": "bP5b-GDhSZNb",
        "colab_type": "code",
        "colab": {}
      },
      "cell_type": "code",
      "source": [
        "def missing_values_table(df):\n",
        "        # Total missing values\n",
        "        mis_val = df.isnull().sum()\n",
        "        \n",
        "        # Percentage of missing values\n",
        "        mis_val_percent = 100 * df.isnull().sum() / len(df)\n",
        "        \n",
        "        # Make a table with the results\n",
        "        mis_val_table = pd.concat([mis_val, mis_val_percent], axis=1)\n",
        "        \n",
        "        # Rename the columns\n",
        "        mis_val_table_ren_columns = mis_val_table.rename(\n",
        "        columns = {0 : 'Missing Values', 1 : '% of Total Values'})\n",
        "        \n",
        "        # Sort the table by percentage of missing descending\n",
        "        mis_val_table_ren_columns = mis_val_table_ren_columns[\n",
        "            mis_val_table_ren_columns.iloc[:,1] != 0].sort_values(\n",
        "        '% of Total Values', ascending=False).round(1)\n",
        "        \n",
        "        # Print some summary information\n",
        "        print (\"Your selected dataframe has \" + str(df.shape[1]) + \" columns.\\n\"      \n",
        "            \"There are \" + str(mis_val_table_ren_columns.shape[0]) +\n",
        "              \" columns that have missing values.\")\n",
        "        \n",
        "        # Return the dataframe with missing information\n",
        "        return mis_val_table_ren_columns"
      ],
      "execution_count": 0,
      "outputs": []
    },
    {
      "metadata": {
        "scrolled": false,
        "id": "xC_A-3u3SZNe",
        "colab_type": "code",
        "outputId": "5ac3bd11-3362-46c6-e29d-7dbaa72365bb",
        "colab": {
          "base_uri": "https://localhost:8080/",
          "height": 2138
        }
      },
      "cell_type": "code",
      "source": [
        "missing_values = missing_values_table(df1)\n",
        "missing_values.head(67)"
      ],
      "execution_count": 25,
      "outputs": [
        {
          "output_type": "stream",
          "text": [
            "Your selected dataframe has 122 columns.\n",
            "There are 67 columns that have missing values.\n"
          ],
          "name": "stdout"
        },
        {
          "output_type": "execute_result",
          "data": {
            "text/html": [
              "<div>\n",
              "<style scoped>\n",
              "    .dataframe tbody tr th:only-of-type {\n",
              "        vertical-align: middle;\n",
              "    }\n",
              "\n",
              "    .dataframe tbody tr th {\n",
              "        vertical-align: top;\n",
              "    }\n",
              "\n",
              "    .dataframe thead th {\n",
              "        text-align: right;\n",
              "    }\n",
              "</style>\n",
              "<table border=\"1\" class=\"dataframe\">\n",
              "  <thead>\n",
              "    <tr style=\"text-align: right;\">\n",
              "      <th></th>\n",
              "      <th>Missing Values</th>\n",
              "      <th>% of Total Values</th>\n",
              "    </tr>\n",
              "  </thead>\n",
              "  <tbody>\n",
              "    <tr>\n",
              "      <th>COMMONAREA_MEDI</th>\n",
              "      <td>214865</td>\n",
              "      <td>69.9</td>\n",
              "    </tr>\n",
              "    <tr>\n",
              "      <th>COMMONAREA_AVG</th>\n",
              "      <td>214865</td>\n",
              "      <td>69.9</td>\n",
              "    </tr>\n",
              "    <tr>\n",
              "      <th>COMMONAREA_MODE</th>\n",
              "      <td>214865</td>\n",
              "      <td>69.9</td>\n",
              "    </tr>\n",
              "    <tr>\n",
              "      <th>NONLIVINGAPARTMENTS_MEDI</th>\n",
              "      <td>213514</td>\n",
              "      <td>69.4</td>\n",
              "    </tr>\n",
              "    <tr>\n",
              "      <th>NONLIVINGAPARTMENTS_MODE</th>\n",
              "      <td>213514</td>\n",
              "      <td>69.4</td>\n",
              "    </tr>\n",
              "    <tr>\n",
              "      <th>NONLIVINGAPARTMENTS_AVG</th>\n",
              "      <td>213514</td>\n",
              "      <td>69.4</td>\n",
              "    </tr>\n",
              "    <tr>\n",
              "      <th>FONDKAPREMONT_MODE</th>\n",
              "      <td>210295</td>\n",
              "      <td>68.4</td>\n",
              "    </tr>\n",
              "    <tr>\n",
              "      <th>LIVINGAPARTMENTS_MODE</th>\n",
              "      <td>210199</td>\n",
              "      <td>68.4</td>\n",
              "    </tr>\n",
              "    <tr>\n",
              "      <th>LIVINGAPARTMENTS_MEDI</th>\n",
              "      <td>210199</td>\n",
              "      <td>68.4</td>\n",
              "    </tr>\n",
              "    <tr>\n",
              "      <th>LIVINGAPARTMENTS_AVG</th>\n",
              "      <td>210199</td>\n",
              "      <td>68.4</td>\n",
              "    </tr>\n",
              "    <tr>\n",
              "      <th>FLOORSMIN_MODE</th>\n",
              "      <td>208642</td>\n",
              "      <td>67.8</td>\n",
              "    </tr>\n",
              "    <tr>\n",
              "      <th>FLOORSMIN_MEDI</th>\n",
              "      <td>208642</td>\n",
              "      <td>67.8</td>\n",
              "    </tr>\n",
              "    <tr>\n",
              "      <th>FLOORSMIN_AVG</th>\n",
              "      <td>208642</td>\n",
              "      <td>67.8</td>\n",
              "    </tr>\n",
              "    <tr>\n",
              "      <th>YEARS_BUILD_MODE</th>\n",
              "      <td>204488</td>\n",
              "      <td>66.5</td>\n",
              "    </tr>\n",
              "    <tr>\n",
              "      <th>YEARS_BUILD_MEDI</th>\n",
              "      <td>204488</td>\n",
              "      <td>66.5</td>\n",
              "    </tr>\n",
              "    <tr>\n",
              "      <th>YEARS_BUILD_AVG</th>\n",
              "      <td>204488</td>\n",
              "      <td>66.5</td>\n",
              "    </tr>\n",
              "    <tr>\n",
              "      <th>OWN_CAR_AGE</th>\n",
              "      <td>202929</td>\n",
              "      <td>66.0</td>\n",
              "    </tr>\n",
              "    <tr>\n",
              "      <th>LANDAREA_AVG</th>\n",
              "      <td>182590</td>\n",
              "      <td>59.4</td>\n",
              "    </tr>\n",
              "    <tr>\n",
              "      <th>LANDAREA_MEDI</th>\n",
              "      <td>182590</td>\n",
              "      <td>59.4</td>\n",
              "    </tr>\n",
              "    <tr>\n",
              "      <th>LANDAREA_MODE</th>\n",
              "      <td>182590</td>\n",
              "      <td>59.4</td>\n",
              "    </tr>\n",
              "    <tr>\n",
              "      <th>BASEMENTAREA_MEDI</th>\n",
              "      <td>179943</td>\n",
              "      <td>58.5</td>\n",
              "    </tr>\n",
              "    <tr>\n",
              "      <th>BASEMENTAREA_AVG</th>\n",
              "      <td>179943</td>\n",
              "      <td>58.5</td>\n",
              "    </tr>\n",
              "    <tr>\n",
              "      <th>BASEMENTAREA_MODE</th>\n",
              "      <td>179943</td>\n",
              "      <td>58.5</td>\n",
              "    </tr>\n",
              "    <tr>\n",
              "      <th>EXT_SOURCE_1</th>\n",
              "      <td>173378</td>\n",
              "      <td>56.4</td>\n",
              "    </tr>\n",
              "    <tr>\n",
              "      <th>NONLIVINGAREA_MEDI</th>\n",
              "      <td>169682</td>\n",
              "      <td>55.2</td>\n",
              "    </tr>\n",
              "    <tr>\n",
              "      <th>NONLIVINGAREA_MODE</th>\n",
              "      <td>169682</td>\n",
              "      <td>55.2</td>\n",
              "    </tr>\n",
              "    <tr>\n",
              "      <th>NONLIVINGAREA_AVG</th>\n",
              "      <td>169682</td>\n",
              "      <td>55.2</td>\n",
              "    </tr>\n",
              "    <tr>\n",
              "      <th>ELEVATORS_MEDI</th>\n",
              "      <td>163891</td>\n",
              "      <td>53.3</td>\n",
              "    </tr>\n",
              "    <tr>\n",
              "      <th>ELEVATORS_MODE</th>\n",
              "      <td>163891</td>\n",
              "      <td>53.3</td>\n",
              "    </tr>\n",
              "    <tr>\n",
              "      <th>ELEVATORS_AVG</th>\n",
              "      <td>163891</td>\n",
              "      <td>53.3</td>\n",
              "    </tr>\n",
              "    <tr>\n",
              "      <th>WALLSMATERIAL_MODE</th>\n",
              "      <td>156341</td>\n",
              "      <td>50.8</td>\n",
              "    </tr>\n",
              "    <tr>\n",
              "      <th>APARTMENTS_MODE</th>\n",
              "      <td>156061</td>\n",
              "      <td>50.7</td>\n",
              "    </tr>\n",
              "    <tr>\n",
              "      <th>APARTMENTS_MEDI</th>\n",
              "      <td>156061</td>\n",
              "      <td>50.7</td>\n",
              "    </tr>\n",
              "    <tr>\n",
              "      <th>APARTMENTS_AVG</th>\n",
              "      <td>156061</td>\n",
              "      <td>50.7</td>\n",
              "    </tr>\n",
              "    <tr>\n",
              "      <th>ENTRANCES_MODE</th>\n",
              "      <td>154828</td>\n",
              "      <td>50.3</td>\n",
              "    </tr>\n",
              "    <tr>\n",
              "      <th>ENTRANCES_AVG</th>\n",
              "      <td>154828</td>\n",
              "      <td>50.3</td>\n",
              "    </tr>\n",
              "    <tr>\n",
              "      <th>ENTRANCES_MEDI</th>\n",
              "      <td>154828</td>\n",
              "      <td>50.3</td>\n",
              "    </tr>\n",
              "    <tr>\n",
              "      <th>LIVINGAREA_MEDI</th>\n",
              "      <td>154350</td>\n",
              "      <td>50.2</td>\n",
              "    </tr>\n",
              "    <tr>\n",
              "      <th>LIVINGAREA_MODE</th>\n",
              "      <td>154350</td>\n",
              "      <td>50.2</td>\n",
              "    </tr>\n",
              "    <tr>\n",
              "      <th>LIVINGAREA_AVG</th>\n",
              "      <td>154350</td>\n",
              "      <td>50.2</td>\n",
              "    </tr>\n",
              "    <tr>\n",
              "      <th>HOUSETYPE_MODE</th>\n",
              "      <td>154297</td>\n",
              "      <td>50.2</td>\n",
              "    </tr>\n",
              "    <tr>\n",
              "      <th>FLOORSMAX_MEDI</th>\n",
              "      <td>153020</td>\n",
              "      <td>49.8</td>\n",
              "    </tr>\n",
              "    <tr>\n",
              "      <th>FLOORSMAX_AVG</th>\n",
              "      <td>153020</td>\n",
              "      <td>49.8</td>\n",
              "    </tr>\n",
              "    <tr>\n",
              "      <th>FLOORSMAX_MODE</th>\n",
              "      <td>153020</td>\n",
              "      <td>49.8</td>\n",
              "    </tr>\n",
              "    <tr>\n",
              "      <th>YEARS_BEGINEXPLUATATION_AVG</th>\n",
              "      <td>150007</td>\n",
              "      <td>48.8</td>\n",
              "    </tr>\n",
              "    <tr>\n",
              "      <th>YEARS_BEGINEXPLUATATION_MEDI</th>\n",
              "      <td>150007</td>\n",
              "      <td>48.8</td>\n",
              "    </tr>\n",
              "    <tr>\n",
              "      <th>YEARS_BEGINEXPLUATATION_MODE</th>\n",
              "      <td>150007</td>\n",
              "      <td>48.8</td>\n",
              "    </tr>\n",
              "    <tr>\n",
              "      <th>TOTALAREA_MODE</th>\n",
              "      <td>148431</td>\n",
              "      <td>48.3</td>\n",
              "    </tr>\n",
              "    <tr>\n",
              "      <th>EMERGENCYSTATE_MODE</th>\n",
              "      <td>145755</td>\n",
              "      <td>47.4</td>\n",
              "    </tr>\n",
              "    <tr>\n",
              "      <th>OCCUPATION_TYPE</th>\n",
              "      <td>96391</td>\n",
              "      <td>31.3</td>\n",
              "    </tr>\n",
              "    <tr>\n",
              "      <th>EXT_SOURCE_3</th>\n",
              "      <td>60965</td>\n",
              "      <td>19.8</td>\n",
              "    </tr>\n",
              "    <tr>\n",
              "      <th>AMT_REQ_CREDIT_BUREAU_WEEK</th>\n",
              "      <td>41519</td>\n",
              "      <td>13.5</td>\n",
              "    </tr>\n",
              "    <tr>\n",
              "      <th>AMT_REQ_CREDIT_BUREAU_DAY</th>\n",
              "      <td>41519</td>\n",
              "      <td>13.5</td>\n",
              "    </tr>\n",
              "    <tr>\n",
              "      <th>AMT_REQ_CREDIT_BUREAU_MON</th>\n",
              "      <td>41519</td>\n",
              "      <td>13.5</td>\n",
              "    </tr>\n",
              "    <tr>\n",
              "      <th>AMT_REQ_CREDIT_BUREAU_QRT</th>\n",
              "      <td>41519</td>\n",
              "      <td>13.5</td>\n",
              "    </tr>\n",
              "    <tr>\n",
              "      <th>AMT_REQ_CREDIT_BUREAU_HOUR</th>\n",
              "      <td>41519</td>\n",
              "      <td>13.5</td>\n",
              "    </tr>\n",
              "    <tr>\n",
              "      <th>AMT_REQ_CREDIT_BUREAU_YEAR</th>\n",
              "      <td>41519</td>\n",
              "      <td>13.5</td>\n",
              "    </tr>\n",
              "    <tr>\n",
              "      <th>NAME_TYPE_SUITE</th>\n",
              "      <td>1292</td>\n",
              "      <td>0.4</td>\n",
              "    </tr>\n",
              "    <tr>\n",
              "      <th>DEF_30_CNT_SOCIAL_CIRCLE</th>\n",
              "      <td>1021</td>\n",
              "      <td>0.3</td>\n",
              "    </tr>\n",
              "    <tr>\n",
              "      <th>OBS_60_CNT_SOCIAL_CIRCLE</th>\n",
              "      <td>1021</td>\n",
              "      <td>0.3</td>\n",
              "    </tr>\n",
              "    <tr>\n",
              "      <th>DEF_60_CNT_SOCIAL_CIRCLE</th>\n",
              "      <td>1021</td>\n",
              "      <td>0.3</td>\n",
              "    </tr>\n",
              "    <tr>\n",
              "      <th>OBS_30_CNT_SOCIAL_CIRCLE</th>\n",
              "      <td>1021</td>\n",
              "      <td>0.3</td>\n",
              "    </tr>\n",
              "    <tr>\n",
              "      <th>EXT_SOURCE_2</th>\n",
              "      <td>660</td>\n",
              "      <td>0.2</td>\n",
              "    </tr>\n",
              "    <tr>\n",
              "      <th>AMT_GOODS_PRICE</th>\n",
              "      <td>278</td>\n",
              "      <td>0.1</td>\n",
              "    </tr>\n",
              "    <tr>\n",
              "      <th>AMT_ANNUITY</th>\n",
              "      <td>12</td>\n",
              "      <td>0.0</td>\n",
              "    </tr>\n",
              "    <tr>\n",
              "      <th>CNT_FAM_MEMBERS</th>\n",
              "      <td>2</td>\n",
              "      <td>0.0</td>\n",
              "    </tr>\n",
              "    <tr>\n",
              "      <th>DAYS_LAST_PHONE_CHANGE</th>\n",
              "      <td>1</td>\n",
              "      <td>0.0</td>\n",
              "    </tr>\n",
              "  </tbody>\n",
              "</table>\n",
              "</div>"
            ],
            "text/plain": [
              "                              Missing Values  % of Total Values\n",
              "COMMONAREA_MEDI                       214865               69.9\n",
              "COMMONAREA_AVG                        214865               69.9\n",
              "COMMONAREA_MODE                       214865               69.9\n",
              "NONLIVINGAPARTMENTS_MEDI              213514               69.4\n",
              "NONLIVINGAPARTMENTS_MODE              213514               69.4\n",
              "NONLIVINGAPARTMENTS_AVG               213514               69.4\n",
              "FONDKAPREMONT_MODE                    210295               68.4\n",
              "LIVINGAPARTMENTS_MODE                 210199               68.4\n",
              "LIVINGAPARTMENTS_MEDI                 210199               68.4\n",
              "LIVINGAPARTMENTS_AVG                  210199               68.4\n",
              "FLOORSMIN_MODE                        208642               67.8\n",
              "FLOORSMIN_MEDI                        208642               67.8\n",
              "FLOORSMIN_AVG                         208642               67.8\n",
              "YEARS_BUILD_MODE                      204488               66.5\n",
              "YEARS_BUILD_MEDI                      204488               66.5\n",
              "YEARS_BUILD_AVG                       204488               66.5\n",
              "OWN_CAR_AGE                           202929               66.0\n",
              "LANDAREA_AVG                          182590               59.4\n",
              "LANDAREA_MEDI                         182590               59.4\n",
              "LANDAREA_MODE                         182590               59.4\n",
              "BASEMENTAREA_MEDI                     179943               58.5\n",
              "BASEMENTAREA_AVG                      179943               58.5\n",
              "BASEMENTAREA_MODE                     179943               58.5\n",
              "EXT_SOURCE_1                          173378               56.4\n",
              "NONLIVINGAREA_MEDI                    169682               55.2\n",
              "NONLIVINGAREA_MODE                    169682               55.2\n",
              "NONLIVINGAREA_AVG                     169682               55.2\n",
              "ELEVATORS_MEDI                        163891               53.3\n",
              "ELEVATORS_MODE                        163891               53.3\n",
              "ELEVATORS_AVG                         163891               53.3\n",
              "WALLSMATERIAL_MODE                    156341               50.8\n",
              "APARTMENTS_MODE                       156061               50.7\n",
              "APARTMENTS_MEDI                       156061               50.7\n",
              "APARTMENTS_AVG                        156061               50.7\n",
              "ENTRANCES_MODE                        154828               50.3\n",
              "ENTRANCES_AVG                         154828               50.3\n",
              "ENTRANCES_MEDI                        154828               50.3\n",
              "LIVINGAREA_MEDI                       154350               50.2\n",
              "LIVINGAREA_MODE                       154350               50.2\n",
              "LIVINGAREA_AVG                        154350               50.2\n",
              "HOUSETYPE_MODE                        154297               50.2\n",
              "FLOORSMAX_MEDI                        153020               49.8\n",
              "FLOORSMAX_AVG                         153020               49.8\n",
              "FLOORSMAX_MODE                        153020               49.8\n",
              "YEARS_BEGINEXPLUATATION_AVG           150007               48.8\n",
              "YEARS_BEGINEXPLUATATION_MEDI          150007               48.8\n",
              "YEARS_BEGINEXPLUATATION_MODE          150007               48.8\n",
              "TOTALAREA_MODE                        148431               48.3\n",
              "EMERGENCYSTATE_MODE                   145755               47.4\n",
              "OCCUPATION_TYPE                        96391               31.3\n",
              "EXT_SOURCE_3                           60965               19.8\n",
              "AMT_REQ_CREDIT_BUREAU_WEEK             41519               13.5\n",
              "AMT_REQ_CREDIT_BUREAU_DAY              41519               13.5\n",
              "AMT_REQ_CREDIT_BUREAU_MON              41519               13.5\n",
              "AMT_REQ_CREDIT_BUREAU_QRT              41519               13.5\n",
              "AMT_REQ_CREDIT_BUREAU_HOUR             41519               13.5\n",
              "AMT_REQ_CREDIT_BUREAU_YEAR             41519               13.5\n",
              "NAME_TYPE_SUITE                         1292                0.4\n",
              "DEF_30_CNT_SOCIAL_CIRCLE                1021                0.3\n",
              "OBS_60_CNT_SOCIAL_CIRCLE                1021                0.3\n",
              "DEF_60_CNT_SOCIAL_CIRCLE                1021                0.3\n",
              "OBS_30_CNT_SOCIAL_CIRCLE                1021                0.3\n",
              "EXT_SOURCE_2                             660                0.2\n",
              "AMT_GOODS_PRICE                          278                0.1\n",
              "AMT_ANNUITY                               12                0.0\n",
              "CNT_FAM_MEMBERS                            2                0.0\n",
              "DAYS_LAST_PHONE_CHANGE                     1                0.0"
            ]
          },
          "metadata": {
            "tags": []
          },
          "execution_count": 25
        }
      ]
    },
    {
      "metadata": {
        "id": "p0xBLV_9SZNg",
        "colab_type": "text"
      },
      "cell_type": "markdown",
      "source": [
        "### Housing Information\n",
        "1. Almost 50% of the Application data have missing data in the columns. Moreover, most of them are housing related information and they are missing to a large degree where imputation methods would not be feasible without introducing assumptions and bias into the dataset.  \n",
        "\n",
        "2. In order to get a sensing if housing information did have a significant impact on the default rate, I decided to use a statistical test to make a decision on whether having a larger proportion of housing information missing resulted in a significant difference in the default rate  \n",
        "\n",
        "3. Lets analyse the missing housing information\n",
        "    - The percentage of missing values ranged from 69.9% to 48.% for the housing features\n",
        "    - The percentage of applicant housing information missingness ranges from 4.9% to 55%. There were no applications with 100% housing information\n",
        "    - In credit analysis, an individual's housing information plays a huge part on whether a person is able to return the loan taken.\n",
        "    - A highly valued property would mean that the individual has a level of financial strength \n",
        "    - However, an individual's leverage (based on other mortgages, outstanding loands, houshold liabilities) also needs to be taken into consideration\n",
        "    - By taking the mean of default ratio, we can see that there is a difference here. Applicants who did not fill in more than 50% of the forms are ~20% more likely to default.  \n",
        "\n",
        "4. Due to a huge range of missingness, a simple hypothesis test is done to ascertain if this difference in default ratio is statistically significant\n",
        "    - 30% housing information missingness is determined to be the cutoff for complete or incomplete housing information.Applcations with less than 30% missing housing information would be considered as completed.\n",
        "    - <b>Null hypothesis</b>: Assumes that there is no association between the completeness of Housing Information and mean default rate.\n",
        "    - <b>Alternative hypothesis</b>: Assumes that there is an association between the two variables.  \n",
        "\n",
        "5. The null hypothesis states that there is no statistical significance in the difference in the mean default rate between the 2 application groups (incomplete=1/0)\n",
        "    - Using Chi-Square test, Null Hypothesis is rejected. There is a statistically significant difference between the 2 groups.\n",
        "    - This engineered feature that indicates whether application is above a certain threshold could be taken into account when building models.\n"
      ]
    },
    {
      "metadata": {
        "id": "s2iF9OCLSZNh",
        "colab_type": "text"
      },
      "cell_type": "markdown",
      "source": [
        "#### Statistical Testing for Housing Data Missing Values"
      ]
    },
    {
      "metadata": {
        "id": "rlS0kg4PSZNi",
        "colab_type": "code",
        "colab": {}
      },
      "cell_type": "code",
      "source": [
        "# Looking at the Min and Max filled rate across the rows\n",
        "def applicationinfo_missing(df):\n",
        "        # Total filled columns for each row\n",
        "        applicantmis_max=(max(df[missing_values.index].count(axis=1)))/122*100\n",
        "        applicantmis_min=(min(df[missing_values.index].count(axis=1)))/122*100\n",
        "        \n",
        "        # Print some summary information\n",
        "        print (\"MAX missing application info: {} \".format(applicantmis_max) + \"\\n\"      \n",
        "            \"MIN missing application info: {} \".format(applicantmis_min))\n"
      ],
      "execution_count": 0,
      "outputs": []
    },
    {
      "metadata": {
        "id": "i9tu3_KeSZNk",
        "colab_type": "code",
        "outputId": "1c988ea1-a0fe-43de-f3cd-2ddcfa3e3457",
        "colab": {}
      },
      "cell_type": "code",
      "source": [
        "applicationinfo_missing(df1)"
      ],
      "execution_count": 0,
      "outputs": [
        {
          "output_type": "stream",
          "text": [
            "MAX missing application info: 54.91803278688525 \n",
            "MIN missing application info: 4.918032786885246 \n"
          ],
          "name": "stdout"
        }
      ]
    },
    {
      "metadata": {
        "id": "vZ_LnCr0SZNm",
        "colab_type": "code",
        "outputId": "303c863b-fccc-4ef6-9a58-f74e74da2bb9",
        "colab": {}
      },
      "cell_type": "code",
      "source": [
        "#creating a new column to indicate if application is considered complete. \n",
        "# since most of the Housing information are >50% incomplete, set threshold as 50%\n",
        "df1['housingincomplete'] = 1\n",
        "df1.loc[df1.isnull().sum(axis=1) < 30, 'housingincomplete'] = 0\n",
        "\n",
        "mean_c = np.mean(df1.loc[df1['housingincomplete'] == 0, 'TARGET'].values)\n",
        "mean_i = np.mean(df1.loc[df1['housingincomplete'] == 1, 'TARGET'].values)\n",
        "print('default ratio for more complete applications: {:.2} \\ndefault ratio for less complete applications: {:.2}'.format(mean_c, mean_i))"
      ],
      "execution_count": 0,
      "outputs": [
        {
          "output_type": "stream",
          "text": [
            "default ratio for more complete applications: 0.069 \n",
            "default ratio for less complete applications: 0.091\n"
          ],
          "name": "stdout"
        }
      ]
    },
    {
      "metadata": {
        "id": "q5Yk-a2wSZNr",
        "colab_type": "code",
        "outputId": "c98d68f5-f59d-4a30-c2d2-887fb91d8a00",
        "colab": {}
      },
      "cell_type": "code",
      "source": [
        "from scipy.stats import chisquare\n",
        "\n",
        "arrayinput = pd.crosstab(df1.housingincomplete, df1.TARGET)\n",
        "output = chisquare(arrayinput)\n",
        "print(arrayinput, \"\\n p-value= \", output[1])"
      ],
      "execution_count": 0,
      "outputs": [
        {
          "output_type": "stream",
          "text": [
            "TARGET                  0      1\n",
            "housingincomplete               \n",
            "0                  136641  10153\n",
            "1                  146045  14672 \n",
            " p-value=  [5.25736999e-070 6.54231577e-181]\n"
          ],
          "name": "stdout"
        }
      ]
    },
    {
      "metadata": {
        "id": "7HCFpEqXSZNv",
        "colab_type": "text"
      },
      "cell_type": "markdown",
      "source": [
        "## Number of Credit enquiries before current application\n",
        "### Analyzing the AMT_REQ_CREDIT_BUREAU_YEAR/QRT/MON/HOUR/WEEK/HOUR\n",
        "\n",
        "1. Enquiry Activity refers to the number of new application enquiries found in an individual's credit. Whenever there is a new loan application(credit card, loan facilities), a potential bank/financial institution will make an enquiry into the individual's credit report. A higher credit query would indicate a riskier behaviour, as more debt is being acquired by the individual. We would like to capture this information in the data.\n",
        "\n",
        "2. Having too many enquiries into the credit report would indicate to lenders that I am trying to take on more debt, and thus increasing credit exposure.\n",
        "\n",
        "3. There are 2 ways to look into this\n",
        "\n",
        "> a) **Segmenting the applicants based on frequency of query**. We can observe the average daily query frequency ( over last month, week, day), and give a ranking to each individual with respect to the population of applicants. Above a certain frequency ( <25%), they would be ranked differently from (75%-25%) and those with (>75%) frequency. By doing so, we are ranking individuals based on how frequent they are taking a loan. \n",
        "\n",
        ">b) **Changes in frequency of query over the months**. However, the above method would be limited as frequency on taking loan itself is contigent on factors like age, income etc. We would also like to analyze and capture the recent query patterns, ie. if there are any large deviation from the norm frequency of each individual. In order to do so, one possible method would be to derive ratios between their average daily frequency between month/week, week/day.   \n"
      ]
    },
    {
      "metadata": {
        "id": "xCJ17sbPSZNw",
        "colab_type": "code",
        "outputId": "5b8f35d8-fa8f-44b8-be2d-757e0b5d2db8",
        "colab": {}
      },
      "cell_type": "code",
      "source": [
        "list=['AMT_REQ_CREDIT_BUREAU_HOUR','AMT_REQ_CREDIT_BUREAU_QRT','AMT_REQ_CREDIT_BUREAU_MON','AMT_REQ_CREDIT_BUREAU_WEEK','AMT_REQ_CREDIT_BUREAU_DAY','AMT_REQ_CREDIT_BUREAU_HOUR']\n",
        "df_creditqueries=df1.loc[:,list]\n",
        "df_creditqueries['AMT_REQ_CREDIT_BUREAU_QRT'].value_counts()\n",
        "df_creditqueries['AMT_REQ_CREDIT_BUREAU_MON'].value_counts()\n",
        "df_creditqueries['AMT_REQ_CREDIT_BUREAU_WEEK'].value_counts()\n",
        "df_creditqueries['AMT_REQ_CREDIT_BUREAU_DAY'].value_counts()"
      ],
      "execution_count": 0,
      "outputs": [
        {
          "output_type": "execute_result",
          "data": {
            "text/plain": [
              "0.0      215417\n",
              "1.0       33862\n",
              "2.0       14412\n",
              "3.0        1717\n",
              "4.0         476\n",
              "5.0          64\n",
              "6.0          28\n",
              "7.0           7\n",
              "8.0           7\n",
              "19.0          1\n",
              "261.0         1\n",
              "Name: AMT_REQ_CREDIT_BUREAU_QRT, dtype: int64"
            ]
          },
          "metadata": {
            "tags": []
          },
          "execution_count": 14
        },
        {
          "output_type": "execute_result",
          "data": {
            "text/plain": [
              "0.0     222233\n",
              "1.0      33147\n",
              "2.0       5386\n",
              "3.0       1991\n",
              "4.0       1076\n",
              "5.0        602\n",
              "6.0        343\n",
              "7.0        298\n",
              "9.0        206\n",
              "8.0        185\n",
              "10.0       132\n",
              "11.0       119\n",
              "12.0        77\n",
              "13.0        72\n",
              "14.0        40\n",
              "15.0        35\n",
              "16.0        23\n",
              "17.0        14\n",
              "18.0         6\n",
              "19.0         3\n",
              "24.0         1\n",
              "27.0         1\n",
              "22.0         1\n",
              "23.0         1\n",
              "Name: AMT_REQ_CREDIT_BUREAU_MON, dtype: int64"
            ]
          },
          "metadata": {
            "tags": []
          },
          "execution_count": 14
        },
        {
          "output_type": "execute_result",
          "data": {
            "text/plain": [
              "0.0    257456\n",
              "1.0      8208\n",
              "2.0       199\n",
              "3.0        58\n",
              "4.0        34\n",
              "6.0        20\n",
              "5.0        10\n",
              "8.0         5\n",
              "7.0         2\n",
              "Name: AMT_REQ_CREDIT_BUREAU_WEEK, dtype: int64"
            ]
          },
          "metadata": {
            "tags": []
          },
          "execution_count": 14
        },
        {
          "output_type": "execute_result",
          "data": {
            "text/plain": [
              "0.0    264503\n",
              "1.0      1292\n",
              "2.0       106\n",
              "3.0        45\n",
              "4.0        26\n",
              "5.0         9\n",
              "6.0         8\n",
              "9.0         2\n",
              "8.0         1\n",
              "Name: AMT_REQ_CREDIT_BUREAU_DAY, dtype: int64"
            ]
          },
          "metadata": {
            "tags": []
          },
          "execution_count": 14
        }
      ]
    },
    {
      "metadata": {
        "id": "aU9FdLkySZN0",
        "colab_type": "code",
        "outputId": "f811c9ad-1195-451d-b092-a3697e9e9b2a",
        "colab": {}
      },
      "cell_type": "code",
      "source": [
        "sns.distplot(df_creditqueries['AMT_REQ_CREDIT_BUREAU_DAY'],hist=True)"
      ],
      "execution_count": 0,
      "outputs": [
        {
          "output_type": "stream",
          "text": [
            "C:\\Users\\user\\Anaconda3\\lib\\site-packages\\scipy\\stats\\stats.py:1713: FutureWarning: Using a non-tuple sequence for multidimensional indexing is deprecated; use `arr[tuple(seq)]` instead of `arr[seq]`. In the future this will be interpreted as an array index, `arr[np.array(seq)]`, which will result either in an error or a different result.\n",
            "  return np.add.reduce(sorted[indexer] * weights, axis=axis) / sumval\n",
            "C:\\Users\\user\\Anaconda3\\lib\\site-packages\\numpy\\core\\_methods.py:32: RuntimeWarning: invalid value encountered in reduce\n",
            "  return umr_minimum(a, axis, None, out, keepdims, initial)\n",
            "C:\\Users\\user\\Anaconda3\\lib\\site-packages\\numpy\\core\\_methods.py:28: RuntimeWarning: invalid value encountered in reduce\n",
            "  return umr_maximum(a, axis, None, out, keepdims, initial)\n"
          ],
          "name": "stderr"
        },
        {
          "output_type": "error",
          "ename": "ValueError",
          "evalue": "max must be larger than min in range parameter.",
          "traceback": [
            "\u001b[1;31m---------------------------------------------------------------------------\u001b[0m",
            "\u001b[1;31mValueError\u001b[0m                                Traceback (most recent call last)",
            "\u001b[1;32m<ipython-input-18-102759080a66>\u001b[0m in \u001b[0;36m<module>\u001b[1;34m()\u001b[0m\n\u001b[1;32m----> 1\u001b[1;33m \u001b[0msns\u001b[0m\u001b[1;33m.\u001b[0m\u001b[0mdistplot\u001b[0m\u001b[1;33m(\u001b[0m\u001b[0mdf_creditqueries\u001b[0m\u001b[1;33m[\u001b[0m\u001b[1;34m'AMT_REQ_CREDIT_BUREAU_DAY'\u001b[0m\u001b[1;33m]\u001b[0m\u001b[1;33m,\u001b[0m\u001b[0mhist\u001b[0m\u001b[1;33m=\u001b[0m\u001b[1;32mTrue\u001b[0m\u001b[1;33m)\u001b[0m\u001b[1;33m\u001b[0m\u001b[0m\n\u001b[0m",
            "\u001b[1;32m~\\Anaconda3\\lib\\site-packages\\seaborn\\distributions.py\u001b[0m in \u001b[0;36mdistplot\u001b[1;34m(a, bins, hist, kde, rug, fit, hist_kws, kde_kws, rug_kws, fit_kws, color, vertical, norm_hist, axlabel, label, ax)\u001b[0m\n\u001b[0;32m    223\u001b[0m         \u001b[0mhist_color\u001b[0m \u001b[1;33m=\u001b[0m \u001b[0mhist_kws\u001b[0m\u001b[1;33m.\u001b[0m\u001b[0mpop\u001b[0m\u001b[1;33m(\u001b[0m\u001b[1;34m\"color\"\u001b[0m\u001b[1;33m,\u001b[0m \u001b[0mcolor\u001b[0m\u001b[1;33m)\u001b[0m\u001b[1;33m\u001b[0m\u001b[0m\n\u001b[0;32m    224\u001b[0m         ax.hist(a, bins, orientation=orientation,\n\u001b[1;32m--> 225\u001b[1;33m                 color=hist_color, **hist_kws)\n\u001b[0m\u001b[0;32m    226\u001b[0m         \u001b[1;32mif\u001b[0m \u001b[0mhist_color\u001b[0m \u001b[1;33m!=\u001b[0m \u001b[0mcolor\u001b[0m\u001b[1;33m:\u001b[0m\u001b[1;33m\u001b[0m\u001b[0m\n\u001b[0;32m    227\u001b[0m             \u001b[0mhist_kws\u001b[0m\u001b[1;33m[\u001b[0m\u001b[1;34m\"color\"\u001b[0m\u001b[1;33m]\u001b[0m \u001b[1;33m=\u001b[0m \u001b[0mhist_color\u001b[0m\u001b[1;33m\u001b[0m\u001b[0m\n",
            "\u001b[1;32m~\\Anaconda3\\lib\\site-packages\\matplotlib\\__init__.py\u001b[0m in \u001b[0;36minner\u001b[1;34m(ax, *args, **kwargs)\u001b[0m\n\u001b[0;32m   1853\u001b[0m                         \u001b[1;34m\"the Matplotlib list!)\"\u001b[0m \u001b[1;33m%\u001b[0m \u001b[1;33m(\u001b[0m\u001b[0mlabel_namer\u001b[0m\u001b[1;33m,\u001b[0m \u001b[0mfunc\u001b[0m\u001b[1;33m.\u001b[0m\u001b[0m__name__\u001b[0m\u001b[1;33m)\u001b[0m\u001b[1;33m,\u001b[0m\u001b[1;33m\u001b[0m\u001b[0m\n\u001b[0;32m   1854\u001b[0m                         RuntimeWarning, stacklevel=2)\n\u001b[1;32m-> 1855\u001b[1;33m             \u001b[1;32mreturn\u001b[0m \u001b[0mfunc\u001b[0m\u001b[1;33m(\u001b[0m\u001b[0max\u001b[0m\u001b[1;33m,\u001b[0m \u001b[1;33m*\u001b[0m\u001b[0margs\u001b[0m\u001b[1;33m,\u001b[0m \u001b[1;33m**\u001b[0m\u001b[0mkwargs\u001b[0m\u001b[1;33m)\u001b[0m\u001b[1;33m\u001b[0m\u001b[0m\n\u001b[0m\u001b[0;32m   1856\u001b[0m \u001b[1;33m\u001b[0m\u001b[0m\n\u001b[0;32m   1857\u001b[0m         inner.__doc__ = _add_data_doc(inner.__doc__,\n",
            "\u001b[1;32m~\\Anaconda3\\lib\\site-packages\\matplotlib\\axes\\_axes.py\u001b[0m in \u001b[0;36mhist\u001b[1;34m(***failed resolving arguments***)\u001b[0m\n\u001b[0;32m   6528\u001b[0m             \u001b[1;31m# this will automatically overwrite bins,\u001b[0m\u001b[1;33m\u001b[0m\u001b[1;33m\u001b[0m\u001b[0m\n\u001b[0;32m   6529\u001b[0m             \u001b[1;31m# so that each histogram uses the same bins\u001b[0m\u001b[1;33m\u001b[0m\u001b[1;33m\u001b[0m\u001b[0m\n\u001b[1;32m-> 6530\u001b[1;33m             \u001b[0mm\u001b[0m\u001b[1;33m,\u001b[0m \u001b[0mbins\u001b[0m \u001b[1;33m=\u001b[0m \u001b[0mnp\u001b[0m\u001b[1;33m.\u001b[0m\u001b[0mhistogram\u001b[0m\u001b[1;33m(\u001b[0m\u001b[0mx\u001b[0m\u001b[1;33m[\u001b[0m\u001b[0mi\u001b[0m\u001b[1;33m]\u001b[0m\u001b[1;33m,\u001b[0m \u001b[0mbins\u001b[0m\u001b[1;33m,\u001b[0m \u001b[0mweights\u001b[0m\u001b[1;33m=\u001b[0m\u001b[0mw\u001b[0m\u001b[1;33m[\u001b[0m\u001b[0mi\u001b[0m\u001b[1;33m]\u001b[0m\u001b[1;33m,\u001b[0m \u001b[1;33m**\u001b[0m\u001b[0mhist_kwargs\u001b[0m\u001b[1;33m)\u001b[0m\u001b[1;33m\u001b[0m\u001b[0m\n\u001b[0m\u001b[0;32m   6531\u001b[0m             \u001b[0mm\u001b[0m \u001b[1;33m=\u001b[0m \u001b[0mm\u001b[0m\u001b[1;33m.\u001b[0m\u001b[0mastype\u001b[0m\u001b[1;33m(\u001b[0m\u001b[0mfloat\u001b[0m\u001b[1;33m)\u001b[0m  \u001b[1;31m# causes problems later if it's an int\u001b[0m\u001b[1;33m\u001b[0m\u001b[0m\n\u001b[0;32m   6532\u001b[0m             \u001b[1;32mif\u001b[0m \u001b[0mmlast\u001b[0m \u001b[1;32mis\u001b[0m \u001b[1;32mNone\u001b[0m\u001b[1;33m:\u001b[0m\u001b[1;33m\u001b[0m\u001b[0m\n",
            "\u001b[1;32m~\\Anaconda3\\lib\\site-packages\\numpy\\lib\\histograms.py\u001b[0m in \u001b[0;36mhistogram\u001b[1;34m(a, bins, range, normed, weights, density)\u001b[0m\n\u001b[0;32m    708\u001b[0m     \u001b[0ma\u001b[0m\u001b[1;33m,\u001b[0m \u001b[0mweights\u001b[0m \u001b[1;33m=\u001b[0m \u001b[0m_ravel_and_check_weights\u001b[0m\u001b[1;33m(\u001b[0m\u001b[0ma\u001b[0m\u001b[1;33m,\u001b[0m \u001b[0mweights\u001b[0m\u001b[1;33m)\u001b[0m\u001b[1;33m\u001b[0m\u001b[0m\n\u001b[0;32m    709\u001b[0m \u001b[1;33m\u001b[0m\u001b[0m\n\u001b[1;32m--> 710\u001b[1;33m     \u001b[0mbin_edges\u001b[0m\u001b[1;33m,\u001b[0m \u001b[0muniform_bins\u001b[0m \u001b[1;33m=\u001b[0m \u001b[0m_get_bin_edges\u001b[0m\u001b[1;33m(\u001b[0m\u001b[0ma\u001b[0m\u001b[1;33m,\u001b[0m \u001b[0mbins\u001b[0m\u001b[1;33m,\u001b[0m \u001b[0mrange\u001b[0m\u001b[1;33m,\u001b[0m \u001b[0mweights\u001b[0m\u001b[1;33m)\u001b[0m\u001b[1;33m\u001b[0m\u001b[0m\n\u001b[0m\u001b[0;32m    711\u001b[0m \u001b[1;33m\u001b[0m\u001b[0m\n\u001b[0;32m    712\u001b[0m     \u001b[1;31m# Histogram is an integer or a float array depending on the weights.\u001b[0m\u001b[1;33m\u001b[0m\u001b[1;33m\u001b[0m\u001b[0m\n",
            "\u001b[1;32m~\\Anaconda3\\lib\\site-packages\\numpy\\lib\\histograms.py\u001b[0m in \u001b[0;36m_get_bin_edges\u001b[1;34m(a, bins, range, weights)\u001b[0m\n\u001b[0;32m    361\u001b[0m             \u001b[1;32mraise\u001b[0m \u001b[0mValueError\u001b[0m\u001b[1;33m(\u001b[0m\u001b[1;34m'`bins` must be positive, when an integer'\u001b[0m\u001b[1;33m)\u001b[0m\u001b[1;33m\u001b[0m\u001b[0m\n\u001b[0;32m    362\u001b[0m \u001b[1;33m\u001b[0m\u001b[0m\n\u001b[1;32m--> 363\u001b[1;33m         \u001b[0mfirst_edge\u001b[0m\u001b[1;33m,\u001b[0m \u001b[0mlast_edge\u001b[0m \u001b[1;33m=\u001b[0m \u001b[0m_get_outer_edges\u001b[0m\u001b[1;33m(\u001b[0m\u001b[0ma\u001b[0m\u001b[1;33m,\u001b[0m \u001b[0mrange\u001b[0m\u001b[1;33m)\u001b[0m\u001b[1;33m\u001b[0m\u001b[0m\n\u001b[0m\u001b[0;32m    364\u001b[0m \u001b[1;33m\u001b[0m\u001b[0m\n\u001b[0;32m    365\u001b[0m     \u001b[1;32melif\u001b[0m \u001b[0mnp\u001b[0m\u001b[1;33m.\u001b[0m\u001b[0mndim\u001b[0m\u001b[1;33m(\u001b[0m\u001b[0mbins\u001b[0m\u001b[1;33m)\u001b[0m \u001b[1;33m==\u001b[0m \u001b[1;36m1\u001b[0m\u001b[1;33m:\u001b[0m\u001b[1;33m\u001b[0m\u001b[0m\n",
            "\u001b[1;32m~\\Anaconda3\\lib\\site-packages\\numpy\\lib\\histograms.py\u001b[0m in \u001b[0;36m_get_outer_edges\u001b[1;34m(a, range)\u001b[0m\n\u001b[0;32m    248\u001b[0m         \u001b[1;32mif\u001b[0m \u001b[0mfirst_edge\u001b[0m \u001b[1;33m>\u001b[0m \u001b[0mlast_edge\u001b[0m\u001b[1;33m:\u001b[0m\u001b[1;33m\u001b[0m\u001b[0m\n\u001b[0;32m    249\u001b[0m             raise ValueError(\n\u001b[1;32m--> 250\u001b[1;33m                 'max must be larger than min in range parameter.')\n\u001b[0m\u001b[0;32m    251\u001b[0m         \u001b[1;32mif\u001b[0m \u001b[1;32mnot\u001b[0m \u001b[1;33m(\u001b[0m\u001b[0mnp\u001b[0m\u001b[1;33m.\u001b[0m\u001b[0misfinite\u001b[0m\u001b[1;33m(\u001b[0m\u001b[0mfirst_edge\u001b[0m\u001b[1;33m)\u001b[0m \u001b[1;32mand\u001b[0m \u001b[0mnp\u001b[0m\u001b[1;33m.\u001b[0m\u001b[0misfinite\u001b[0m\u001b[1;33m(\u001b[0m\u001b[0mlast_edge\u001b[0m\u001b[1;33m)\u001b[0m\u001b[1;33m)\u001b[0m\u001b[1;33m:\u001b[0m\u001b[1;33m\u001b[0m\u001b[0m\n\u001b[0;32m    252\u001b[0m             raise ValueError(\n",
            "\u001b[1;31mValueError\u001b[0m: max must be larger than min in range parameter."
          ]
        },
        {
          "output_type": "display_data",
          "data": {
            "image/png": "[encoded data removed]",
            "text/plain": [
              "<Figure size 432x288 with 1 Axes>"
            ]
          },
          "metadata": {
            "tags": []
          }
        }
      ]
    },
    {
      "metadata": {
        "id": "r98Ve-qTXV3r",
        "colab_type": "text"
      },
      "cell_type": "markdown",
      "source": [
        "\n"
      ]
    },
    {
      "metadata": {
        "id": "105Ud8sUXiiZ",
        "colab_type": "code",
        "colab": {}
      },
      "cell_type": "code",
      "source": [
        ""
      ],
      "execution_count": 0,
      "outputs": []
    },
    {
      "metadata": {
        "id": "yyX1EajUSZN3",
        "colab_type": "text"
      },
      "cell_type": "markdown",
      "source": [
        "### 1st Cut Removing Columns with Large Missing Values"
      ]
    },
    {
      "metadata": {
        "id": "2T-lluRESZN3",
        "colab_type": "text"
      },
      "cell_type": "markdown",
      "source": [
        "1. After going through the variables/columns, it is decided that even if we tried imputation methods, it would not be feasible to recover the missing housing information. In addition, we would be making assumptions of the distribution based off other features.   \n",
        "<br>\n",
        "2. With reference to the the Percentage missing table above, only variables with >1% missing and above would be dropped except \"OWN_CAR_AGE\"\n",
        "    - Reason for keeping \"OWN_CAR_AGE\" is due to the fact that after initial assessment of the missing variables, there could be a possibility that the missingness is due to the applicants not owning any car. As such, further analysis would be done on the \"FLAG_OWN_CAR\".\n",
        "    - The analysis indeed showed that missing values in \"OWN_CAR_AGE\" were due to applicants not owning cars. These would be imputed with zeros. In addition, there are 5 applicants that own cars but did not indicate age, which was imputed with median.  \n",
        "    - Median was chosen because of the skewed distribution of the age which applicants own a car. A mean imputation would be greatly affected by the large degree of skewness and possible outliers.  \n",
        "<br>\n",
        "3. The other missing variables (with <1% missingness) would be imputed with the mean values"
      ]
    },
    {
      "metadata": {
        "id": "8M3Y4RHNSZN4",
        "colab_type": "code",
        "outputId": "65db44a2-e5df-4078-ae28-8b6d01c5ff03",
        "colab": {}
      },
      "cell_type": "code",
      "source": [
        "missing_values_var=list(missing_values.index[missing_values['% of Total Values']>5])\n",
        "len(missing_values_var)\n",
        "missing_values_keep={'OWN_CAR_AGE'}\n",
        "missing_values_var=[i for i in missing_values_var if i not in missing_values_keep]\n",
        "len(missing_values_var)\n",
        "missing_values_var\n",
        "# unwanted = {'item', 5}\n",
        "# item_list = [e for e in item_list if e not in unwanted]"
      ],
      "execution_count": 0,
      "outputs": [
        {
          "output_type": "execute_result",
          "data": {
            "text/plain": [
              "57"
            ]
          },
          "metadata": {
            "tags": []
          },
          "execution_count": 14
        },
        {
          "output_type": "execute_result",
          "data": {
            "text/plain": [
              "56"
            ]
          },
          "metadata": {
            "tags": []
          },
          "execution_count": 14
        },
        {
          "output_type": "execute_result",
          "data": {
            "text/plain": [
              "['COMMONAREA_MEDI',\n",
              " 'COMMONAREA_AVG',\n",
              " 'COMMONAREA_MODE',\n",
              " 'NONLIVINGAPARTMENTS_MEDI',\n",
              " 'NONLIVINGAPARTMENTS_MODE',\n",
              " 'NONLIVINGAPARTMENTS_AVG',\n",
              " 'FONDKAPREMONT_MODE',\n",
              " 'LIVINGAPARTMENTS_MODE',\n",
              " 'LIVINGAPARTMENTS_MEDI',\n",
              " 'LIVINGAPARTMENTS_AVG',\n",
              " 'FLOORSMIN_MODE',\n",
              " 'FLOORSMIN_MEDI',\n",
              " 'FLOORSMIN_AVG',\n",
              " 'YEARS_BUILD_MODE',\n",
              " 'YEARS_BUILD_MEDI',\n",
              " 'YEARS_BUILD_AVG',\n",
              " 'LANDAREA_AVG',\n",
              " 'LANDAREA_MEDI',\n",
              " 'LANDAREA_MODE',\n",
              " 'BASEMENTAREA_MEDI',\n",
              " 'BASEMENTAREA_AVG',\n",
              " 'BASEMENTAREA_MODE',\n",
              " 'EXT_SOURCE_1',\n",
              " 'NONLIVINGAREA_MEDI',\n",
              " 'NONLIVINGAREA_MODE',\n",
              " 'NONLIVINGAREA_AVG',\n",
              " 'ELEVATORS_MEDI',\n",
              " 'ELEVATORS_MODE',\n",
              " 'ELEVATORS_AVG',\n",
              " 'WALLSMATERIAL_MODE',\n",
              " 'APARTMENTS_MODE',\n",
              " 'APARTMENTS_MEDI',\n",
              " 'APARTMENTS_AVG',\n",
              " 'ENTRANCES_MODE',\n",
              " 'ENTRANCES_AVG',\n",
              " 'ENTRANCES_MEDI',\n",
              " 'LIVINGAREA_MEDI',\n",
              " 'LIVINGAREA_MODE',\n",
              " 'LIVINGAREA_AVG',\n",
              " 'HOUSETYPE_MODE',\n",
              " 'FLOORSMAX_MEDI',\n",
              " 'FLOORSMAX_AVG',\n",
              " 'FLOORSMAX_MODE',\n",
              " 'YEARS_BEGINEXPLUATATION_AVG',\n",
              " 'YEARS_BEGINEXPLUATATION_MEDI',\n",
              " 'YEARS_BEGINEXPLUATATION_MODE',\n",
              " 'TOTALAREA_MODE',\n",
              " 'EMERGENCYSTATE_MODE',\n",
              " 'OCCUPATION_TYPE',\n",
              " 'EXT_SOURCE_3',\n",
              " 'AMT_REQ_CREDIT_BUREAU_WEEK',\n",
              " 'AMT_REQ_CREDIT_BUREAU_DAY',\n",
              " 'AMT_REQ_CREDIT_BUREAU_MON',\n",
              " 'AMT_REQ_CREDIT_BUREAU_QRT',\n",
              " 'AMT_REQ_CREDIT_BUREAU_HOUR',\n",
              " 'AMT_REQ_CREDIT_BUREAU_YEAR']"
            ]
          },
          "metadata": {
            "tags": []
          },
          "execution_count": 14
        }
      ]
    },
    {
      "metadata": {
        "collapsed": true,
        "id": "Jqr28cIZSZN6",
        "colab_type": "code",
        "colab": {}
      },
      "cell_type": "code",
      "source": [
        "df1=df1.drop(columns=missing_values_var)"
      ],
      "execution_count": 0,
      "outputs": []
    },
    {
      "metadata": {
        "id": "WRB18Z9sSZN8",
        "colab_type": "code",
        "outputId": "4a6859b8-dfc3-49aa-8b29-9f0bd2b5e4f6",
        "colab": {}
      },
      "cell_type": "code",
      "source": [
        "missing_values_table(df1).head(19)"
      ],
      "execution_count": 0,
      "outputs": [
        {
          "output_type": "stream",
          "text": [
            "Your selected dataframe has 67 columns.\n",
            "There are 11 columns that have missing values.\n"
          ],
          "name": "stdout"
        },
        {
          "output_type": "execute_result",
          "data": {
            "text/html": [
              "<div>\n",
              "<style scoped>\n",
              "    .dataframe tbody tr th:only-of-type {\n",
              "        vertical-align: middle;\n",
              "    }\n",
              "\n",
              "    .dataframe tbody tr th {\n",
              "        vertical-align: top;\n",
              "    }\n",
              "\n",
              "    .dataframe thead th {\n",
              "        text-align: right;\n",
              "    }\n",
              "</style>\n",
              "<table border=\"1\" class=\"dataframe\">\n",
              "  <thead>\n",
              "    <tr style=\"text-align: right;\">\n",
              "      <th></th>\n",
              "      <th>Missing Values</th>\n",
              "      <th>% of Total Values</th>\n",
              "    </tr>\n",
              "  </thead>\n",
              "  <tbody>\n",
              "    <tr>\n",
              "      <th>OWN_CAR_AGE</th>\n",
              "      <td>202929</td>\n",
              "      <td>66.0</td>\n",
              "    </tr>\n",
              "    <tr>\n",
              "      <th>NAME_TYPE_SUITE</th>\n",
              "      <td>1292</td>\n",
              "      <td>0.4</td>\n",
              "    </tr>\n",
              "    <tr>\n",
              "      <th>OBS_30_CNT_SOCIAL_CIRCLE</th>\n",
              "      <td>1021</td>\n",
              "      <td>0.3</td>\n",
              "    </tr>\n",
              "    <tr>\n",
              "      <th>DEF_30_CNT_SOCIAL_CIRCLE</th>\n",
              "      <td>1021</td>\n",
              "      <td>0.3</td>\n",
              "    </tr>\n",
              "    <tr>\n",
              "      <th>OBS_60_CNT_SOCIAL_CIRCLE</th>\n",
              "      <td>1021</td>\n",
              "      <td>0.3</td>\n",
              "    </tr>\n",
              "    <tr>\n",
              "      <th>DEF_60_CNT_SOCIAL_CIRCLE</th>\n",
              "      <td>1021</td>\n",
              "      <td>0.3</td>\n",
              "    </tr>\n",
              "    <tr>\n",
              "      <th>EXT_SOURCE_2</th>\n",
              "      <td>660</td>\n",
              "      <td>0.2</td>\n",
              "    </tr>\n",
              "    <tr>\n",
              "      <th>AMT_GOODS_PRICE</th>\n",
              "      <td>278</td>\n",
              "      <td>0.1</td>\n",
              "    </tr>\n",
              "    <tr>\n",
              "      <th>AMT_ANNUITY</th>\n",
              "      <td>12</td>\n",
              "      <td>0.0</td>\n",
              "    </tr>\n",
              "    <tr>\n",
              "      <th>CNT_FAM_MEMBERS</th>\n",
              "      <td>2</td>\n",
              "      <td>0.0</td>\n",
              "    </tr>\n",
              "    <tr>\n",
              "      <th>DAYS_LAST_PHONE_CHANGE</th>\n",
              "      <td>1</td>\n",
              "      <td>0.0</td>\n",
              "    </tr>\n",
              "  </tbody>\n",
              "</table>\n",
              "</div>"
            ],
            "text/plain": [
              "                          Missing Values  % of Total Values\n",
              "OWN_CAR_AGE                       202929               66.0\n",
              "NAME_TYPE_SUITE                     1292                0.4\n",
              "OBS_30_CNT_SOCIAL_CIRCLE            1021                0.3\n",
              "DEF_30_CNT_SOCIAL_CIRCLE            1021                0.3\n",
              "OBS_60_CNT_SOCIAL_CIRCLE            1021                0.3\n",
              "DEF_60_CNT_SOCIAL_CIRCLE            1021                0.3\n",
              "EXT_SOURCE_2                         660                0.2\n",
              "AMT_GOODS_PRICE                      278                0.1\n",
              "AMT_ANNUITY                           12                0.0\n",
              "CNT_FAM_MEMBERS                        2                0.0\n",
              "DAYS_LAST_PHONE_CHANGE                 1                0.0"
            ]
          },
          "metadata": {
            "tags": []
          },
          "execution_count": 16
        }
      ]
    },
    {
      "metadata": {
        "id": "vkK_EUthSZN-",
        "colab_type": "text"
      },
      "cell_type": "markdown",
      "source": [
        "#### OWN_CAR_AGE"
      ]
    },
    {
      "metadata": {
        "id": "9xNxn5VCSZN-",
        "colab_type": "code",
        "outputId": "8a1856a8-4f72-4ea5-e5a0-e0142f1bb812",
        "colab": {}
      },
      "cell_type": "code",
      "source": [
        "df1['OWN_CAR_AGE'].count()\n",
        "df1['FLAG_OWN_CAR'][df1['FLAG_OWN_CAR']=='Y'].count()\n",
        "# there are indeed rows where the applicants own cars but the own car age is null\n",
        "print('applicants own car and indicate car age:',df1['OWN_CAR_AGE'][(~df1['OWN_CAR_AGE'].isnull()) & (df1['FLAG_OWN_CAR']=='Y')].count())\n",
        "print('applicants own car but did not indicate car age:',df1['OWN_CAR_AGE'][(df1['OWN_CAR_AGE'].isnull()) & (df1['FLAG_OWN_CAR']=='Y')].isna().count())"
      ],
      "execution_count": 0,
      "outputs": [
        {
          "output_type": "execute_result",
          "data": {
            "text/plain": [
              "104582"
            ]
          },
          "metadata": {
            "tags": []
          },
          "execution_count": 17
        },
        {
          "output_type": "execute_result",
          "data": {
            "text/plain": [
              "104587"
            ]
          },
          "metadata": {
            "tags": []
          },
          "execution_count": 17
        },
        {
          "output_type": "stream",
          "text": [
            "applicants own car and indicate car age: 104582\n",
            "applicants own car but did not indicate car age: 5\n"
          ],
          "name": "stdout"
        }
      ]
    },
    {
      "metadata": {
        "id": "Ak4siQnzSZOB",
        "colab_type": "code",
        "outputId": "6e260c9e-afed-4157-bcc8-88e039dc6e7e",
        "colab": {}
      },
      "cell_type": "code",
      "source": [
        "# impute 0 to OWN_CAR_AGE where applicants do not own cars\n",
        "df1.update(df1['OWN_CAR_AGE'][df1['FLAG_OWN_CAR']=='N'].fillna(0))\n",
        "# ensuring values have been imputed\n",
        "df1[(df1['OWN_CAR_AGE'].isnull()) & (df1['FLAG_OWN_CAR']=='Y')]['OWN_CAR_AGE']\n",
        "np.where([(df1['OWN_CAR_AGE'].isnull()) & (df1['FLAG_OWN_CAR']=='Y')])"
      ],
      "execution_count": 0,
      "outputs": [
        {
          "output_type": "execute_result",
          "data": {
            "text/plain": [
              "30897    NaN\n",
              "181231   NaN\n",
              "217549   NaN\n",
              "229867   NaN\n",
              "236868   NaN\n",
              "Name: OWN_CAR_AGE, dtype: float64"
            ]
          },
          "metadata": {
            "tags": []
          },
          "execution_count": 18
        },
        {
          "output_type": "execute_result",
          "data": {
            "text/plain": [
              "(array([0, 0, 0, 0, 0], dtype=int64),\n",
              " array([ 30897, 181231, 217549, 229867, 236868], dtype=int64))"
            ]
          },
          "metadata": {
            "tags": []
          },
          "execution_count": 18
        }
      ]
    },
    {
      "metadata": {
        "id": "7ow5wmIHSZOE",
        "colab_type": "code",
        "outputId": "3a42d588-be01-42ec-8e7c-a047fc05516c",
        "colab": {}
      },
      "cell_type": "code",
      "source": [
        "figure(num=None, figsize=(30, 8), dpi=80, facecolor='w', edgecolor='k')\n",
        "ax2=sns.countplot(x=(df1['OWN_CAR_AGE'][df1['FLAG_OWN_CAR']=='Y']))"
      ],
      "execution_count": 0,
      "outputs": [
        {
          "output_type": "execute_result",
          "data": {
            "text/plain": [
              "<Figure size 2400x640 with 0 Axes>"
            ]
          },
          "metadata": {
            "tags": []
          },
          "execution_count": 19
        },
        {
          "output_type": "display_data",
          "data": {
            "image/png": "[encoded data removed]",
            "text/plain": [
              "<Figure size 2400x640 with 1 Axes>"
            ]
          },
          "metadata": {
            "tags": []
          }
        }
      ]
    },
    {
      "metadata": {
        "id": "X3Bv6qNXSZOG",
        "colab_type": "text"
      },
      "cell_type": "markdown",
      "source": [
        "> Majority of the car age falls under the main right-skewed distribution, with outliers at 64-66 years car age.\n",
        "> We will impute the 5 missing values with the median of this distribution due to the skewness and presence of outliers in the data. "
      ]
    },
    {
      "metadata": {
        "id": "aqYp9vwwSZOG",
        "colab_type": "code",
        "outputId": "9b582edc-e52c-47e8-cd09-e8c8b35cd65e",
        "colab": {}
      },
      "cell_type": "code",
      "source": [
        "# checking the calculation of median value\n",
        "df1['OWN_CAR_AGE'][(df1['FLAG_OWN_CAR']=='Y')].median()\n",
        "\n",
        "# imputing with the median of the distribution\n",
        "df1.update(df1[(df1['OWN_CAR_AGE'].isnull()) & (df1['FLAG_OWN_CAR']=='Y')]['OWN_CAR_AGE'].fillna(df1['OWN_CAR_AGE'][(df1['FLAG_OWN_CAR']=='Y')].median()))"
      ],
      "execution_count": 0,
      "outputs": [
        {
          "output_type": "execute_result",
          "data": {
            "text/plain": [
              "9.0"
            ]
          },
          "metadata": {
            "tags": []
          },
          "execution_count": 20
        }
      ]
    },
    {
      "metadata": {
        "id": "Ex3hlz1ySZOJ",
        "colab_type": "text"
      },
      "cell_type": "markdown",
      "source": [
        "### Dealing with the remaining columns with missing values \n",
        "1. univariate distribution of these columns would be explored to determine the correct imputation method. In the event of large degree of skewness or outliers, mean imputation would be used. "
      ]
    },
    {
      "metadata": {
        "id": "7WsUmpdBSZOJ",
        "colab_type": "text"
      },
      "cell_type": "markdown",
      "source": [
        "#### NAME_TYPE_SUITE & EXT_SOURCE_2\t"
      ]
    },
    {
      "metadata": {
        "id": "uSqo7dsUSZOK",
        "colab_type": "text"
      },
      "cell_type": "markdown",
      "source": [
        "NAME_TYPE_SUITE\n",
        "- Who was accompanying client when he was applying for the loan\n",
        "- A huge proportion of the data are unaccompanied. In addition, there are categories like Other_A and other_B which do not have descriptions\n",
        "- Will be dropped\n",
        "\n",
        "EXT_SOURCE_2\n",
        "- Normalized score from external data source\n",
        "- Will be dropped"
      ]
    },
    {
      "metadata": {
        "id": "mRtLWAM4SZOK",
        "colab_type": "code",
        "outputId": "e8c76027-bb88-4261-e6af-ca0f6f82a021",
        "colab": {}
      },
      "cell_type": "code",
      "source": [
        "df1['NAME_TYPE_SUITE'].value_counts()"
      ],
      "execution_count": 0,
      "outputs": [
        {
          "output_type": "execute_result",
          "data": {
            "text/plain": [
              "Unaccompanied      248526\n",
              "Family              40149\n",
              "Spouse, partner     11370\n",
              "Children             3267\n",
              "Other_B              1770\n",
              "Other_A               866\n",
              "Group of people       271\n",
              "Name: NAME_TYPE_SUITE, dtype: int64"
            ]
          },
          "metadata": {
            "tags": []
          },
          "execution_count": 21
        }
      ]
    },
    {
      "metadata": {
        "collapsed": true,
        "id": "FCkfzFd1SZON",
        "colab_type": "code",
        "colab": {}
      },
      "cell_type": "code",
      "source": [
        "df1.drop(['NAME_TYPE_SUITE','EXT_SOURCE_2'],axis=1,inplace=True);"
      ],
      "execution_count": 0,
      "outputs": []
    },
    {
      "metadata": {
        "id": "LDu005tESZOP",
        "colab_type": "text"
      },
      "cell_type": "markdown",
      "source": [
        "#### AMT_ANNUITY"
      ]
    },
    {
      "metadata": {
        "id": "jwtWEZY8SZOQ",
        "colab_type": "text"
      },
      "cell_type": "markdown",
      "source": [
        "- Loan Annuity\n",
        "    -  monthly payment that client will pay to Home Credit(interest rate included)"
      ]
    },
    {
      "metadata": {
        "collapsed": true,
        "id": "LwnNGzoBSZOR",
        "colab_type": "code",
        "colab": {}
      },
      "cell_type": "code",
      "source": [
        "# figure(num=None, figsize=(30, 8), dpi=80, facecolor='w', edgecolor='k')\n",
        "# ax3=sns.countplot(x=(df1['AMT_ANNUITY']))"
      ],
      "execution_count": 0,
      "outputs": []
    },
    {
      "metadata": {
        "collapsed": true,
        "id": "gN8OfflISZOT",
        "colab_type": "code",
        "colab": {}
      },
      "cell_type": "code",
      "source": [
        "df1.update((df1['AMT_ANNUITY']).fillna((df1['AMT_ANNUITY']).median()))"
      ],
      "execution_count": 0,
      "outputs": []
    },
    {
      "metadata": {
        "id": "yIHPPK6oSZOU",
        "colab_type": "text"
      },
      "cell_type": "markdown",
      "source": [
        "#### DAYS_LAST_PHONE_CHANGE"
      ]
    },
    {
      "metadata": {
        "collapsed": true,
        "id": "VcM_n__1SZOW",
        "colab_type": "code",
        "colab": {}
      },
      "cell_type": "code",
      "source": [
        "df1.update((df1['DAYS_LAST_PHONE_CHANGE']).fillna((df1['DAYS_LAST_PHONE_CHANGE']).median()))"
      ],
      "execution_count": 0,
      "outputs": []
    },
    {
      "metadata": {
        "id": "fB3fI1_ISZOY",
        "colab_type": "text"
      },
      "cell_type": "markdown",
      "source": [
        "#### CNT_FAM_MEMBERS"
      ]
    },
    {
      "metadata": {
        "collapsed": true,
        "id": "ONFiGGMkSZOZ",
        "colab_type": "code",
        "colab": {}
      },
      "cell_type": "code",
      "source": [
        "df1.update((df1['CNT_FAM_MEMBERS']).fillna((df1['CNT_FAM_MEMBERS']).median()))"
      ],
      "execution_count": 0,
      "outputs": []
    },
    {
      "metadata": {
        "id": "qNM0HWPUSZOb",
        "colab_type": "text"
      },
      "cell_type": "markdown",
      "source": [
        "#### OBS_**_CNT_SOCIAL_CIRCLE / DEF_**_CNT_SOCIAL_CIRCLE"
      ]
    },
    {
      "metadata": {
        "id": "BbabjcXsSZOc",
        "colab_type": "code",
        "outputId": "face2278-9402-4777-89d1-0d5dd192c296",
        "colab": {}
      },
      "cell_type": "code",
      "source": [
        "social_circle=['OBS_30_CNT_SOCIAL_CIRCLE','DEF_30_CNT_SOCIAL_CIRCLE','OBS_60_CNT_SOCIAL_CIRCLE','DEF_60_CNT_SOCIAL_CIRCLE']\n",
        "for j in social_circle:\n",
        "    df1.update(df1[j].fillna((df1[j]).median()))\n",
        "    print(df1[j].median())"
      ],
      "execution_count": 0,
      "outputs": [
        {
          "output_type": "stream",
          "text": [
            "0.0\n",
            "0.0\n",
            "0.0\n",
            "0.0\n"
          ],
          "name": "stdout"
        }
      ]
    },
    {
      "metadata": {
        "id": "nCGLgA2BSZOe",
        "colab_type": "text"
      },
      "cell_type": "markdown",
      "source": [
        "#### AMT_GOODS_PRICE"
      ]
    },
    {
      "metadata": {
        "collapsed": true,
        "id": "SJQlYRsrSZOf",
        "colab_type": "code",
        "colab": {}
      },
      "cell_type": "code",
      "source": [
        "df1.update((df1['AMT_GOODS_PRICE']).fillna((df1['AMT_GOODS_PRICE']).median()))"
      ],
      "execution_count": 0,
      "outputs": []
    },
    {
      "metadata": {
        "id": "efMxyq0USZOh",
        "colab_type": "text"
      },
      "cell_type": "markdown",
      "source": [
        "### Check for Class Balance"
      ]
    },
    {
      "metadata": {
        "id": "BjBZNwa9SZOj",
        "colab_type": "code",
        "outputId": "bf2571e2-77de-4e94-c108-8ee77ab557a1",
        "colab": {}
      },
      "cell_type": "code",
      "source": [
        "ax=sns.countplot(x='TARGET',data=df1)\n",
        "print('ratio of non-defaults to defaults',(df1[df1['TARGET']==1]['TARGET'].count())/(df1[df1['TARGET']==0]['TARGET'].count()))\n",
        "for p in ax.patches:\n",
        "    height = p.get_height()\n",
        "    total= len(df1)\n",
        "    ax.text(p.get_x()+p.get_width()/2.,\n",
        "            height + 3,\n",
        "            '{:1.2f}'.format(height/total*100),\n",
        "            ha=\"center\") "
      ],
      "execution_count": 0,
      "outputs": [
        {
          "output_type": "stream",
          "text": [
            "ratio of non-defaults to defaults 0.08781828601345662\n"
          ],
          "name": "stdout"
        },
        {
          "output_type": "execute_result",
          "data": {
            "text/plain": [
              "Text(0,282689,'91.93')"
            ]
          },
          "metadata": {
            "tags": []
          },
          "execution_count": 29
        },
        {
          "output_type": "execute_result",
          "data": {
            "text/plain": [
              "Text(1,24828,'8.07')"
            ]
          },
          "metadata": {
            "tags": []
          },
          "execution_count": 29
        },
        {
          "output_type": "display_data",
          "data": {
            "image/png": "[encoded data removed]",
            "text/plain": [
              "<Figure size 432x288 with 1 Axes>"
            ]
          },
          "metadata": {
            "tags": []
          }
        }
      ]
    },
    {
      "metadata": {
        "id": "54KFsKkgSZOn",
        "colab_type": "text"
      },
      "cell_type": "markdown",
      "source": [
        "- The class imbalance needs to be dealt with before modelling"
      ]
    },
    {
      "metadata": {
        "id": "GsnUypPcSZOn",
        "colab_type": "text"
      },
      "cell_type": "markdown",
      "source": [
        "# Bureau Data\n",
        "- Contains information about the client's previous loans with other financial institutions reported to Home Credit\n",
        "- Each previous loan has its own rows"
      ]
    },
    {
      "metadata": {
        "id": "aCC33bZCSZOo",
        "colab_type": "text"
      },
      "cell_type": "markdown",
      "source": [
        "## Preliminary Checks"
      ]
    },
    {
      "metadata": {
        "id": "SvdSXC42SZOo",
        "colab_type": "code",
        "outputId": "0227ea08-175d-490d-88c2-42967d839c1b",
        "colab": {}
      },
      "cell_type": "code",
      "source": [
        "Datacheck(df4)"
      ],
      "execution_count": 0,
      "outputs": [
        {
          "output_type": "execute_result",
          "data": {
            "text/plain": [
              "((1716428, 17),\n",
              " Index(['SK_ID_CURR', 'SK_ID_BUREAU', 'CREDIT_ACTIVE', 'CREDIT_CURRENCY',\n",
              "        'DAYS_CREDIT', 'CREDIT_DAY_OVERDUE', 'DAYS_CREDIT_ENDDATE',\n",
              "        'DAYS_ENDDATE_FACT', 'AMT_CREDIT_MAX_OVERDUE', 'CNT_CREDIT_PROLONG',\n",
              "        'AMT_CREDIT_SUM', 'AMT_CREDIT_SUM_DEBT', 'AMT_CREDIT_SUM_LIMIT',\n",
              "        'AMT_CREDIT_SUM_OVERDUE', 'CREDIT_TYPE', 'DAYS_CREDIT_UPDATE',\n",
              "        'AMT_ANNUITY'],\n",
              "       dtype='object'),\n",
              " SK_ID_CURR                False\n",
              " SK_ID_BUREAU              False\n",
              " CREDIT_ACTIVE             False\n",
              " CREDIT_CURRENCY           False\n",
              " DAYS_CREDIT               False\n",
              " CREDIT_DAY_OVERDUE        False\n",
              " DAYS_CREDIT_ENDDATE        True\n",
              " DAYS_ENDDATE_FACT          True\n",
              " AMT_CREDIT_MAX_OVERDUE     True\n",
              " CNT_CREDIT_PROLONG        False\n",
              " AMT_CREDIT_SUM             True\n",
              " AMT_CREDIT_SUM_DEBT        True\n",
              " AMT_CREDIT_SUM_LIMIT       True\n",
              " AMT_CREDIT_SUM_OVERDUE    False\n",
              " CREDIT_TYPE               False\n",
              " DAYS_CREDIT_UPDATE        False\n",
              " AMT_ANNUITY                True\n",
              " dtype: bool)"
            ]
          },
          "metadata": {
            "tags": []
          },
          "execution_count": 30
        }
      ]
    },
    {
      "metadata": {
        "id": "DuXcm4s0SZOq",
        "colab_type": "text"
      },
      "cell_type": "markdown",
      "source": [
        "### Analysing Missing Values"
      ]
    },
    {
      "metadata": {
        "id": "0NtrsPoLSZOq",
        "colab_type": "text"
      },
      "cell_type": "markdown",
      "source": [
        "1. After going through the variables/columns, it is decided that the features with >1% missing would be dropped.\n",
        "<br>\n",
        "2. The other missing variables would be imputed with the mean values"
      ]
    },
    {
      "metadata": {
        "id": "YMtim6beSZOr",
        "colab_type": "code",
        "outputId": "aa942d96-7e90-4caa-be65-35803547efd4",
        "colab": {}
      },
      "cell_type": "code",
      "source": [
        "missing_values2 = missing_values_table(df4)\n",
        "missing_values2"
      ],
      "execution_count": 0,
      "outputs": [
        {
          "output_type": "stream",
          "text": [
            "Your selected dataframe has 17 columns.\n",
            "There are 7 columns that have missing values.\n"
          ],
          "name": "stdout"
        },
        {
          "output_type": "execute_result",
          "data": {
            "text/html": [
              "<div>\n",
              "<style scoped>\n",
              "    .dataframe tbody tr th:only-of-type {\n",
              "        vertical-align: middle;\n",
              "    }\n",
              "\n",
              "    .dataframe tbody tr th {\n",
              "        vertical-align: top;\n",
              "    }\n",
              "\n",
              "    .dataframe thead th {\n",
              "        text-align: right;\n",
              "    }\n",
              "</style>\n",
              "<table border=\"1\" class=\"dataframe\">\n",
              "  <thead>\n",
              "    <tr style=\"text-align: right;\">\n",
              "      <th></th>\n",
              "      <th>Missing Values</th>\n",
              "      <th>% of Total Values</th>\n",
              "    </tr>\n",
              "  </thead>\n",
              "  <tbody>\n",
              "    <tr>\n",
              "      <th>AMT_ANNUITY</th>\n",
              "      <td>1226791</td>\n",
              "      <td>71.5</td>\n",
              "    </tr>\n",
              "    <tr>\n",
              "      <th>AMT_CREDIT_MAX_OVERDUE</th>\n",
              "      <td>1124488</td>\n",
              "      <td>65.5</td>\n",
              "    </tr>\n",
              "    <tr>\n",
              "      <th>DAYS_ENDDATE_FACT</th>\n",
              "      <td>633653</td>\n",
              "      <td>36.9</td>\n",
              "    </tr>\n",
              "    <tr>\n",
              "      <th>AMT_CREDIT_SUM_LIMIT</th>\n",
              "      <td>591780</td>\n",
              "      <td>34.5</td>\n",
              "    </tr>\n",
              "    <tr>\n",
              "      <th>AMT_CREDIT_SUM_DEBT</th>\n",
              "      <td>257669</td>\n",
              "      <td>15.0</td>\n",
              "    </tr>\n",
              "    <tr>\n",
              "      <th>DAYS_CREDIT_ENDDATE</th>\n",
              "      <td>105553</td>\n",
              "      <td>6.1</td>\n",
              "    </tr>\n",
              "    <tr>\n",
              "      <th>AMT_CREDIT_SUM</th>\n",
              "      <td>13</td>\n",
              "      <td>0.0</td>\n",
              "    </tr>\n",
              "  </tbody>\n",
              "</table>\n",
              "</div>"
            ],
            "text/plain": [
              "                        Missing Values  % of Total Values\n",
              "AMT_ANNUITY                    1226791               71.5\n",
              "AMT_CREDIT_MAX_OVERDUE         1124488               65.5\n",
              "DAYS_ENDDATE_FACT               633653               36.9\n",
              "AMT_CREDIT_SUM_LIMIT            591780               34.5\n",
              "AMT_CREDIT_SUM_DEBT             257669               15.0\n",
              "DAYS_CREDIT_ENDDATE             105553                6.1\n",
              "AMT_CREDIT_SUM                      13                0.0"
            ]
          },
          "metadata": {
            "tags": []
          },
          "execution_count": 31
        }
      ]
    },
    {
      "metadata": {
        "id": "DJqQ7rHcSZOt",
        "colab_type": "text"
      },
      "cell_type": "markdown",
      "source": [
        "### 1st cut remove Missing Data"
      ]
    },
    {
      "metadata": {
        "id": "I70vtS8nSZOu",
        "colab_type": "code",
        "outputId": "aa40521d-4046-4e50-8691-ad697227821f",
        "colab": {}
      },
      "cell_type": "code",
      "source": [
        "missing_values_var2=list(missing_values2.index[missing_values2['% of Total Values']>5])\n",
        "len(missing_values_var2)\n",
        "missing_values_var2\n",
        "# unwanted = {'item', 5}\n",
        "# item_list = [e for e in item_list if e not in unwanted]"
      ],
      "execution_count": 0,
      "outputs": [
        {
          "output_type": "execute_result",
          "data": {
            "text/plain": [
              "6"
            ]
          },
          "metadata": {
            "tags": []
          },
          "execution_count": 32
        },
        {
          "output_type": "execute_result",
          "data": {
            "text/plain": [
              "['AMT_ANNUITY',\n",
              " 'AMT_CREDIT_MAX_OVERDUE',\n",
              " 'DAYS_ENDDATE_FACT',\n",
              " 'AMT_CREDIT_SUM_LIMIT',\n",
              " 'AMT_CREDIT_SUM_DEBT',\n",
              " 'DAYS_CREDIT_ENDDATE']"
            ]
          },
          "metadata": {
            "tags": []
          },
          "execution_count": 32
        }
      ]
    },
    {
      "metadata": {
        "collapsed": true,
        "id": "RV7vYAKzSZOw",
        "colab_type": "code",
        "colab": {}
      },
      "cell_type": "code",
      "source": [
        "df4=df4.drop(columns=missing_values_var2)"
      ],
      "execution_count": 0,
      "outputs": []
    },
    {
      "metadata": {
        "collapsed": true,
        "id": "NCqDNmXdSZOx",
        "colab_type": "code",
        "colab": {}
      },
      "cell_type": "code",
      "source": [
        "df4.update((df4['AMT_CREDIT_SUM']).fillna((df4['AMT_CREDIT_SUM']).median()))\n"
      ],
      "execution_count": 0,
      "outputs": []
    },
    {
      "metadata": {
        "id": "CnWzw7nFSZOz",
        "colab_type": "text"
      },
      "cell_type": "markdown",
      "source": [
        "### Simple Feature Engineering"
      ]
    },
    {
      "metadata": {
        "id": "wvey43feSZOz",
        "colab_type": "text"
      },
      "cell_type": "markdown",
      "source": [
        "1. SK_ID_CURR: ID of loan in our sample - one loan in our sample can have 0,1,2 or more related previous credits in credit.   \n",
        "<br>\n",
        "2. SK_BUREAU_ID: Recoded ID of previous Credit Bureau credit related to our loan (unique coding for each loan application).  \n",
        "<br>\n",
        "3. I am generating a new feature which counts the total previous loan for each loan ID in each row."
      ]
    },
    {
      "metadata": {
        "id": "ofkzreELSZO0",
        "colab_type": "code",
        "outputId": "ca72f34e-72cb-4e9c-aa32-a19f63dcfaa1",
        "colab": {}
      },
      "cell_type": "code",
      "source": [
        "## TO check that the previous Loan IDs are unique\n",
        "any(df4['SK_ID_BUREAU'].duplicated())\n",
        "# Generate the number of previous applications for each applicant ID\n",
        "previous_loans=df4.groupby('SK_ID_CURR', as_index=False)['SK_ID_BUREAU'].count()\n",
        "previous_loans.rename(columns={'SK_ID_BUREAU': 'previous_loan_counts'},inplace=True)\n",
        "# Merge with the Bureau Data left join on ID\n",
        "df4.merge(previous_loans,on='SK_ID_CURR', how ='left')"
      ],
      "execution_count": 0,
      "outputs": [
        {
          "output_type": "execute_result",
          "data": {
            "text/plain": [
              "False"
            ]
          },
          "metadata": {
            "tags": []
          },
          "execution_count": 35
        },
        {
          "output_type": "execute_result",
          "data": {
            "text/html": [
              "<div>\n",
              "<style scoped>\n",
              "    .dataframe tbody tr th:only-of-type {\n",
              "        vertical-align: middle;\n",
              "    }\n",
              "\n",
              "    .dataframe tbody tr th {\n",
              "        vertical-align: top;\n",
              "    }\n",
              "\n",
              "    .dataframe thead th {\n",
              "        text-align: right;\n",
              "    }\n",
              "</style>\n",
              "<table border=\"1\" class=\"dataframe\">\n",
              "  <thead>\n",
              "    <tr style=\"text-align: right;\">\n",
              "      <th></th>\n",
              "      <th>SK_ID_CURR</th>\n",
              "      <th>SK_ID_BUREAU</th>\n",
              "      <th>CREDIT_ACTIVE</th>\n",
              "      <th>CREDIT_CURRENCY</th>\n",
              "      <th>DAYS_CREDIT</th>\n",
              "      <th>CREDIT_DAY_OVERDUE</th>\n",
              "      <th>CNT_CREDIT_PROLONG</th>\n",
              "      <th>AMT_CREDIT_SUM</th>\n",
              "      <th>AMT_CREDIT_SUM_OVERDUE</th>\n",
              "      <th>CREDIT_TYPE</th>\n",
              "      <th>DAYS_CREDIT_UPDATE</th>\n",
              "      <th>previous_loan_counts</th>\n",
              "    </tr>\n",
              "  </thead>\n",
              "  <tbody>\n",
              "    <tr>\n",
              "      <th>0</th>\n",
              "      <td>215354</td>\n",
              "      <td>5714462</td>\n",
              "      <td>Closed</td>\n",
              "      <td>currency 1</td>\n",
              "      <td>-497</td>\n",
              "      <td>0</td>\n",
              "      <td>0</td>\n",
              "      <td>91323.000</td>\n",
              "      <td>0.0</td>\n",
              "      <td>Consumer credit</td>\n",
              "      <td>-131</td>\n",
              "      <td>11</td>\n",
              "    </tr>\n",
              "    <tr>\n",
              "      <th>1</th>\n",
              "      <td>215354</td>\n",
              "      <td>5714463</td>\n",
              "      <td>Active</td>\n",
              "      <td>currency 1</td>\n",
              "      <td>-208</td>\n",
              "      <td>0</td>\n",
              "      <td>0</td>\n",
              "      <td>225000.000</td>\n",
              "      <td>0.0</td>\n",
              "      <td>Credit card</td>\n",
              "      <td>-20</td>\n",
              "      <td>11</td>\n",
              "    </tr>\n",
              "    <tr>\n",
              "      <th>2</th>\n",
              "      <td>215354</td>\n",
              "      <td>5714464</td>\n",
              "      <td>Active</td>\n",
              "      <td>currency 1</td>\n",
              "      <td>-203</td>\n",
              "      <td>0</td>\n",
              "      <td>0</td>\n",
              "      <td>464323.500</td>\n",
              "      <td>0.0</td>\n",
              "      <td>Consumer credit</td>\n",
              "      <td>-16</td>\n",
              "      <td>11</td>\n",
              "    </tr>\n",
              "    <tr>\n",
              "      <th>3</th>\n",
              "      <td>215354</td>\n",
              "      <td>5714465</td>\n",
              "      <td>Active</td>\n",
              "      <td>currency 1</td>\n",
              "      <td>-203</td>\n",
              "      <td>0</td>\n",
              "      <td>0</td>\n",
              "      <td>90000.000</td>\n",
              "      <td>0.0</td>\n",
              "      <td>Credit card</td>\n",
              "      <td>-16</td>\n",
              "      <td>11</td>\n",
              "    </tr>\n",
              "    <tr>\n",
              "      <th>4</th>\n",
              "      <td>215354</td>\n",
              "      <td>5714466</td>\n",
              "      <td>Active</td>\n",
              "      <td>currency 1</td>\n",
              "      <td>-629</td>\n",
              "      <td>0</td>\n",
              "      <td>0</td>\n",
              "      <td>2700000.000</td>\n",
              "      <td>0.0</td>\n",
              "      <td>Consumer credit</td>\n",
              "      <td>-21</td>\n",
              "      <td>11</td>\n",
              "    </tr>\n",
              "    <tr>\n",
              "      <th>5</th>\n",
              "      <td>215354</td>\n",
              "      <td>5714467</td>\n",
              "      <td>Active</td>\n",
              "      <td>currency 1</td>\n",
              "      <td>-273</td>\n",
              "      <td>0</td>\n",
              "      <td>0</td>\n",
              "      <td>180000.000</td>\n",
              "      <td>0.0</td>\n",
              "      <td>Credit card</td>\n",
              "      <td>-31</td>\n",
              "      <td>11</td>\n",
              "    </tr>\n",
              "    <tr>\n",
              "      <th>6</th>\n",
              "      <td>215354</td>\n",
              "      <td>5714468</td>\n",
              "      <td>Active</td>\n",
              "      <td>currency 1</td>\n",
              "      <td>-43</td>\n",
              "      <td>0</td>\n",
              "      <td>0</td>\n",
              "      <td>42103.800</td>\n",
              "      <td>0.0</td>\n",
              "      <td>Consumer credit</td>\n",
              "      <td>-22</td>\n",
              "      <td>11</td>\n",
              "    </tr>\n",
              "    <tr>\n",
              "      <th>7</th>\n",
              "      <td>162297</td>\n",
              "      <td>5714469</td>\n",
              "      <td>Closed</td>\n",
              "      <td>currency 1</td>\n",
              "      <td>-1896</td>\n",
              "      <td>0</td>\n",
              "      <td>0</td>\n",
              "      <td>76878.450</td>\n",
              "      <td>0.0</td>\n",
              "      <td>Consumer credit</td>\n",
              "      <td>-1710</td>\n",
              "      <td>6</td>\n",
              "    </tr>\n",
              "    <tr>\n",
              "      <th>8</th>\n",
              "      <td>162297</td>\n",
              "      <td>5714470</td>\n",
              "      <td>Closed</td>\n",
              "      <td>currency 1</td>\n",
              "      <td>-1146</td>\n",
              "      <td>0</td>\n",
              "      <td>0</td>\n",
              "      <td>103007.700</td>\n",
              "      <td>0.0</td>\n",
              "      <td>Consumer credit</td>\n",
              "      <td>-840</td>\n",
              "      <td>6</td>\n",
              "    </tr>\n",
              "    <tr>\n",
              "      <th>9</th>\n",
              "      <td>162297</td>\n",
              "      <td>5714471</td>\n",
              "      <td>Active</td>\n",
              "      <td>currency 1</td>\n",
              "      <td>-1146</td>\n",
              "      <td>0</td>\n",
              "      <td>0</td>\n",
              "      <td>4500.000</td>\n",
              "      <td>0.0</td>\n",
              "      <td>Credit card</td>\n",
              "      <td>-690</td>\n",
              "      <td>6</td>\n",
              "    </tr>\n",
              "    <tr>\n",
              "      <th>10</th>\n",
              "      <td>162297</td>\n",
              "      <td>5714472</td>\n",
              "      <td>Active</td>\n",
              "      <td>currency 1</td>\n",
              "      <td>-1146</td>\n",
              "      <td>0</td>\n",
              "      <td>0</td>\n",
              "      <td>337500.000</td>\n",
              "      <td>0.0</td>\n",
              "      <td>Credit card</td>\n",
              "      <td>-690</td>\n",
              "      <td>6</td>\n",
              "    </tr>\n",
              "    <tr>\n",
              "      <th>11</th>\n",
              "      <td>162297</td>\n",
              "      <td>5714473</td>\n",
              "      <td>Closed</td>\n",
              "      <td>currency 1</td>\n",
              "      <td>-2456</td>\n",
              "      <td>0</td>\n",
              "      <td>0</td>\n",
              "      <td>675000.000</td>\n",
              "      <td>0.0</td>\n",
              "      <td>Consumer credit</td>\n",
              "      <td>-706</td>\n",
              "      <td>6</td>\n",
              "    </tr>\n",
              "    <tr>\n",
              "      <th>12</th>\n",
              "      <td>162297</td>\n",
              "      <td>5714474</td>\n",
              "      <td>Active</td>\n",
              "      <td>currency 1</td>\n",
              "      <td>-277</td>\n",
              "      <td>0</td>\n",
              "      <td>0</td>\n",
              "      <td>7033500.000</td>\n",
              "      <td>0.0</td>\n",
              "      <td>Mortgage</td>\n",
              "      <td>-31</td>\n",
              "      <td>6</td>\n",
              "    </tr>\n",
              "    <tr>\n",
              "      <th>13</th>\n",
              "      <td>402440</td>\n",
              "      <td>5714475</td>\n",
              "      <td>Active</td>\n",
              "      <td>currency 1</td>\n",
              "      <td>-96</td>\n",
              "      <td>0</td>\n",
              "      <td>0</td>\n",
              "      <td>89910.000</td>\n",
              "      <td>0.0</td>\n",
              "      <td>Consumer credit</td>\n",
              "      <td>-22</td>\n",
              "      <td>1</td>\n",
              "    </tr>\n",
              "    <tr>\n",
              "      <th>14</th>\n",
              "      <td>238881</td>\n",
              "      <td>5714482</td>\n",
              "      <td>Closed</td>\n",
              "      <td>currency 1</td>\n",
              "      <td>-318</td>\n",
              "      <td>0</td>\n",
              "      <td>0</td>\n",
              "      <td>0.000</td>\n",
              "      <td>0.0</td>\n",
              "      <td>Credit card</td>\n",
              "      <td>-185</td>\n",
              "      <td>8</td>\n",
              "    </tr>\n",
              "    <tr>\n",
              "      <th>15</th>\n",
              "      <td>238881</td>\n",
              "      <td>5714484</td>\n",
              "      <td>Closed</td>\n",
              "      <td>currency 1</td>\n",
              "      <td>-2911</td>\n",
              "      <td>0</td>\n",
              "      <td>0</td>\n",
              "      <td>48555.000</td>\n",
              "      <td>0.0</td>\n",
              "      <td>Consumer credit</td>\n",
              "      <td>-2601</td>\n",
              "      <td>8</td>\n",
              "    </tr>\n",
              "    <tr>\n",
              "      <th>16</th>\n",
              "      <td>238881</td>\n",
              "      <td>5714485</td>\n",
              "      <td>Closed</td>\n",
              "      <td>currency 1</td>\n",
              "      <td>-2148</td>\n",
              "      <td>0</td>\n",
              "      <td>0</td>\n",
              "      <td>135000.000</td>\n",
              "      <td>0.0</td>\n",
              "      <td>Consumer credit</td>\n",
              "      <td>-984</td>\n",
              "      <td>8</td>\n",
              "    </tr>\n",
              "    <tr>\n",
              "      <th>17</th>\n",
              "      <td>238881</td>\n",
              "      <td>5714486</td>\n",
              "      <td>Active</td>\n",
              "      <td>currency 1</td>\n",
              "      <td>-381</td>\n",
              "      <td>0</td>\n",
              "      <td>0</td>\n",
              "      <td>450000.000</td>\n",
              "      <td>0.0</td>\n",
              "      <td>Consumer credit</td>\n",
              "      <td>-4</td>\n",
              "      <td>8</td>\n",
              "    </tr>\n",
              "    <tr>\n",
              "      <th>18</th>\n",
              "      <td>238881</td>\n",
              "      <td>5714487</td>\n",
              "      <td>Active</td>\n",
              "      <td>currency 1</td>\n",
              "      <td>-95</td>\n",
              "      <td>0</td>\n",
              "      <td>0</td>\n",
              "      <td>67500.000</td>\n",
              "      <td>0.0</td>\n",
              "      <td>Credit card</td>\n",
              "      <td>-7</td>\n",
              "      <td>8</td>\n",
              "    </tr>\n",
              "    <tr>\n",
              "      <th>19</th>\n",
              "      <td>238881</td>\n",
              "      <td>5714488</td>\n",
              "      <td>Closed</td>\n",
              "      <td>currency 1</td>\n",
              "      <td>-444</td>\n",
              "      <td>0</td>\n",
              "      <td>0</td>\n",
              "      <td>107184.060</td>\n",
              "      <td>0.0</td>\n",
              "      <td>Consumer credit</td>\n",
              "      <td>-71</td>\n",
              "      <td>8</td>\n",
              "    </tr>\n",
              "    <tr>\n",
              "      <th>20</th>\n",
              "      <td>238881</td>\n",
              "      <td>5714489</td>\n",
              "      <td>Active</td>\n",
              "      <td>currency 1</td>\n",
              "      <td>-392</td>\n",
              "      <td>0</td>\n",
              "      <td>0</td>\n",
              "      <td>252000.000</td>\n",
              "      <td>0.0</td>\n",
              "      <td>Credit card</td>\n",
              "      <td>-22</td>\n",
              "      <td>8</td>\n",
              "    </tr>\n",
              "    <tr>\n",
              "      <th>21</th>\n",
              "      <td>222183</td>\n",
              "      <td>5714491</td>\n",
              "      <td>Active</td>\n",
              "      <td>currency 1</td>\n",
              "      <td>-784</td>\n",
              "      <td>0</td>\n",
              "      <td>0</td>\n",
              "      <td>0.000</td>\n",
              "      <td>0.0</td>\n",
              "      <td>Credit card</td>\n",
              "      <td>-694</td>\n",
              "      <td>8</td>\n",
              "    </tr>\n",
              "    <tr>\n",
              "      <th>22</th>\n",
              "      <td>222183</td>\n",
              "      <td>5714492</td>\n",
              "      <td>Active</td>\n",
              "      <td>currency 1</td>\n",
              "      <td>-774</td>\n",
              "      <td>0</td>\n",
              "      <td>0</td>\n",
              "      <td>127840.500</td>\n",
              "      <td>0.0</td>\n",
              "      <td>Credit card</td>\n",
              "      <td>-210</td>\n",
              "      <td>8</td>\n",
              "    </tr>\n",
              "    <tr>\n",
              "      <th>23</th>\n",
              "      <td>222183</td>\n",
              "      <td>5714493</td>\n",
              "      <td>Active</td>\n",
              "      <td>currency 1</td>\n",
              "      <td>-395</td>\n",
              "      <td>0</td>\n",
              "      <td>0</td>\n",
              "      <td>1350000.000</td>\n",
              "      <td>0.0</td>\n",
              "      <td>Consumer credit</td>\n",
              "      <td>-24</td>\n",
              "      <td>8</td>\n",
              "    </tr>\n",
              "    <tr>\n",
              "      <th>24</th>\n",
              "      <td>222183</td>\n",
              "      <td>5714495</td>\n",
              "      <td>Closed</td>\n",
              "      <td>currency 1</td>\n",
              "      <td>-2744</td>\n",
              "      <td>0</td>\n",
              "      <td>0</td>\n",
              "      <td>18157.500</td>\n",
              "      <td>0.0</td>\n",
              "      <td>Consumer credit</td>\n",
              "      <td>-2559</td>\n",
              "      <td>8</td>\n",
              "    </tr>\n",
              "    <tr>\n",
              "      <th>25</th>\n",
              "      <td>222183</td>\n",
              "      <td>5714496</td>\n",
              "      <td>Closed</td>\n",
              "      <td>currency 1</td>\n",
              "      <td>-1103</td>\n",
              "      <td>0</td>\n",
              "      <td>0</td>\n",
              "      <td>675000.000</td>\n",
              "      <td>0.0</td>\n",
              "      <td>Consumer credit</td>\n",
              "      <td>-343</td>\n",
              "      <td>8</td>\n",
              "    </tr>\n",
              "    <tr>\n",
              "      <th>26</th>\n",
              "      <td>222183</td>\n",
              "      <td>5714497</td>\n",
              "      <td>Active</td>\n",
              "      <td>currency 1</td>\n",
              "      <td>-315</td>\n",
              "      <td>0</td>\n",
              "      <td>0</td>\n",
              "      <td>3709552.500</td>\n",
              "      <td>0.0</td>\n",
              "      <td>Car loan</td>\n",
              "      <td>-32</td>\n",
              "      <td>8</td>\n",
              "    </tr>\n",
              "    <tr>\n",
              "      <th>27</th>\n",
              "      <td>426155</td>\n",
              "      <td>5714498</td>\n",
              "      <td>Closed</td>\n",
              "      <td>currency 1</td>\n",
              "      <td>-1331</td>\n",
              "      <td>0</td>\n",
              "      <td>0</td>\n",
              "      <td>39433.500</td>\n",
              "      <td>0.0</td>\n",
              "      <td>Consumer credit</td>\n",
              "      <td>-1023</td>\n",
              "      <td>4</td>\n",
              "    </tr>\n",
              "    <tr>\n",
              "      <th>28</th>\n",
              "      <td>426155</td>\n",
              "      <td>5714499</td>\n",
              "      <td>Closed</td>\n",
              "      <td>currency 1</td>\n",
              "      <td>-2534</td>\n",
              "      <td>0</td>\n",
              "      <td>0</td>\n",
              "      <td>38830.500</td>\n",
              "      <td>0.0</td>\n",
              "      <td>Consumer credit</td>\n",
              "      <td>-2345</td>\n",
              "      <td>4</td>\n",
              "    </tr>\n",
              "    <tr>\n",
              "      <th>29</th>\n",
              "      <td>426155</td>\n",
              "      <td>5714500</td>\n",
              "      <td>Closed</td>\n",
              "      <td>currency 1</td>\n",
              "      <td>-845</td>\n",
              "      <td>0</td>\n",
              "      <td>0</td>\n",
              "      <td>67500.000</td>\n",
              "      <td>0.0</td>\n",
              "      <td>Consumer credit</td>\n",
              "      <td>-480</td>\n",
              "      <td>4</td>\n",
              "    </tr>\n",
              "    <tr>\n",
              "      <th>30</th>\n",
              "      <td>426155</td>\n",
              "      <td>5714501</td>\n",
              "      <td>Closed</td>\n",
              "      <td>currency 1</td>\n",
              "      <td>-529</td>\n",
              "      <td>0</td>\n",
              "      <td>0</td>\n",
              "      <td>182791.440</td>\n",
              "      <td>0.0</td>\n",
              "      <td>Consumer credit</td>\n",
              "      <td>-337</td>\n",
              "      <td>4</td>\n",
              "    </tr>\n",
              "    <tr>\n",
              "      <th>31</th>\n",
              "      <td>136226</td>\n",
              "      <td>5714502</td>\n",
              "      <td>Active</td>\n",
              "      <td>currency 1</td>\n",
              "      <td>-521</td>\n",
              "      <td>0</td>\n",
              "      <td>0</td>\n",
              "      <td>112500.000</td>\n",
              "      <td>0.0</td>\n",
              "      <td>Credit card</td>\n",
              "      <td>-30</td>\n",
              "      <td>2</td>\n",
              "    </tr>\n",
              "    <tr>\n",
              "      <th>32</th>\n",
              "      <td>136226</td>\n",
              "      <td>5714503</td>\n",
              "      <td>Closed</td>\n",
              "      <td>currency 1</td>\n",
              "      <td>-559</td>\n",
              "      <td>0</td>\n",
              "      <td>0</td>\n",
              "      <td>110250.000</td>\n",
              "      <td>0.0</td>\n",
              "      <td>Credit card</td>\n",
              "      <td>-351</td>\n",
              "      <td>2</td>\n",
              "    </tr>\n",
              "    <tr>\n",
              "      <th>33</th>\n",
              "      <td>400486</td>\n",
              "      <td>5714504</td>\n",
              "      <td>Closed</td>\n",
              "      <td>currency 1</td>\n",
              "      <td>-2413</td>\n",
              "      <td>0</td>\n",
              "      <td>0</td>\n",
              "      <td>180000.000</td>\n",
              "      <td>0.0</td>\n",
              "      <td>Consumer credit</td>\n",
              "      <td>-708</td>\n",
              "      <td>6</td>\n",
              "    </tr>\n",
              "    <tr>\n",
              "      <th>34</th>\n",
              "      <td>400486</td>\n",
              "      <td>5714506</td>\n",
              "      <td>Active</td>\n",
              "      <td>currency 1</td>\n",
              "      <td>-941</td>\n",
              "      <td>0</td>\n",
              "      <td>0</td>\n",
              "      <td>40500.000</td>\n",
              "      <td>0.0</td>\n",
              "      <td>Credit card</td>\n",
              "      <td>-15</td>\n",
              "      <td>6</td>\n",
              "    </tr>\n",
              "    <tr>\n",
              "      <th>35</th>\n",
              "      <td>400486</td>\n",
              "      <td>5714507</td>\n",
              "      <td>Closed</td>\n",
              "      <td>currency 1</td>\n",
              "      <td>-1110</td>\n",
              "      <td>0</td>\n",
              "      <td>0</td>\n",
              "      <td>114727.500</td>\n",
              "      <td>0.0</td>\n",
              "      <td>Consumer credit</td>\n",
              "      <td>-658</td>\n",
              "      <td>6</td>\n",
              "    </tr>\n",
              "    <tr>\n",
              "      <th>36</th>\n",
              "      <td>400486</td>\n",
              "      <td>5714508</td>\n",
              "      <td>Closed</td>\n",
              "      <td>currency 1</td>\n",
              "      <td>-2133</td>\n",
              "      <td>0</td>\n",
              "      <td>0</td>\n",
              "      <td>225000.000</td>\n",
              "      <td>0.0</td>\n",
              "      <td>Consumer credit</td>\n",
              "      <td>-708</td>\n",
              "      <td>6</td>\n",
              "    </tr>\n",
              "    <tr>\n",
              "      <th>37</th>\n",
              "      <td>400486</td>\n",
              "      <td>5714509</td>\n",
              "      <td>Active</td>\n",
              "      <td>currency 1</td>\n",
              "      <td>-391</td>\n",
              "      <td>0</td>\n",
              "      <td>0</td>\n",
              "      <td>142290.000</td>\n",
              "      <td>0.0</td>\n",
              "      <td>Consumer credit</td>\n",
              "      <td>-30</td>\n",
              "      <td>6</td>\n",
              "    </tr>\n",
              "    <tr>\n",
              "      <th>38</th>\n",
              "      <td>435112</td>\n",
              "      <td>5714512</td>\n",
              "      <td>Closed</td>\n",
              "      <td>currency 1</td>\n",
              "      <td>-1412</td>\n",
              "      <td>0</td>\n",
              "      <td>0</td>\n",
              "      <td>85288.500</td>\n",
              "      <td>0.0</td>\n",
              "      <td>Consumer credit</td>\n",
              "      <td>-753</td>\n",
              "      <td>12</td>\n",
              "    </tr>\n",
              "    <tr>\n",
              "      <th>39</th>\n",
              "      <td>435112</td>\n",
              "      <td>5714513</td>\n",
              "      <td>Closed</td>\n",
              "      <td>currency 1</td>\n",
              "      <td>-1590</td>\n",
              "      <td>0</td>\n",
              "      <td>0</td>\n",
              "      <td>100129.500</td>\n",
              "      <td>0.0</td>\n",
              "      <td>Consumer credit</td>\n",
              "      <td>-783</td>\n",
              "      <td>12</td>\n",
              "    </tr>\n",
              "    <tr>\n",
              "      <th>...</th>\n",
              "      <td>...</td>\n",
              "      <td>...</td>\n",
              "      <td>...</td>\n",
              "      <td>...</td>\n",
              "      <td>...</td>\n",
              "      <td>...</td>\n",
              "      <td>...</td>\n",
              "      <td>...</td>\n",
              "      <td>...</td>\n",
              "      <td>...</td>\n",
              "      <td>...</td>\n",
              "      <td>...</td>\n",
              "    </tr>\n",
              "    <tr>\n",
              "      <th>1716388</th>\n",
              "      <td>200106</td>\n",
              "      <td>5057442</td>\n",
              "      <td>Closed</td>\n",
              "      <td>currency 1</td>\n",
              "      <td>-898</td>\n",
              "      <td>0</td>\n",
              "      <td>0</td>\n",
              "      <td>11250.000</td>\n",
              "      <td>0.0</td>\n",
              "      <td>Consumer credit</td>\n",
              "      <td>-805</td>\n",
              "      <td>13</td>\n",
              "    </tr>\n",
              "    <tr>\n",
              "      <th>1716389</th>\n",
              "      <td>410531</td>\n",
              "      <td>5057463</td>\n",
              "      <td>Active</td>\n",
              "      <td>currency 1</td>\n",
              "      <td>-365</td>\n",
              "      <td>0</td>\n",
              "      <td>0</td>\n",
              "      <td>721863.000</td>\n",
              "      <td>0.0</td>\n",
              "      <td>Consumer credit</td>\n",
              "      <td>-28</td>\n",
              "      <td>7</td>\n",
              "    </tr>\n",
              "    <tr>\n",
              "      <th>1716390</th>\n",
              "      <td>410531</td>\n",
              "      <td>5057465</td>\n",
              "      <td>Active</td>\n",
              "      <td>currency 1</td>\n",
              "      <td>-259</td>\n",
              "      <td>0</td>\n",
              "      <td>0</td>\n",
              "      <td>675000.000</td>\n",
              "      <td>0.0</td>\n",
              "      <td>Credit card</td>\n",
              "      <td>-11</td>\n",
              "      <td>7</td>\n",
              "    </tr>\n",
              "    <tr>\n",
              "      <th>1716391</th>\n",
              "      <td>129669</td>\n",
              "      <td>5057475</td>\n",
              "      <td>Closed</td>\n",
              "      <td>currency 1</td>\n",
              "      <td>-918</td>\n",
              "      <td>0</td>\n",
              "      <td>0</td>\n",
              "      <td>90000.000</td>\n",
              "      <td>0.0</td>\n",
              "      <td>Consumer credit</td>\n",
              "      <td>-708</td>\n",
              "      <td>5</td>\n",
              "    </tr>\n",
              "    <tr>\n",
              "      <th>1716392</th>\n",
              "      <td>342493</td>\n",
              "      <td>5057483</td>\n",
              "      <td>Closed</td>\n",
              "      <td>currency 1</td>\n",
              "      <td>-673</td>\n",
              "      <td>0</td>\n",
              "      <td>0</td>\n",
              "      <td>135000.000</td>\n",
              "      <td>0.0</td>\n",
              "      <td>Consumer credit</td>\n",
              "      <td>-556</td>\n",
              "      <td>11</td>\n",
              "    </tr>\n",
              "    <tr>\n",
              "      <th>1716393</th>\n",
              "      <td>251142</td>\n",
              "      <td>5057494</td>\n",
              "      <td>Closed</td>\n",
              "      <td>currency 1</td>\n",
              "      <td>-2023</td>\n",
              "      <td>0</td>\n",
              "      <td>0</td>\n",
              "      <td>121500.000</td>\n",
              "      <td>0.0</td>\n",
              "      <td>Consumer credit</td>\n",
              "      <td>-1532</td>\n",
              "      <td>10</td>\n",
              "    </tr>\n",
              "    <tr>\n",
              "      <th>1716394</th>\n",
              "      <td>251142</td>\n",
              "      <td>5057502</td>\n",
              "      <td>Closed</td>\n",
              "      <td>currency 1</td>\n",
              "      <td>-478</td>\n",
              "      <td>0</td>\n",
              "      <td>0</td>\n",
              "      <td>55440.000</td>\n",
              "      <td>0.0</td>\n",
              "      <td>Consumer credit</td>\n",
              "      <td>-295</td>\n",
              "      <td>10</td>\n",
              "    </tr>\n",
              "    <tr>\n",
              "      <th>1716395</th>\n",
              "      <td>181001</td>\n",
              "      <td>5057523</td>\n",
              "      <td>Active</td>\n",
              "      <td>currency 1</td>\n",
              "      <td>-112</td>\n",
              "      <td>0</td>\n",
              "      <td>0</td>\n",
              "      <td>418500.000</td>\n",
              "      <td>0.0</td>\n",
              "      <td>Credit card</td>\n",
              "      <td>-39</td>\n",
              "      <td>11</td>\n",
              "    </tr>\n",
              "    <tr>\n",
              "      <th>1716396</th>\n",
              "      <td>181001</td>\n",
              "      <td>5057529</td>\n",
              "      <td>Closed</td>\n",
              "      <td>currency 1</td>\n",
              "      <td>-339</td>\n",
              "      <td>0</td>\n",
              "      <td>0</td>\n",
              "      <td>1057500.000</td>\n",
              "      <td>0.0</td>\n",
              "      <td>Consumer credit</td>\n",
              "      <td>-163</td>\n",
              "      <td>11</td>\n",
              "    </tr>\n",
              "    <tr>\n",
              "      <th>1716397</th>\n",
              "      <td>181001</td>\n",
              "      <td>5057533</td>\n",
              "      <td>Closed</td>\n",
              "      <td>currency 1</td>\n",
              "      <td>-911</td>\n",
              "      <td>0</td>\n",
              "      <td>0</td>\n",
              "      <td>36945.000</td>\n",
              "      <td>0.0</td>\n",
              "      <td>Consumer credit</td>\n",
              "      <td>-631</td>\n",
              "      <td>11</td>\n",
              "    </tr>\n",
              "    <tr>\n",
              "      <th>1716398</th>\n",
              "      <td>312021</td>\n",
              "      <td>5057541</td>\n",
              "      <td>Closed</td>\n",
              "      <td>currency 1</td>\n",
              "      <td>-1529</td>\n",
              "      <td>0</td>\n",
              "      <td>0</td>\n",
              "      <td>209898.000</td>\n",
              "      <td>0.0</td>\n",
              "      <td>Consumer credit</td>\n",
              "      <td>-824</td>\n",
              "      <td>7</td>\n",
              "    </tr>\n",
              "    <tr>\n",
              "      <th>1716399</th>\n",
              "      <td>232638</td>\n",
              "      <td>5057553</td>\n",
              "      <td>Active</td>\n",
              "      <td>currency 1</td>\n",
              "      <td>-613</td>\n",
              "      <td>0</td>\n",
              "      <td>0</td>\n",
              "      <td>972000.000</td>\n",
              "      <td>0.0</td>\n",
              "      <td>Credit card</td>\n",
              "      <td>-42</td>\n",
              "      <td>5</td>\n",
              "    </tr>\n",
              "    <tr>\n",
              "      <th>1716400</th>\n",
              "      <td>318662</td>\n",
              "      <td>5057561</td>\n",
              "      <td>Active</td>\n",
              "      <td>currency 1</td>\n",
              "      <td>-815</td>\n",
              "      <td>0</td>\n",
              "      <td>0</td>\n",
              "      <td>147150.000</td>\n",
              "      <td>0.0</td>\n",
              "      <td>Consumer credit</td>\n",
              "      <td>-70</td>\n",
              "      <td>9</td>\n",
              "    </tr>\n",
              "    <tr>\n",
              "      <th>1716401</th>\n",
              "      <td>145715</td>\n",
              "      <td>5057569</td>\n",
              "      <td>Closed</td>\n",
              "      <td>currency 1</td>\n",
              "      <td>-2333</td>\n",
              "      <td>0</td>\n",
              "      <td>0</td>\n",
              "      <td>35032.500</td>\n",
              "      <td>0.0</td>\n",
              "      <td>Consumer credit</td>\n",
              "      <td>-1984</td>\n",
              "      <td>4</td>\n",
              "    </tr>\n",
              "    <tr>\n",
              "      <th>1716402</th>\n",
              "      <td>352358</td>\n",
              "      <td>5057580</td>\n",
              "      <td>Closed</td>\n",
              "      <td>currency 1</td>\n",
              "      <td>-1714</td>\n",
              "      <td>0</td>\n",
              "      <td>0</td>\n",
              "      <td>35271.000</td>\n",
              "      <td>0.0</td>\n",
              "      <td>Consumer credit</td>\n",
              "      <td>-1532</td>\n",
              "      <td>12</td>\n",
              "    </tr>\n",
              "    <tr>\n",
              "      <th>1716403</th>\n",
              "      <td>361928</td>\n",
              "      <td>5057589</td>\n",
              "      <td>Active</td>\n",
              "      <td>currency 1</td>\n",
              "      <td>-765</td>\n",
              "      <td>0</td>\n",
              "      <td>0</td>\n",
              "      <td>1431000.000</td>\n",
              "      <td>0.0</td>\n",
              "      <td>Consumer credit</td>\n",
              "      <td>-126</td>\n",
              "      <td>6</td>\n",
              "    </tr>\n",
              "    <tr>\n",
              "      <th>1716404</th>\n",
              "      <td>166279</td>\n",
              "      <td>5057599</td>\n",
              "      <td>Active</td>\n",
              "      <td>currency 1</td>\n",
              "      <td>-99</td>\n",
              "      <td>0</td>\n",
              "      <td>0</td>\n",
              "      <td>450000.000</td>\n",
              "      <td>0.0</td>\n",
              "      <td>Consumer credit</td>\n",
              "      <td>-7</td>\n",
              "      <td>9</td>\n",
              "    </tr>\n",
              "    <tr>\n",
              "      <th>1716405</th>\n",
              "      <td>438109</td>\n",
              "      <td>5057605</td>\n",
              "      <td>Closed</td>\n",
              "      <td>currency 1</td>\n",
              "      <td>-2390</td>\n",
              "      <td>0</td>\n",
              "      <td>0</td>\n",
              "      <td>112204.350</td>\n",
              "      <td>0.0</td>\n",
              "      <td>Consumer credit</td>\n",
              "      <td>-2082</td>\n",
              "      <td>8</td>\n",
              "    </tr>\n",
              "    <tr>\n",
              "      <th>1716406</th>\n",
              "      <td>335468</td>\n",
              "      <td>5057618</td>\n",
              "      <td>Closed</td>\n",
              "      <td>currency 1</td>\n",
              "      <td>-2517</td>\n",
              "      <td>0</td>\n",
              "      <td>0</td>\n",
              "      <td>473940.000</td>\n",
              "      <td>0.0</td>\n",
              "      <td>Car loan</td>\n",
              "      <td>-2363</td>\n",
              "      <td>6</td>\n",
              "    </tr>\n",
              "    <tr>\n",
              "      <th>1716407</th>\n",
              "      <td>146896</td>\n",
              "      <td>5057629</td>\n",
              "      <td>Closed</td>\n",
              "      <td>currency 1</td>\n",
              "      <td>-1990</td>\n",
              "      <td>0</td>\n",
              "      <td>0</td>\n",
              "      <td>90000.000</td>\n",
              "      <td>0.0</td>\n",
              "      <td>Consumer credit</td>\n",
              "      <td>-1248</td>\n",
              "      <td>15</td>\n",
              "    </tr>\n",
              "    <tr>\n",
              "      <th>1716408</th>\n",
              "      <td>146896</td>\n",
              "      <td>5057632</td>\n",
              "      <td>Closed</td>\n",
              "      <td>currency 1</td>\n",
              "      <td>-434</td>\n",
              "      <td>0</td>\n",
              "      <td>0</td>\n",
              "      <td>234000.000</td>\n",
              "      <td>0.0</td>\n",
              "      <td>Credit card</td>\n",
              "      <td>-336</td>\n",
              "      <td>15</td>\n",
              "    </tr>\n",
              "    <tr>\n",
              "      <th>1716409</th>\n",
              "      <td>146896</td>\n",
              "      <td>5057636</td>\n",
              "      <td>Closed</td>\n",
              "      <td>currency 1</td>\n",
              "      <td>-1705</td>\n",
              "      <td>0</td>\n",
              "      <td>0</td>\n",
              "      <td>0.000</td>\n",
              "      <td>0.0</td>\n",
              "      <td>Credit card</td>\n",
              "      <td>-582</td>\n",
              "      <td>15</td>\n",
              "    </tr>\n",
              "    <tr>\n",
              "      <th>1716410</th>\n",
              "      <td>280228</td>\n",
              "      <td>5057642</td>\n",
              "      <td>Active</td>\n",
              "      <td>currency 1</td>\n",
              "      <td>-575</td>\n",
              "      <td>0</td>\n",
              "      <td>0</td>\n",
              "      <td>67500.000</td>\n",
              "      <td>0.0</td>\n",
              "      <td>Credit card</td>\n",
              "      <td>-46</td>\n",
              "      <td>5</td>\n",
              "    </tr>\n",
              "    <tr>\n",
              "      <th>1716411</th>\n",
              "      <td>232118</td>\n",
              "      <td>5057652</td>\n",
              "      <td>Closed</td>\n",
              "      <td>currency 1</td>\n",
              "      <td>-821</td>\n",
              "      <td>0</td>\n",
              "      <td>0</td>\n",
              "      <td>108765.720</td>\n",
              "      <td>0.0</td>\n",
              "      <td>Consumer credit</td>\n",
              "      <td>-545</td>\n",
              "      <td>5</td>\n",
              "    </tr>\n",
              "    <tr>\n",
              "      <th>1716412</th>\n",
              "      <td>288038</td>\n",
              "      <td>5057657</td>\n",
              "      <td>Active</td>\n",
              "      <td>currency 1</td>\n",
              "      <td>-541</td>\n",
              "      <td>0</td>\n",
              "      <td>0</td>\n",
              "      <td>225000.000</td>\n",
              "      <td>0.0</td>\n",
              "      <td>Consumer credit</td>\n",
              "      <td>-11</td>\n",
              "      <td>11</td>\n",
              "    </tr>\n",
              "    <tr>\n",
              "      <th>1716413</th>\n",
              "      <td>288038</td>\n",
              "      <td>5057665</td>\n",
              "      <td>Closed</td>\n",
              "      <td>currency 1</td>\n",
              "      <td>-463</td>\n",
              "      <td>0</td>\n",
              "      <td>0</td>\n",
              "      <td>110878.470</td>\n",
              "      <td>0.0</td>\n",
              "      <td>Consumer credit</td>\n",
              "      <td>-33</td>\n",
              "      <td>11</td>\n",
              "    </tr>\n",
              "    <tr>\n",
              "      <th>1716414</th>\n",
              "      <td>445222</td>\n",
              "      <td>5057676</td>\n",
              "      <td>Closed</td>\n",
              "      <td>currency 1</td>\n",
              "      <td>-1628</td>\n",
              "      <td>0</td>\n",
              "      <td>0</td>\n",
              "      <td>57834.000</td>\n",
              "      <td>0.0</td>\n",
              "      <td>Consumer credit</td>\n",
              "      <td>-1320</td>\n",
              "      <td>7</td>\n",
              "    </tr>\n",
              "    <tr>\n",
              "      <th>1716415</th>\n",
              "      <td>317217</td>\n",
              "      <td>5057684</td>\n",
              "      <td>Closed</td>\n",
              "      <td>currency 1</td>\n",
              "      <td>-1970</td>\n",
              "      <td>0</td>\n",
              "      <td>0</td>\n",
              "      <td>93955.500</td>\n",
              "      <td>0.0</td>\n",
              "      <td>Consumer credit</td>\n",
              "      <td>-1577</td>\n",
              "      <td>13</td>\n",
              "    </tr>\n",
              "    <tr>\n",
              "      <th>1716416</th>\n",
              "      <td>433007</td>\n",
              "      <td>5057695</td>\n",
              "      <td>Closed</td>\n",
              "      <td>currency 1</td>\n",
              "      <td>-1100</td>\n",
              "      <td>0</td>\n",
              "      <td>0</td>\n",
              "      <td>98775.000</td>\n",
              "      <td>0.0</td>\n",
              "      <td>Consumer credit</td>\n",
              "      <td>-720</td>\n",
              "      <td>22</td>\n",
              "    </tr>\n",
              "    <tr>\n",
              "      <th>1716417</th>\n",
              "      <td>433007</td>\n",
              "      <td>5057703</td>\n",
              "      <td>Active</td>\n",
              "      <td>currency 1</td>\n",
              "      <td>-740</td>\n",
              "      <td>0</td>\n",
              "      <td>0</td>\n",
              "      <td>67500.000</td>\n",
              "      <td>0.0</td>\n",
              "      <td>Credit card</td>\n",
              "      <td>-433</td>\n",
              "      <td>22</td>\n",
              "    </tr>\n",
              "    <tr>\n",
              "      <th>1716418</th>\n",
              "      <td>433007</td>\n",
              "      <td>5057708</td>\n",
              "      <td>Closed</td>\n",
              "      <td>currency 1</td>\n",
              "      <td>-1389</td>\n",
              "      <td>0</td>\n",
              "      <td>0</td>\n",
              "      <td>334158.435</td>\n",
              "      <td>0.0</td>\n",
              "      <td>Consumer credit</td>\n",
              "      <td>-1299</td>\n",
              "      <td>22</td>\n",
              "    </tr>\n",
              "    <tr>\n",
              "      <th>1716419</th>\n",
              "      <td>352790</td>\n",
              "      <td>5057718</td>\n",
              "      <td>Closed</td>\n",
              "      <td>currency 1</td>\n",
              "      <td>-1808</td>\n",
              "      <td>0</td>\n",
              "      <td>0</td>\n",
              "      <td>28248.840</td>\n",
              "      <td>0.0</td>\n",
              "      <td>Consumer credit</td>\n",
              "      <td>-1625</td>\n",
              "      <td>17</td>\n",
              "    </tr>\n",
              "    <tr>\n",
              "      <th>1716420</th>\n",
              "      <td>352790</td>\n",
              "      <td>5057725</td>\n",
              "      <td>Closed</td>\n",
              "      <td>currency 1</td>\n",
              "      <td>-99</td>\n",
              "      <td>0</td>\n",
              "      <td>0</td>\n",
              "      <td>27000.000</td>\n",
              "      <td>0.0</td>\n",
              "      <td>Consumer credit</td>\n",
              "      <td>-18</td>\n",
              "      <td>17</td>\n",
              "    </tr>\n",
              "    <tr>\n",
              "      <th>1716421</th>\n",
              "      <td>375755</td>\n",
              "      <td>5057734</td>\n",
              "      <td>Closed</td>\n",
              "      <td>currency 1</td>\n",
              "      <td>-1335</td>\n",
              "      <td>0</td>\n",
              "      <td>0</td>\n",
              "      <td>195408.000</td>\n",
              "      <td>0.0</td>\n",
              "      <td>Consumer credit</td>\n",
              "      <td>-1139</td>\n",
              "      <td>15</td>\n",
              "    </tr>\n",
              "    <tr>\n",
              "      <th>1716422</th>\n",
              "      <td>375755</td>\n",
              "      <td>5057742</td>\n",
              "      <td>Closed</td>\n",
              "      <td>currency 1</td>\n",
              "      <td>-2648</td>\n",
              "      <td>0</td>\n",
              "      <td>0</td>\n",
              "      <td>202500.000</td>\n",
              "      <td>0.0</td>\n",
              "      <td>Credit card</td>\n",
              "      <td>-109</td>\n",
              "      <td>15</td>\n",
              "    </tr>\n",
              "    <tr>\n",
              "      <th>1716423</th>\n",
              "      <td>259355</td>\n",
              "      <td>5057750</td>\n",
              "      <td>Active</td>\n",
              "      <td>currency 1</td>\n",
              "      <td>-44</td>\n",
              "      <td>0</td>\n",
              "      <td>0</td>\n",
              "      <td>11250.000</td>\n",
              "      <td>0.0</td>\n",
              "      <td>Microloan</td>\n",
              "      <td>-19</td>\n",
              "      <td>3</td>\n",
              "    </tr>\n",
              "    <tr>\n",
              "      <th>1716424</th>\n",
              "      <td>100044</td>\n",
              "      <td>5057754</td>\n",
              "      <td>Closed</td>\n",
              "      <td>currency 1</td>\n",
              "      <td>-2648</td>\n",
              "      <td>0</td>\n",
              "      <td>0</td>\n",
              "      <td>38130.840</td>\n",
              "      <td>0.0</td>\n",
              "      <td>Consumer credit</td>\n",
              "      <td>-2493</td>\n",
              "      <td>11</td>\n",
              "    </tr>\n",
              "    <tr>\n",
              "      <th>1716425</th>\n",
              "      <td>100044</td>\n",
              "      <td>5057762</td>\n",
              "      <td>Closed</td>\n",
              "      <td>currency 1</td>\n",
              "      <td>-1809</td>\n",
              "      <td>0</td>\n",
              "      <td>0</td>\n",
              "      <td>15570.000</td>\n",
              "      <td>0.0</td>\n",
              "      <td>Consumer credit</td>\n",
              "      <td>-967</td>\n",
              "      <td>11</td>\n",
              "    </tr>\n",
              "    <tr>\n",
              "      <th>1716426</th>\n",
              "      <td>246829</td>\n",
              "      <td>5057770</td>\n",
              "      <td>Closed</td>\n",
              "      <td>currency 1</td>\n",
              "      <td>-1878</td>\n",
              "      <td>0</td>\n",
              "      <td>0</td>\n",
              "      <td>36000.000</td>\n",
              "      <td>0.0</td>\n",
              "      <td>Consumer credit</td>\n",
              "      <td>-1508</td>\n",
              "      <td>31</td>\n",
              "    </tr>\n",
              "    <tr>\n",
              "      <th>1716427</th>\n",
              "      <td>246829</td>\n",
              "      <td>5057778</td>\n",
              "      <td>Closed</td>\n",
              "      <td>currency 1</td>\n",
              "      <td>-463</td>\n",
              "      <td>0</td>\n",
              "      <td>0</td>\n",
              "      <td>22500.000</td>\n",
              "      <td>0.0</td>\n",
              "      <td>Microloan</td>\n",
              "      <td>-387</td>\n",
              "      <td>31</td>\n",
              "    </tr>\n",
              "  </tbody>\n",
              "</table>\n",
              "<p>1716428 rows × 12 columns</p>\n",
              "</div>"
            ],
            "text/plain": [
              "         SK_ID_CURR  SK_ID_BUREAU CREDIT_ACTIVE CREDIT_CURRENCY  DAYS_CREDIT  \\\n",
              "0            215354       5714462        Closed      currency 1         -497   \n",
              "1            215354       5714463        Active      currency 1         -208   \n",
              "2            215354       5714464        Active      currency 1         -203   \n",
              "3            215354       5714465        Active      currency 1         -203   \n",
              "4            215354       5714466        Active      currency 1         -629   \n",
              "5            215354       5714467        Active      currency 1         -273   \n",
              "6            215354       5714468        Active      currency 1          -43   \n",
              "7            162297       5714469        Closed      currency 1        -1896   \n",
              "8            162297       5714470        Closed      currency 1        -1146   \n",
              "9            162297       5714471        Active      currency 1        -1146   \n",
              "10           162297       5714472        Active      currency 1        -1146   \n",
              "11           162297       5714473        Closed      currency 1        -2456   \n",
              "12           162297       5714474        Active      currency 1         -277   \n",
              "13           402440       5714475        Active      currency 1          -96   \n",
              "14           238881       5714482        Closed      currency 1         -318   \n",
              "15           238881       5714484        Closed      currency 1        -2911   \n",
              "16           238881       5714485        Closed      currency 1        -2148   \n",
              "17           238881       5714486        Active      currency 1         -381   \n",
              "18           238881       5714487        Active      currency 1          -95   \n",
              "19           238881       5714488        Closed      currency 1         -444   \n",
              "20           238881       5714489        Active      currency 1         -392   \n",
              "21           222183       5714491        Active      currency 1         -784   \n",
              "22           222183       5714492        Active      currency 1         -774   \n",
              "23           222183       5714493        Active      currency 1         -395   \n",
              "24           222183       5714495        Closed      currency 1        -2744   \n",
              "25           222183       5714496        Closed      currency 1        -1103   \n",
              "26           222183       5714497        Active      currency 1         -315   \n",
              "27           426155       5714498        Closed      currency 1        -1331   \n",
              "28           426155       5714499        Closed      currency 1        -2534   \n",
              "29           426155       5714500        Closed      currency 1         -845   \n",
              "30           426155       5714501        Closed      currency 1         -529   \n",
              "31           136226       5714502        Active      currency 1         -521   \n",
              "32           136226       5714503        Closed      currency 1         -559   \n",
              "33           400486       5714504        Closed      currency 1        -2413   \n",
              "34           400486       5714506        Active      currency 1         -941   \n",
              "35           400486       5714507        Closed      currency 1        -1110   \n",
              "36           400486       5714508        Closed      currency 1        -2133   \n",
              "37           400486       5714509        Active      currency 1         -391   \n",
              "38           435112       5714512        Closed      currency 1        -1412   \n",
              "39           435112       5714513        Closed      currency 1        -1590   \n",
              "...             ...           ...           ...             ...          ...   \n",
              "1716388      200106       5057442        Closed      currency 1         -898   \n",
              "1716389      410531       5057463        Active      currency 1         -365   \n",
              "1716390      410531       5057465        Active      currency 1         -259   \n",
              "1716391      129669       5057475        Closed      currency 1         -918   \n",
              "1716392      342493       5057483        Closed      currency 1         -673   \n",
              "1716393      251142       5057494        Closed      currency 1        -2023   \n",
              "1716394      251142       5057502        Closed      currency 1         -478   \n",
              "1716395      181001       5057523        Active      currency 1         -112   \n",
              "1716396      181001       5057529        Closed      currency 1         -339   \n",
              "1716397      181001       5057533        Closed      currency 1         -911   \n",
              "1716398      312021       5057541        Closed      currency 1        -1529   \n",
              "1716399      232638       5057553        Active      currency 1         -613   \n",
              "1716400      318662       5057561        Active      currency 1         -815   \n",
              "1716401      145715       5057569        Closed      currency 1        -2333   \n",
              "1716402      352358       5057580        Closed      currency 1        -1714   \n",
              "1716403      361928       5057589        Active      currency 1         -765   \n",
              "1716404      166279       5057599        Active      currency 1          -99   \n",
              "1716405      438109       5057605        Closed      currency 1        -2390   \n",
              "1716406      335468       5057618        Closed      currency 1        -2517   \n",
              "1716407      146896       5057629        Closed      currency 1        -1990   \n",
              "1716408      146896       5057632        Closed      currency 1         -434   \n",
              "1716409      146896       5057636        Closed      currency 1        -1705   \n",
              "1716410      280228       5057642        Active      currency 1         -575   \n",
              "1716411      232118       5057652        Closed      currency 1         -821   \n",
              "1716412      288038       5057657        Active      currency 1         -541   \n",
              "1716413      288038       5057665        Closed      currency 1         -463   \n",
              "1716414      445222       5057676        Closed      currency 1        -1628   \n",
              "1716415      317217       5057684        Closed      currency 1        -1970   \n",
              "1716416      433007       5057695        Closed      currency 1        -1100   \n",
              "1716417      433007       5057703        Active      currency 1         -740   \n",
              "1716418      433007       5057708        Closed      currency 1        -1389   \n",
              "1716419      352790       5057718        Closed      currency 1        -1808   \n",
              "1716420      352790       5057725        Closed      currency 1          -99   \n",
              "1716421      375755       5057734        Closed      currency 1        -1335   \n",
              "1716422      375755       5057742        Closed      currency 1        -2648   \n",
              "1716423      259355       5057750        Active      currency 1          -44   \n",
              "1716424      100044       5057754        Closed      currency 1        -2648   \n",
              "1716425      100044       5057762        Closed      currency 1        -1809   \n",
              "1716426      246829       5057770        Closed      currency 1        -1878   \n",
              "1716427      246829       5057778        Closed      currency 1         -463   \n",
              "\n",
              "         CREDIT_DAY_OVERDUE  CNT_CREDIT_PROLONG  AMT_CREDIT_SUM  \\\n",
              "0                         0                   0       91323.000   \n",
              "1                         0                   0      225000.000   \n",
              "2                         0                   0      464323.500   \n",
              "3                         0                   0       90000.000   \n",
              "4                         0                   0     2700000.000   \n",
              "5                         0                   0      180000.000   \n",
              "6                         0                   0       42103.800   \n",
              "7                         0                   0       76878.450   \n",
              "8                         0                   0      103007.700   \n",
              "9                         0                   0        4500.000   \n",
              "10                        0                   0      337500.000   \n",
              "11                        0                   0      675000.000   \n",
              "12                        0                   0     7033500.000   \n",
              "13                        0                   0       89910.000   \n",
              "14                        0                   0           0.000   \n",
              "15                        0                   0       48555.000   \n",
              "16                        0                   0      135000.000   \n",
              "17                        0                   0      450000.000   \n",
              "18                        0                   0       67500.000   \n",
              "19                        0                   0      107184.060   \n",
              "20                        0                   0      252000.000   \n",
              "21                        0                   0           0.000   \n",
              "22                        0                   0      127840.500   \n",
              "23                        0                   0     1350000.000   \n",
              "24                        0                   0       18157.500   \n",
              "25                        0                   0      675000.000   \n",
              "26                        0                   0     3709552.500   \n",
              "27                        0                   0       39433.500   \n",
              "28                        0                   0       38830.500   \n",
              "29                        0                   0       67500.000   \n",
              "30                        0                   0      182791.440   \n",
              "31                        0                   0      112500.000   \n",
              "32                        0                   0      110250.000   \n",
              "33                        0                   0      180000.000   \n",
              "34                        0                   0       40500.000   \n",
              "35                        0                   0      114727.500   \n",
              "36                        0                   0      225000.000   \n",
              "37                        0                   0      142290.000   \n",
              "38                        0                   0       85288.500   \n",
              "39                        0                   0      100129.500   \n",
              "...                     ...                 ...             ...   \n",
              "1716388                   0                   0       11250.000   \n",
              "1716389                   0                   0      721863.000   \n",
              "1716390                   0                   0      675000.000   \n",
              "1716391                   0                   0       90000.000   \n",
              "1716392                   0                   0      135000.000   \n",
              "1716393                   0                   0      121500.000   \n",
              "1716394                   0                   0       55440.000   \n",
              "1716395                   0                   0      418500.000   \n",
              "1716396                   0                   0     1057500.000   \n",
              "1716397                   0                   0       36945.000   \n",
              "1716398                   0                   0      209898.000   \n",
              "1716399                   0                   0      972000.000   \n",
              "1716400                   0                   0      147150.000   \n",
              "1716401                   0                   0       35032.500   \n",
              "1716402                   0                   0       35271.000   \n",
              "1716403                   0                   0     1431000.000   \n",
              "1716404                   0                   0      450000.000   \n",
              "1716405                   0                   0      112204.350   \n",
              "1716406                   0                   0      473940.000   \n",
              "1716407                   0                   0       90000.000   \n",
              "1716408                   0                   0      234000.000   \n",
              "1716409                   0                   0           0.000   \n",
              "1716410                   0                   0       67500.000   \n",
              "1716411                   0                   0      108765.720   \n",
              "1716412                   0                   0      225000.000   \n",
              "1716413                   0                   0      110878.470   \n",
              "1716414                   0                   0       57834.000   \n",
              "1716415                   0                   0       93955.500   \n",
              "1716416                   0                   0       98775.000   \n",
              "1716417                   0                   0       67500.000   \n",
              "1716418                   0                   0      334158.435   \n",
              "1716419                   0                   0       28248.840   \n",
              "1716420                   0                   0       27000.000   \n",
              "1716421                   0                   0      195408.000   \n",
              "1716422                   0                   0      202500.000   \n",
              "1716423                   0                   0       11250.000   \n",
              "1716424                   0                   0       38130.840   \n",
              "1716425                   0                   0       15570.000   \n",
              "1716426                   0                   0       36000.000   \n",
              "1716427                   0                   0       22500.000   \n",
              "\n",
              "         AMT_CREDIT_SUM_OVERDUE      CREDIT_TYPE  DAYS_CREDIT_UPDATE  \\\n",
              "0                           0.0  Consumer credit                -131   \n",
              "1                           0.0      Credit card                 -20   \n",
              "2                           0.0  Consumer credit                 -16   \n",
              "3                           0.0      Credit card                 -16   \n",
              "4                           0.0  Consumer credit                 -21   \n",
              "5                           0.0      Credit card                 -31   \n",
              "6                           0.0  Consumer credit                 -22   \n",
              "7                           0.0  Consumer credit               -1710   \n",
              "8                           0.0  Consumer credit                -840   \n",
              "9                           0.0      Credit card                -690   \n",
              "10                          0.0      Credit card                -690   \n",
              "11                          0.0  Consumer credit                -706   \n",
              "12                          0.0         Mortgage                 -31   \n",
              "13                          0.0  Consumer credit                 -22   \n",
              "14                          0.0      Credit card                -185   \n",
              "15                          0.0  Consumer credit               -2601   \n",
              "16                          0.0  Consumer credit                -984   \n",
              "17                          0.0  Consumer credit                  -4   \n",
              "18                          0.0      Credit card                  -7   \n",
              "19                          0.0  Consumer credit                 -71   \n",
              "20                          0.0      Credit card                 -22   \n",
              "21                          0.0      Credit card                -694   \n",
              "22                          0.0      Credit card                -210   \n",
              "23                          0.0  Consumer credit                 -24   \n",
              "24                          0.0  Consumer credit               -2559   \n",
              "25                          0.0  Consumer credit                -343   \n",
              "26                          0.0         Car loan                 -32   \n",
              "27                          0.0  Consumer credit               -1023   \n",
              "28                          0.0  Consumer credit               -2345   \n",
              "29                          0.0  Consumer credit                -480   \n",
              "30                          0.0  Consumer credit                -337   \n",
              "31                          0.0      Credit card                 -30   \n",
              "32                          0.0      Credit card                -351   \n",
              "33                          0.0  Consumer credit                -708   \n",
              "34                          0.0      Credit card                 -15   \n",
              "35                          0.0  Consumer credit                -658   \n",
              "36                          0.0  Consumer credit                -708   \n",
              "37                          0.0  Consumer credit                 -30   \n",
              "38                          0.0  Consumer credit                -753   \n",
              "39                          0.0  Consumer credit                -783   \n",
              "...                         ...              ...                 ...   \n",
              "1716388                     0.0  Consumer credit                -805   \n",
              "1716389                     0.0  Consumer credit                 -28   \n",
              "1716390                     0.0      Credit card                 -11   \n",
              "1716391                     0.0  Consumer credit                -708   \n",
              "1716392                     0.0  Consumer credit                -556   \n",
              "1716393                     0.0  Consumer credit               -1532   \n",
              "1716394                     0.0  Consumer credit                -295   \n",
              "1716395                     0.0      Credit card                 -39   \n",
              "1716396                     0.0  Consumer credit                -163   \n",
              "1716397                     0.0  Consumer credit                -631   \n",
              "1716398                     0.0  Consumer credit                -824   \n",
              "1716399                     0.0      Credit card                 -42   \n",
              "1716400                     0.0  Consumer credit                 -70   \n",
              "1716401                     0.0  Consumer credit               -1984   \n",
              "1716402                     0.0  Consumer credit               -1532   \n",
              "1716403                     0.0  Consumer credit                -126   \n",
              "1716404                     0.0  Consumer credit                  -7   \n",
              "1716405                     0.0  Consumer credit               -2082   \n",
              "1716406                     0.0         Car loan               -2363   \n",
              "1716407                     0.0  Consumer credit               -1248   \n",
              "1716408                     0.0      Credit card                -336   \n",
              "1716409                     0.0      Credit card                -582   \n",
              "1716410                     0.0      Credit card                 -46   \n",
              "1716411                     0.0  Consumer credit                -545   \n",
              "1716412                     0.0  Consumer credit                 -11   \n",
              "1716413                     0.0  Consumer credit                 -33   \n",
              "1716414                     0.0  Consumer credit               -1320   \n",
              "1716415                     0.0  Consumer credit               -1577   \n",
              "1716416                     0.0  Consumer credit                -720   \n",
              "1716417                     0.0      Credit card                -433   \n",
              "1716418                     0.0  Consumer credit               -1299   \n",
              "1716419                     0.0  Consumer credit               -1625   \n",
              "1716420                     0.0  Consumer credit                 -18   \n",
              "1716421                     0.0  Consumer credit               -1139   \n",
              "1716422                     0.0      Credit card                -109   \n",
              "1716423                     0.0        Microloan                 -19   \n",
              "1716424                     0.0  Consumer credit               -2493   \n",
              "1716425                     0.0  Consumer credit                -967   \n",
              "1716426                     0.0  Consumer credit               -1508   \n",
              "1716427                     0.0        Microloan                -387   \n",
              "\n",
              "         previous_loan_counts  \n",
              "0                          11  \n",
              "1                          11  \n",
              "2                          11  \n",
              "3                          11  \n",
              "4                          11  \n",
              "5                          11  \n",
              "6                          11  \n",
              "7                           6  \n",
              "8                           6  \n",
              "9                           6  \n",
              "10                          6  \n",
              "11                          6  \n",
              "12                          6  \n",
              "13                          1  \n",
              "14                          8  \n",
              "15                          8  \n",
              "16                          8  \n",
              "17                          8  \n",
              "18                          8  \n",
              "19                          8  \n",
              "20                          8  \n",
              "21                          8  \n",
              "22                          8  \n",
              "23                          8  \n",
              "24                          8  \n",
              "25                          8  \n",
              "26                          8  \n",
              "27                          4  \n",
              "28                          4  \n",
              "29                          4  \n",
              "30                          4  \n",
              "31                          2  \n",
              "32                          2  \n",
              "33                          6  \n",
              "34                          6  \n",
              "35                          6  \n",
              "36                          6  \n",
              "37                          6  \n",
              "38                         12  \n",
              "39                         12  \n",
              "...                       ...  \n",
              "1716388                    13  \n",
              "1716389                     7  \n",
              "1716390                     7  \n",
              "1716391                     5  \n",
              "1716392                    11  \n",
              "1716393                    10  \n",
              "1716394                    10  \n",
              "1716395                    11  \n",
              "1716396                    11  \n",
              "1716397                    11  \n",
              "1716398                     7  \n",
              "1716399                     5  \n",
              "1716400                     9  \n",
              "1716401                     4  \n",
              "1716402                    12  \n",
              "1716403                     6  \n",
              "1716404                     9  \n",
              "1716405                     8  \n",
              "1716406                     6  \n",
              "1716407                    15  \n",
              "1716408                    15  \n",
              "1716409                    15  \n",
              "1716410                     5  \n",
              "1716411                     5  \n",
              "1716412                    11  \n",
              "1716413                    11  \n",
              "1716414                     7  \n",
              "1716415                    13  \n",
              "1716416                    22  \n",
              "1716417                    22  \n",
              "1716418                    22  \n",
              "1716419                    17  \n",
              "1716420                    17  \n",
              "1716421                    15  \n",
              "1716422                    15  \n",
              "1716423                     3  \n",
              "1716424                    11  \n",
              "1716425                    11  \n",
              "1716426                    31  \n",
              "1716427                    31  \n",
              "\n",
              "[1716428 rows x 12 columns]"
            ]
          },
          "metadata": {
            "tags": []
          },
          "execution_count": 35
        }
      ]
    },
    {
      "metadata": {
        "id": "8jE4oVwlSZO1",
        "colab_type": "text"
      },
      "cell_type": "markdown",
      "source": [
        "# Merging both Datasets"
      ]
    },
    {
      "metadata": {
        "collapsed": true,
        "id": "NlVlMtfrSZO2",
        "colab_type": "code",
        "colab": {}
      },
      "cell_type": "code",
      "source": [
        "traindf=df1.merge(df4, on='SK_ID_CURR',how='left')\n",
        "#testdf=df2.merge(df4, on='SK_ID_CURR',how='left')"
      ],
      "execution_count": 0,
      "outputs": []
    },
    {
      "metadata": {
        "collapsed": true,
        "scrolled": false,
        "id": "PD-etSimSZO4",
        "colab_type": "code",
        "colab": {}
      },
      "cell_type": "code",
      "source": [
        "traindf.columns\n",
        "traindf.shape\n",
        "traindf.dtypes\n",
        "traindf.reset_index();"
      ],
      "execution_count": 0,
      "outputs": []
    },
    {
      "metadata": {
        "id": "Aki3Ao_BSZO5",
        "colab_type": "text"
      },
      "cell_type": "markdown",
      "source": [
        "- From my own personal research, credit companies that potentially make the loan would access applicants based on their credit score. In this case, it is maintained by the credit bureau"
      ]
    },
    {
      "metadata": {
        "collapsed": true,
        "id": "mbEXCX7wSZO5",
        "colab_type": "code",
        "colab": {}
      },
      "cell_type": "code",
      "source": [
        ""
      ],
      "execution_count": 0,
      "outputs": []
    },
    {
      "metadata": {
        "collapsed": true,
        "id": "-aRJA6YySZO7",
        "colab_type": "code",
        "colab": {}
      },
      "cell_type": "code",
      "source": [
        "traineda=traindf.sample(20000)"
      ],
      "execution_count": 0,
      "outputs": []
    },
    {
      "metadata": {
        "id": "xy_V_uBuSZO8",
        "colab_type": "text"
      },
      "cell_type": "markdown",
      "source": [
        "# EDA"
      ]
    },
    {
      "metadata": {
        "id": "N6JSaHAdSZO8",
        "colab_type": "text"
      },
      "cell_type": "markdown",
      "source": [
        "## Gender \n",
        "\n",
        "- We first look at the Gender distribution in the data. As seen, about 69% of the applicants are females and 31% of the applicants are males \n",
        "- There is a category 'XNA' which has no meaning and it was dropped from the dataset.\n"
      ]
    },
    {
      "metadata": {
        "collapsed": true,
        "id": "YwCWxoPmSZO9",
        "colab_type": "code",
        "colab": {}
      },
      "cell_type": "code",
      "source": [
        "ax=sns.countplot(x='CODE_GENDER',data=traineda)\n",
        "\n",
        "for p in ax.patches:\n",
        "    height = p.get_height()\n",
        "    ax.text(p.get_x()+p.get_width()/2.,\n",
        "            height + 3,\n",
        "            '{:1.2f}'.format(height/len(traineda)),\n",
        "            ha=\"center\")\n",
        "    \n",
        "traineda.groupby(['CODE_GENDER'])['CODE_GENDER'].count()\n",
        "'Female proportion {:0.2f}%'.format(traineda.groupby(['CODE_GENDER'])['CODE_GENDER'].get_group('M').count()/len(traineda)*100)\n",
        "'Male proportion {:0.2f}%'.format(traineda.groupby(['CODE_GENDER'])['CODE_GENDER'].get_group('F').count()/len(traineda)*100)\n"
      ],
      "execution_count": 0,
      "outputs": []
    },
    {
      "metadata": {
        "id": "VYwlLbT_SZO-",
        "colab_type": "text"
      },
      "cell_type": "markdown",
      "source": [
        "## Gender VS Target"
      ]
    },
    {
      "metadata": {
        "id": "pAjCBzXPSZO_",
        "colab_type": "text"
      },
      "cell_type": "markdown",
      "source": [
        "- Looking at the Gender distribution wrt to whether TARGET is 1 or 0 (client repayment difficulties)\n",
        "-  he/she had late payment more than X days on at least one of the first Y installments of the loan in our sample"
      ]
    },
    {
      "metadata": {
        "collapsed": true,
        "id": "ig_8LDf2SZPA",
        "colab_type": "code",
        "colab": {}
      },
      "cell_type": "code",
      "source": [
        "traindf=traindf[traindf['CODE_GENDER']!='XNA'].reset_index()"
      ],
      "execution_count": 0,
      "outputs": []
    },
    {
      "metadata": {
        "collapsed": true,
        "id": "sy8NByg0SZPB",
        "colab_type": "code",
        "colab": {}
      },
      "cell_type": "code",
      "source": [
        "ax2=sns.catplot(x='CODE_GENDER',col='TARGET',kind='count',data=traineda)\n"
      ],
      "execution_count": 0,
      "outputs": []
    },
    {
      "metadata": {
        "collapsed": true,
        "id": "CTnW5_UdSZPD",
        "colab_type": "code",
        "colab": {}
      },
      "cell_type": "code",
      "source": [
        "traineda.groupby(['TARGET','CODE_GENDER'])['CODE_GENDER'].count()/len(traineda)*100\n",
        "'Ratio of Female to Male Defaulters is {:0.2f} times'.format(traineda.groupby(['TARGET','CODE_GENDER'])['CODE_GENDER'].get_group((1,'F')).count()/traineda.groupby(['TARGET','CODE_GENDER'])['CODE_GENDER'].get_group((1,'M')).count())\n",
        "'Ratio of Female to Male Non Defaulters is {:0.2f} times'.format(traineda.groupby(['TARGET','CODE_GENDER'])['CODE_GENDER'].get_group((0,'F')).count()/traineda.groupby(['TARGET','CODE_GENDER'])['CODE_GENDER'].get_group((0,'M')).count())\n",
        "'Ratio of Female Defaulters to Female Non-defaulters is {:0.2f} times'.format(traineda.groupby(['TARGET','CODE_GENDER'])['CODE_GENDER'].get_group((1,'F')).count()/traineda.groupby(['TARGET','CODE_GENDER'])['CODE_GENDER'].get_group((0,'F')).count())\n",
        "'Ratio of Male Defaulters to Male Non-Defaulters is {:0.2f} times'.format(traineda.groupby(['TARGET','CODE_GENDER'])['CODE_GENDER'].get_group((1,'M')).count()/traineda.groupby(['TARGET','CODE_GENDER'])['CODE_GENDER'].get_group((0,'M')).count())"
      ],
      "execution_count": 0,
      "outputs": []
    },
    {
      "metadata": {
        "collapsed": true,
        "id": "mAkiNnAdSZPE",
        "colab_type": "text"
      },
      "cell_type": "markdown",
      "source": [
        "- Despite Females making up a larger proportion, they could potentially be less likely to default compared to Males. This could be confirmed with a chi-square test"
      ]
    },
    {
      "metadata": {
        "id": "tVuBJj2nSZPF",
        "colab_type": "text"
      },
      "cell_type": "markdown",
      "source": [
        "## Family Status by Gender"
      ]
    },
    {
      "metadata": {
        "collapsed": true,
        "id": "w0agdgxJSZPG",
        "colab_type": "code",
        "colab": {}
      },
      "cell_type": "code",
      "source": [
        "ax3=sns.catplot(x='NAME_FAMILY_STATUS',col='CODE_GENDER',kind='count',data=traineda)\n",
        "ax3.set_xticklabels(rotation=30)"
      ],
      "execution_count": 0,
      "outputs": []
    },
    {
      "metadata": {
        "collapsed": true,
        "id": "DkzlJjqxSZPH",
        "colab_type": "code",
        "colab": {}
      },
      "cell_type": "code",
      "source": [
        "\n",
        "traineda.groupby(['NAME_FAMILY_STATUS','CODE_GENDER'])['CODE_GENDER'].count()\n",
        "'Under Civil Marriage, Ratio of Female to Male is {:0.2f} times'.format(traineda.groupby(['NAME_FAMILY_STATUS','CODE_GENDER'])['CODE_GENDER'].get_group((\"Civil marriage\",\"F\")).count()/traineda.groupby(['NAME_FAMILY_STATUS','CODE_GENDER'])['CODE_GENDER'].get_group((\"Civil marriage\",\"M\")).count())\n",
        "'Under Seperated, Ratio of Female to Male Non Defaulters is {:0.2f} times'.format(traineda.groupby(['NAME_FAMILY_STATUS','CODE_GENDER'])['CODE_GENDER'].get_group((\"Separated\",\"F\")).count()/traineda.groupby(['NAME_FAMILY_STATUS','CODE_GENDER'])['CODE_GENDER'].get_group((\"Separated\",\"M\")).count())\n",
        "'Under Single, Ratio of Female to Male Non Defaulters is {:0.2f} times'.format(traineda.groupby(['NAME_FAMILY_STATUS','CODE_GENDER'])['CODE_GENDER'].get_group((\"Single / not married\",\"F\")).count()/traineda.groupby(['NAME_FAMILY_STATUS','CODE_GENDER'])['CODE_GENDER'].get_group((\"Single / not married\",\"M\")).count())\n",
        "'Under Widow, Ratio of Female to Male Non Defaulters is {:0.2f} times'.format(traineda.groupby(['NAME_FAMILY_STATUS','CODE_GENDER'])['CODE_GENDER'].get_group((\"Widow\",\"F\")).count()/traineda.groupby(['NAME_FAMILY_STATUS','CODE_GENDER'])['CODE_GENDER'].get_group((\"Widow\",\"M\")).count())"
      ],
      "execution_count": 0,
      "outputs": []
    },
    {
      "metadata": {
        "id": "oohw7NwRSZPI",
        "colab_type": "text"
      },
      "cell_type": "markdown",
      "source": [
        "## Family Status VS Target"
      ]
    },
    {
      "metadata": {
        "collapsed": true,
        "id": "HIqVr92NSZPJ",
        "colab_type": "code",
        "colab": {}
      },
      "cell_type": "code",
      "source": [
        "ax4=sns.catplot(x='NAME_FAMILY_STATUS',col='TARGET',kind='count',data=traineda)\n",
        "ax4.set_xticklabels(rotation=40)\n"
      ],
      "execution_count": 0,
      "outputs": []
    },
    {
      "metadata": {
        "collapsed": true,
        "id": "j-dlUN6USZPK",
        "colab_type": "code",
        "colab": {}
      },
      "cell_type": "code",
      "source": [
        "\n",
        "traineda.groupby(['NAME_FAMILY_STATUS','TARGET'])['NAME_FAMILY_STATUS'].count()\n",
        "'Under Civil Marriage, Ratio of Non-defaulters to Defaulters is {:0.2f} times'.format(traineda.groupby(['NAME_FAMILY_STATUS','TARGET'])['TARGET'].get_group((\"Civil marriage\",0)).count()/traineda.groupby(['NAME_FAMILY_STATUS','TARGET'])['TARGET'].get_group((\"Civil marriage\",1)).count())\n",
        "'Under Married, Ratio of Non-defaulters to Defaulters is {:0.2f} times'.format(traineda.groupby(['NAME_FAMILY_STATUS','TARGET'])['TARGET'].get_group((\"Married\",0)).count()/traineda.groupby(['NAME_FAMILY_STATUS','TARGET'])['TARGET'].get_group((\"Married\",1)).count())\n",
        "'Under Seperate, Ratio of Non-defaulters to Defaulters is {:0.2f} times'.format(traineda.groupby(['NAME_FAMILY_STATUS','TARGET'])['TARGET'].get_group((\"Separated\",0)).count()/traineda.groupby(['NAME_FAMILY_STATUS','TARGET'])['TARGET'].get_group((\"Separated\",1)).count())\n",
        "'Under Single, Ratio of Non-defaulters to Defaulters is {:0.2f} times'.format(traineda.groupby(['NAME_FAMILY_STATUS','TARGET'])['TARGET'].get_group((\"Single / not married\",0)).count()/traineda.groupby(['NAME_FAMILY_STATUS','TARGET'])['TARGET'].get_group((\"Single / not married\",1)).count())\n",
        "'Under Widow, Ratio of Non-defaulters to Defaulters is {:0.2f} times'.format(traineda.groupby(['NAME_FAMILY_STATUS','TARGET'])['TARGET'].get_group((\"Widow\",0)).count()/traineda.groupby(['NAME_FAMILY_STATUS','TARGET'])['TARGET'].get_group((\"Widow\",1)).count())"
      ],
      "execution_count": 0,
      "outputs": []
    },
    {
      "metadata": {
        "id": "t4X2A-yPSZPL",
        "colab_type": "text"
      },
      "cell_type": "markdown",
      "source": [
        "- As can see from the data, Widows and Divorsed couples has much higher divorce rate compared to Single. "
      ]
    },
    {
      "metadata": {
        "id": "ea5jWGd3SZPL",
        "colab_type": "text"
      },
      "cell_type": "markdown",
      "source": [
        "## Number of Children"
      ]
    },
    {
      "metadata": {
        "id": "7WdiwhITSZPM",
        "colab_type": "text"
      },
      "cell_type": "markdown",
      "source": [
        "## Property Owner"
      ]
    },
    {
      "metadata": {
        "collapsed": true,
        "id": "ydf1XZ_ESZPM",
        "colab_type": "code",
        "colab": {}
      },
      "cell_type": "code",
      "source": [
        "ax5=sns.countplot(x='FLAG_OWN_REALTY',data=traineda)\n",
        "\n",
        "for p in ax5.patches:\n",
        "    height = p.get_height()\n",
        "    ax5.text(p.get_x()+p.get_width()/2.,\n",
        "            height + 3,\n",
        "            '{:1.2f}'.format(height/len(traineda)),\n",
        "            ha=\"center\")\n",
        "    \n",
        "'Proportion of applicants who own property is {:0.2f} times'.format(traineda.groupby(['FLAG_OWN_REALTY'])['FLAG_OWN_REALTY'].get_group('Y').count()/len(traineda))\n",
        "'Proportion of applicants who do not own property is {:0.2f} times'.format(traineda.groupby(['FLAG_OWN_REALTY'])['FLAG_OWN_REALTY'].get_group('N').count()/len(traineda))"
      ],
      "execution_count": 0,
      "outputs": []
    },
    {
      "metadata": {
        "id": "gPpIBKGXSZPO",
        "colab_type": "text"
      },
      "cell_type": "markdown",
      "source": [
        "## Property Owner VS TARGET"
      ]
    },
    {
      "metadata": {
        "collapsed": true,
        "id": "ekOYWbIpSZPP",
        "colab_type": "code",
        "colab": {}
      },
      "cell_type": "code",
      "source": [
        "ax6=sns.catplot(x='FLAG_OWN_REALTY',col='TARGET',kind='count',data=traineda)\n",
        "\n",
        "'Out of applicants that do not own property, ratio of default to non-defaults is {:0.2f} times'.format(traineda.groupby(['TARGET','FLAG_OWN_REALTY'])['TARGET'].get_group((0,'Y')).count()/traineda.groupby(['TARGET','FLAG_OWN_REALTY'])['TARGET'].get_group((0,'N')).count())\n",
        "'Out of applicants that do own property, ratio of default to non-defaults is {:0.2f} times'.format(traineda.groupby(['TARGET','FLAG_OWN_REALTY'])['TARGET'].get_group((1,'Y')).count()/traineda.groupby(['TARGET','FLAG_OWN_REALTY'])['TARGET'].get_group((1,'N')).count())"
      ],
      "execution_count": 0,
      "outputs": []
    },
    {
      "metadata": {
        "id": "bYDhT9lhSZPQ",
        "colab_type": "text"
      },
      "cell_type": "markdown",
      "source": [
        "## Car Owner"
      ]
    },
    {
      "metadata": {
        "collapsed": true,
        "id": "t-4Dle8VSZPS",
        "colab_type": "code",
        "colab": {}
      },
      "cell_type": "code",
      "source": [
        "ax7=sns.countplot(x='FLAG_OWN_CAR',data=traineda)\n",
        "\n",
        "for p in ax7.patches:\n",
        "    height = p.get_height()\n",
        "    ax5.text(p.get_x()+p.get_width()/2.,\n",
        "            height + 3,\n",
        "            '{:1.2f}'.format(height/len(traineda)),\n",
        "            ha=\"center\")\n",
        "    \n",
        "'Proportion of applicants who own car is {:0.2f} times'.format(traineda.groupby(['FLAG_OWN_CAR'])['FLAG_OWN_CAR'].get_group('Y').count()/len(traineda))\n",
        "'Proportion of applicants who do not own car is {:0.2f} times'.format(traineda.groupby(['FLAG_OWN_CAR'])['FLAG_OWN_CAR'].get_group('N').count()/len(traineda))"
      ],
      "execution_count": 0,
      "outputs": []
    },
    {
      "metadata": {
        "id": "7_uosvV3SZPT",
        "colab_type": "text"
      },
      "cell_type": "markdown",
      "source": [
        "## Car Owner VS TARGET"
      ]
    },
    {
      "metadata": {
        "collapsed": true,
        "id": "Q_TPSexMSZPU",
        "colab_type": "code",
        "colab": {}
      },
      "cell_type": "code",
      "source": [
        "ax8=sns.catplot(x='FLAG_OWN_CAR',col='TARGET',kind='count',data=traineda)\n",
        "\n",
        "'Out of applicants that do not own car, ratio of default to non-defaults is {:0.2f} times'.format(traineda.groupby(['TARGET','FLAG_OWN_CAR'])['TARGET'].get_group((0,'Y')).count()/traineda.groupby(['TARGET','FLAG_OWN_CAR'])['TARGET'].get_group((0,'N')).count())\n",
        "'Out of applicants that do own car, ratio of default to non-defaults is {:0.2f} times'.format(traineda.groupby(['TARGET','FLAG_OWN_CAR'])['TARGET'].get_group((1,'Y')).count()/traineda.groupby(['TARGET','FLAG_OWN_CAR'])['TARGET'].get_group((1,'N')).count())"
      ],
      "execution_count": 0,
      "outputs": []
    },
    {
      "metadata": {
        "id": "rbBZnuo1SZPV",
        "colab_type": "text"
      },
      "cell_type": "markdown",
      "source": [
        "## Housing Type"
      ]
    },
    {
      "metadata": {
        "collapsed": true,
        "id": "HFfz9DkRSZPV",
        "colab_type": "code",
        "colab": {}
      },
      "cell_type": "code",
      "source": [
        "ax9=sns.catplot(x='NAME_HOUSING_TYPE',col='TARGET',kind='count',data=traineda)\n",
        "ax9.set_xticklabels(rotation=40)"
      ],
      "execution_count": 0,
      "outputs": []
    },
    {
      "metadata": {
        "id": "EfNsb-qMSZPW",
        "colab_type": "text"
      },
      "cell_type": "markdown",
      "source": [
        "## Applicant Income"
      ]
    },
    {
      "metadata": {
        "collapsed": true,
        "id": "Nf3GxnStSZPX",
        "colab_type": "code",
        "colab": {}
      },
      "cell_type": "code",
      "source": [
        "# using Standard deviation to filter away extreme values\n",
        "def reject_outliers(data, m=3):\n",
        "    return data[abs(data - np.median(data)) < m * np.std(data)]"
      ],
      "execution_count": 0,
      "outputs": []
    },
    {
      "metadata": {
        "collapsed": true,
        "id": "HlNZXHRbSZPY",
        "colab_type": "code",
        "colab": {}
      },
      "cell_type": "code",
      "source": [
        "# a number \"a\" from the vector \"x\" is an outlier if \n",
        "# a > median(x)+1.5*iqr(x) or a < median-1.5*iqr(x)\n",
        "# iqr: interquantile range = third interquantile - first interquantile\n",
        "def outliers(x): \n",
        "       return np.abs(x- x.median()) > 1.5*(x.quantile(.75)-x.quantile(0.25))"
      ],
      "execution_count": 0,
      "outputs": []
    },
    {
      "metadata": {
        "collapsed": true,
        "id": "9VCd0VNcSZPa",
        "colab_type": "code",
        "colab": {}
      },
      "cell_type": "code",
      "source": [
        "fig=plt.figure(figsize=(10,6))\n",
        "ax10=sns.distplot(reject_outliers(traineda['AMT_INCOME_TOTAL']), label=None, kde=True)\n",
        "ax10.xaxis.set_major_locator(plt.MaxNLocator(12))"
      ],
      "execution_count": 0,
      "outputs": []
    },
    {
      "metadata": {
        "id": "pGIDVgdlSZPb",
        "colab_type": "text"
      },
      "cell_type": "markdown",
      "source": [
        "- Distribution of Income if slightly right skewed, with a peak income in around 120000. "
      ]
    },
    {
      "metadata": {
        "collapsed": true,
        "id": "7MT6WSEhSZPc",
        "colab_type": "code",
        "colab": {}
      },
      "cell_type": "code",
      "source": [
        "reject_outliers(traineda['AMT_INCOME_TOTAL'])"
      ],
      "execution_count": 0,
      "outputs": []
    },
    {
      "metadata": {
        "id": "IUZMO5MhSZPe",
        "colab_type": "text"
      },
      "cell_type": "markdown",
      "source": [
        "## Applicant Income VS Target"
      ]
    },
    {
      "metadata": {
        "collapsed": true,
        "id": "EUy-LJtFSZPe",
        "colab_type": "code",
        "colab": {}
      },
      "cell_type": "code",
      "source": [
        "traineda.groupby('TARGET')['AMT_INCOME_TOTAL'].agg({'max':max,      # find the sum of the durations for each group\n",
        "                                     'mean':mean, # find the number of network type entries\n",
        "                                     'min':min})    # get the first date per group"
      ],
      "execution_count": 0,
      "outputs": []
    },
    {
      "metadata": {
        "collapsed": true,
        "id": "AOK5SRY9SZPg",
        "colab_type": "code",
        "colab": {}
      },
      "cell_type": "code",
      "source": [
        "sns.boxplot(x='TARGET',y='AMT_INCOME_TOTAL',data=traineda)"
      ],
      "execution_count": 0,
      "outputs": []
    },
    {
      "metadata": {
        "id": "OSn3VmD7SZPj",
        "colab_type": "text"
      },
      "cell_type": "markdown",
      "source": [
        "## Applicant Income Type "
      ]
    },
    {
      "metadata": {
        "collapsed": true,
        "id": "sytFZV1bSZPk",
        "colab_type": "code",
        "colab": {}
      },
      "cell_type": "code",
      "source": [
        "fig=plt.figure(figsize=(8,4))\n",
        "ax11=sns.countplot(x='NAME_INCOME_TYPE',data=traineda)\n",
        "ax11.set_xticklabels(labels=list(traineda['NAME_INCOME_TYPE'].unique()), rotation=40)\n",
        "\n",
        "for p in ax11.patches:\n",
        "    height = p.get_height()\n",
        "    ax11.text(p.get_x()+p.get_width()/2.,\n",
        "            height + 3,\n",
        "            '{:1.2f}%'.format(height/len(traineda)*100),\n",
        "            ha=\"center\")\n"
      ],
      "execution_count": 0,
      "outputs": []
    },
    {
      "metadata": {
        "id": "urt6tcxqSZPm",
        "colab_type": "text"
      },
      "cell_type": "markdown",
      "source": [
        "## Applicant Income Type VS TARGET"
      ]
    },
    {
      "metadata": {
        "collapsed": true,
        "id": "QRZ1yA6wSZPm",
        "colab_type": "code",
        "colab": {}
      },
      "cell_type": "code",
      "source": [
        "ax12=sns.catplot(x='NAME_INCOME_TYPE',col='TARGET',kind='count',data=traineda)\n",
        "ax12.set_xticklabels(rotation=40)\n",
        "\n",
        "traineda.groupby(['TARGET','NAME_INCOME_TYPE'])['TARGET'].count()\n",
        "'Out of applicants whose Income is from Working, ratio of default to non-defaults is {:0.2f} times'.format(traineda.groupby(['TARGET','NAME_INCOME_TYPE'])['TARGET'].get_group((1,'Working')).count()/traineda.groupby(['TARGET','NAME_INCOME_TYPE'])['TARGET'].get_group((0,'Working')).count())\n",
        "'Out of applicants whose Income is from Pensioner, ratio of default to non-defaults is {:0.2f} times'.format(traineda.groupby(['TARGET','NAME_INCOME_TYPE'])['TARGET'].get_group((1,'Pensioner')).count()/traineda.groupby(['TARGET','NAME_INCOME_TYPE'])['TARGET'].get_group((0,'Pensioner')).count())\n",
        "'Out of applicants whose Income is from State servant, ratio of default to non-defaults is {:0.2f} times'.format(traineda.groupby(['TARGET','NAME_INCOME_TYPE'])['TARGET'].get_group((1,'State servant')).count()/traineda.groupby(['TARGET','NAME_INCOME_TYPE'])['TARGET'].get_group((0,'State servant')).count())\n",
        "'Out of applicants whose Income is from Commercial associate, ratio of default to non-defaults is {:0.2f} times'.format(traineda.groupby(['TARGET','NAME_INCOME_TYPE'])['TARGET'].get_group((1,'Commercial associate')).count()/traineda.groupby(['TARGET','NAME_INCOME_TYPE'])['TARGET'].get_group((0,'Commercial associate')).count())\n"
      ],
      "execution_count": 0,
      "outputs": []
    },
    {
      "metadata": {
        "id": "R1rVE1k1SZPo",
        "colab_type": "text"
      },
      "cell_type": "markdown",
      "source": [
        "- For Businessman, there were no defaults. \n",
        "- Data Dictionary did not have additional information on each category. \n",
        "    - Working: working class in the private sector\n",
        "    - Pensioner: Retired class who is drawing from their retirement pension\n",
        "    - State servant: The state is paying for their income\n",
        "    - Commercial associate: ???\n",
        "    - Businessman: Applicants whose income come from the business that they run or own\n",
        "    - Students: Applicants could be drawing income from parents or part time jobs\n",
        "    "
      ]
    },
    {
      "metadata": {
        "id": "X9c9detaSZPo",
        "colab_type": "text"
      },
      "cell_type": "markdown",
      "source": [
        "## Applicant Education Level"
      ]
    },
    {
      "metadata": {
        "collapsed": true,
        "id": "nfrJC00LSZPp",
        "colab_type": "code",
        "colab": {}
      },
      "cell_type": "code",
      "source": [
        "fig=plt.figure(figsize=(8,4))\n",
        "ax11=sns.countplot(x='NAME_EDUCATION_TYPE',data=traineda)\n",
        "ax11.set_xticklabels(labels=list(traineda['NAME_EDUCATION_TYPE'].unique()), rotation=40)\n",
        "\n",
        "for p in ax11.patches:\n",
        "    height = p.get_height()\n",
        "    ax11.text(p.get_x()+p.get_width()/2.,\n",
        "            height + 3,\n",
        "            '{:1.2f}%'.format(height/len(traineda)*100),\n",
        "            ha=\"left\")\n"
      ],
      "execution_count": 0,
      "outputs": []
    },
    {
      "metadata": {
        "id": "dFgPd-SXSZPq",
        "colab_type": "text"
      },
      "cell_type": "markdown",
      "source": [
        "# Transformation of Features"
      ]
    },
    {
      "metadata": {
        "id": "RhkjEKHVSZPq",
        "colab_type": "text"
      },
      "cell_type": "markdown",
      "source": [
        "## Total Credit/Annuity"
      ]
    },
    {
      "metadata": {
        "id": "zu15o46kSZPr",
        "colab_type": "text"
      },
      "cell_type": "markdown",
      "source": [
        "- First Feature engineering that would provide useful insight would be the ratio of the loan amount and the duration of the repayment period"
      ]
    },
    {
      "metadata": {
        "collapsed": true,
        "id": "Q0YPyuyhSZPr",
        "colab_type": "code",
        "colab": {}
      },
      "cell_type": "code",
      "source": [
        "# Engineering feature to indicate ratio of loan amount to period of loan\n",
        "traindf['CREDIT_ANNUITY_RATIO'] = traindf['AMT_CREDIT'] / traindf['AMT_ANNUITY']\n",
        "#testdf['CREDIT_ANNUITY_RATIO'] = testdf['AMT_CREDIT'] / testdf['AMT_ANNUITY']"
      ],
      "execution_count": 0,
      "outputs": []
    },
    {
      "metadata": {
        "id": "vxZkRrauSZPs",
        "colab_type": "text"
      },
      "cell_type": "markdown",
      "source": [
        "## Credit to Income "
      ]
    },
    {
      "metadata": {
        "id": "-ew5NvElSZPs",
        "colab_type": "text"
      },
      "cell_type": "markdown",
      "source": [
        "- Second possible feature engineering would be the amount of the Credit loan to the income. \n",
        "- This is actually similar to debt-to-income (DTI) ratio, where applicant's liabilities is measured against monthly income\n",
        "- A higher ratio would usually mean that such a loan is much more risker to the credit loan companies.\n"
      ]
    },
    {
      "metadata": {
        "collapsed": true,
        "id": "WJkAHk6LSZPt",
        "colab_type": "code",
        "colab": {}
      },
      "cell_type": "code",
      "source": [
        "traindf['credit_to_income_ratio'] = traindf['AMT_CREDIT'] / traindf['AMT_INCOME_TOTAL']\n",
        "#testdf['credit_to_income_ratio'] = testdf['AMT_CREDIT'] / testdf['AMT_INCOME_TOTAL']"
      ],
      "execution_count": 0,
      "outputs": []
    },
    {
      "metadata": {
        "collapsed": true,
        "id": "fYa_sJvFSZPt",
        "colab_type": "text"
      },
      "cell_type": "markdown",
      "source": [
        "## Income per Family Member"
      ]
    },
    {
      "metadata": {
        "id": "BCv3RqY5SZPu",
        "colab_type": "text"
      },
      "cell_type": "markdown",
      "source": [
        "- Third Feature engineering that could possibly give useful insights is the Household income per capital. It would give an indication of the financial condition of the family and the financial health of the individual"
      ]
    },
    {
      "metadata": {
        "collapsed": true,
        "id": "i52zi6HmSZPu",
        "colab_type": "code",
        "colab": {}
      },
      "cell_type": "code",
      "source": [
        "traindf['income_per_person'] = traindf['AMT_INCOME_TOTAL'] / traindf['CNT_FAM_MEMBERS']\n",
        "#testdf['income_per_person'] = testdf['AMT_INCOME_TOTAL'] / testdf['CNT_FAM_MEMBERS']"
      ],
      "execution_count": 0,
      "outputs": []
    },
    {
      "metadata": {
        "id": "KqWhx_IcSZPw",
        "colab_type": "text"
      },
      "cell_type": "markdown",
      "source": [
        "## Income per Children "
      ]
    },
    {
      "metadata": {
        "id": "ad1O2u7MSZPw",
        "colab_type": "text"
      },
      "cell_type": "markdown",
      "source": [
        "- Fourth feature engineering that could possibly give useful insights is the Household income per children for each applicant. "
      ]
    },
    {
      "metadata": {
        "collapsed": true,
        "id": "C5KceHtpSZPw",
        "colab_type": "code",
        "colab": {}
      },
      "cell_type": "code",
      "source": [
        "traindf['income_per_child'] = traindf['AMT_INCOME_TOTAL'] / traindf['CNT_CHILDREN']\n",
        "#testdf['income_per_child'] = testdf['AMT_INCOME_TOTAL'] / testdf['CNT_CHILDREN']"
      ],
      "execution_count": 0,
      "outputs": []
    },
    {
      "metadata": {
        "id": "8Ek-ETcWSZPx",
        "colab_type": "text"
      },
      "cell_type": "markdown",
      "source": [
        "## Income to Goods Price"
      ]
    },
    {
      "metadata": {
        "id": "u8BLjDwDSZPy",
        "colab_type": "text"
      },
      "cell_type": "markdown",
      "source": [
        "- Fifth Feature engineering that could possibly give useful insights would be the ratio of the applicant's income to the price of the goods that the applicant is applying credit loan for"
      ]
    },
    {
      "metadata": {
        "collapsed": true,
        "id": "VFDZL5MLSZPy",
        "colab_type": "code",
        "colab": {}
      },
      "cell_type": "code",
      "source": [
        "traindf['income_to_goods']=traindf['AMT_INCOME_TOTAL']/traindf['AMT_GOODS_PRICE']\n",
        "#testdf['income_to_goods']=testdf['AMT_INCOME_TOTAL']/testdf['AMT_GOODS_PRICE']"
      ],
      "execution_count": 0,
      "outputs": []
    },
    {
      "metadata": {
        "id": "ViDlgXnNSZPz",
        "colab_type": "text"
      },
      "cell_type": "markdown",
      "source": [
        "## Credit to Goods Price"
      ]
    },
    {
      "metadata": {
        "id": "tXLZsJgzSZP0",
        "colab_type": "text"
      },
      "cell_type": "markdown",
      "source": [
        "- The sixth feature engineering that could posisbly give useful insights is the Credit to Goods price ratio.\n",
        "- This is actually similar to the applicant’s loan to value (LTV) ratio that compares the loan amount to the property’s appraised value.\n",
        "- Typically, assessments with high LTV ratios are higher risk and, therefore, if the credit loan is approved, the loan costs the borrower more. "
      ]
    },
    {
      "metadata": {
        "collapsed": true,
        "id": "9T50d86eSZP0",
        "colab_type": "code",
        "colab": {}
      },
      "cell_type": "code",
      "source": [
        "traindf['credit_to_goods']=traindf['AMT_CREDIT']/traindf['AMT_GOODS_PRICE']\n",
        "#testdf['credit_to_goods']=testdf['AMT_CREDIT']/testdf['AMT_GOODS_PRICE']"
      ],
      "execution_count": 0,
      "outputs": []
    },
    {
      "metadata": {
        "id": "GorzFev_SZP1",
        "colab_type": "text"
      },
      "cell_type": "markdown",
      "source": [
        "## Verifying for NaN and -inf/inf values"
      ]
    },
    {
      "metadata": {
        "id": "Q_F3hlEVSZP1",
        "colab_type": "text"
      },
      "cell_type": "markdown",
      "source": [
        "1. A check is done for NULL and -inf/inf values.\n",
        "    - Most of scikit-learn's models do not accept NULL or -inf/inf values    \n",
        "<br>\n",
        "2. In the check, it is discovered that 4 features have NULL/inf values: 'CREDIT_ACTIVE','CREDIT_CURRENCY','CREDIT_TYPE','income_per_child'"
      ]
    },
    {
      "metadata": {
        "scrolled": true,
        "id": "I4z3HT74SZP1",
        "colab_type": "code",
        "outputId": "7dd05510-b268-4074-e717-deeef256d3aa",
        "colab": {}
      },
      "cell_type": "code",
      "source": [
        "#listing datatypes of the variables and for NaN and inf/-inf values\n",
        "list(traindf.select_dtypes('object'))\n",
        "#train_fs[train_fs.isin([np.nan, np.inf, -np.inf]).any(1)]\n",
        "traindf.columns[traindf.isin([np.nan, np.inf, -np.inf]).any()].tolist()\n",
        "#testdf.columns[testdf.isin([np.nan, np.inf, -np.inf]).any()].tolist()"
      ],
      "execution_count": 0,
      "outputs": [
        {
          "output_type": "execute_result",
          "data": {
            "text/plain": [
              "['NAME_CONTRACT_TYPE',\n",
              " 'CODE_GENDER',\n",
              " 'FLAG_OWN_CAR',\n",
              " 'FLAG_OWN_REALTY',\n",
              " 'NAME_INCOME_TYPE',\n",
              " 'NAME_EDUCATION_TYPE',\n",
              " 'NAME_FAMILY_STATUS',\n",
              " 'NAME_HOUSING_TYPE',\n",
              " 'WEEKDAY_APPR_PROCESS_START',\n",
              " 'ORGANIZATION_TYPE',\n",
              " 'CREDIT_ACTIVE',\n",
              " 'CREDIT_CURRENCY',\n",
              " 'CREDIT_TYPE']"
            ]
          },
          "metadata": {
            "tags": []
          },
          "execution_count": 45
        },
        {
          "output_type": "execute_result",
          "data": {
            "text/plain": [
              "['CREDIT_ACTIVE', 'CREDIT_CURRENCY', 'CREDIT_TYPE', 'income_per_child']"
            ]
          },
          "metadata": {
            "tags": []
          },
          "execution_count": 45
        }
      ]
    },
    {
      "metadata": {
        "id": "tRxX6iC9SZP5",
        "colab_type": "text"
      },
      "cell_type": "markdown",
      "source": [
        "- The following features has NaN, -inf, inf values\n",
        "    - income_per_child has inf values as some applicants might not have children. replace inf with NaN and fillna with 0"
      ]
    },
    {
      "metadata": {
        "collapsed": true,
        "id": "rUc82p9jSZP5",
        "colab_type": "code",
        "colab": {}
      },
      "cell_type": "code",
      "source": [
        "traindf.update(traindf['income_per_child'].replace([np.inf, -np.inf], np.nan).fillna(0))\n",
        "#testdf.update(testdf['income_per_child'].replace([np.inf, -np.inf], np.nan).fillna(0))"
      ],
      "execution_count": 0,
      "outputs": []
    },
    {
      "metadata": {
        "id": "iXyifmGBSZP6",
        "colab_type": "code",
        "outputId": "3630fc55-d2d1-45d7-fb12-1e3076856538",
        "colab": {}
      },
      "cell_type": "code",
      "source": [
        "# Checking which remaining columns has NaN\n",
        "traindf.columns[traindf.isna().any()].tolist()\n",
        "#testdf.columns[testdf.isna().any()].tolist()\n",
        "# The NaN in the dataframe happens because applicants do not have previous records with\n",
        "# Bureau. Will replace them with 0\n",
        "traindf.update(traindf[traindf.columns[traindf.isna().any()].tolist()].fillna(0))\n",
        "#testdf.update(testdf[testdf.columns[testdf.isna().any()].tolist()].fillna(0))"
      ],
      "execution_count": 0,
      "outputs": [
        {
          "output_type": "execute_result",
          "data": {
            "text/plain": [
              "['SK_ID_BUREAU',\n",
              " 'CREDIT_ACTIVE',\n",
              " 'CREDIT_CURRENCY',\n",
              " 'DAYS_CREDIT',\n",
              " 'CREDIT_DAY_OVERDUE',\n",
              " 'CNT_CREDIT_PROLONG',\n",
              " 'AMT_CREDIT_SUM',\n",
              " 'AMT_CREDIT_SUM_OVERDUE',\n",
              " 'CREDIT_TYPE',\n",
              " 'DAYS_CREDIT_UPDATE']"
            ]
          },
          "metadata": {
            "tags": []
          },
          "execution_count": 47
        }
      ]
    },
    {
      "metadata": {
        "id": "F4nY8hg3SZP7",
        "colab_type": "code",
        "outputId": "f068d986-8476-486d-f136-6f28fda782d6",
        "colab": {}
      },
      "cell_type": "code",
      "source": [
        "traindf.dtypes"
      ],
      "execution_count": 0,
      "outputs": [
        {
          "output_type": "execute_result",
          "data": {
            "text/plain": [
              "SK_ID_CURR                       int64\n",
              "TARGET                           int64\n",
              "NAME_CONTRACT_TYPE              object\n",
              "CODE_GENDER                     object\n",
              "FLAG_OWN_CAR                    object\n",
              "FLAG_OWN_REALTY                 object\n",
              "CNT_CHILDREN                     int64\n",
              "AMT_INCOME_TOTAL               float64\n",
              "AMT_CREDIT                     float64\n",
              "AMT_ANNUITY                    float64\n",
              "AMT_GOODS_PRICE                float64\n",
              "NAME_INCOME_TYPE                object\n",
              "NAME_EDUCATION_TYPE             object\n",
              "NAME_FAMILY_STATUS              object\n",
              "NAME_HOUSING_TYPE               object\n",
              "REGION_POPULATION_RELATIVE     float64\n",
              "DAYS_BIRTH                       int64\n",
              "DAYS_EMPLOYED                    int64\n",
              "DAYS_REGISTRATION              float64\n",
              "DAYS_ID_PUBLISH                  int64\n",
              "OWN_CAR_AGE                    float64\n",
              "FLAG_MOBIL                       int64\n",
              "FLAG_EMP_PHONE                   int64\n",
              "FLAG_WORK_PHONE                  int64\n",
              "FLAG_CONT_MOBILE                 int64\n",
              "FLAG_PHONE                       int64\n",
              "FLAG_EMAIL                       int64\n",
              "CNT_FAM_MEMBERS                float64\n",
              "REGION_RATING_CLIENT             int64\n",
              "REGION_RATING_CLIENT_W_CITY      int64\n",
              "WEEKDAY_APPR_PROCESS_START      object\n",
              "HOUR_APPR_PROCESS_START          int64\n",
              "REG_REGION_NOT_LIVE_REGION       int64\n",
              "REG_REGION_NOT_WORK_REGION       int64\n",
              "LIVE_REGION_NOT_WORK_REGION      int64\n",
              "REG_CITY_NOT_LIVE_CITY           int64\n",
              "REG_CITY_NOT_WORK_CITY           int64\n",
              "LIVE_CITY_NOT_WORK_CITY          int64\n",
              "ORGANIZATION_TYPE               object\n",
              "OBS_30_CNT_SOCIAL_CIRCLE       float64\n",
              "                                ...   \n",
              "OBS_60_CNT_SOCIAL_CIRCLE       float64\n",
              "DEF_60_CNT_SOCIAL_CIRCLE       float64\n",
              "DAYS_LAST_PHONE_CHANGE         float64\n",
              "FLAG_DOCUMENT_2                  int64\n",
              "FLAG_DOCUMENT_3                  int64\n",
              "FLAG_DOCUMENT_4                  int64\n",
              "FLAG_DOCUMENT_5                  int64\n",
              "FLAG_DOCUMENT_6                  int64\n",
              "FLAG_DOCUMENT_7                  int64\n",
              "FLAG_DOCUMENT_8                  int64\n",
              "FLAG_DOCUMENT_9                  int64\n",
              "FLAG_DOCUMENT_10                 int64\n",
              "FLAG_DOCUMENT_11                 int64\n",
              "FLAG_DOCUMENT_12                 int64\n",
              "FLAG_DOCUMENT_13                 int64\n",
              "FLAG_DOCUMENT_14                 int64\n",
              "FLAG_DOCUMENT_15                 int64\n",
              "FLAG_DOCUMENT_16                 int64\n",
              "FLAG_DOCUMENT_17                 int64\n",
              "FLAG_DOCUMENT_18                 int64\n",
              "FLAG_DOCUMENT_19                 int64\n",
              "FLAG_DOCUMENT_20                 int64\n",
              "FLAG_DOCUMENT_21                 int64\n",
              "housingincomplete                int64\n",
              "SK_ID_BUREAU                   float64\n",
              "CREDIT_ACTIVE                   object\n",
              "CREDIT_CURRENCY                 object\n",
              "DAYS_CREDIT                    float64\n",
              "CREDIT_DAY_OVERDUE             float64\n",
              "CNT_CREDIT_PROLONG             float64\n",
              "AMT_CREDIT_SUM                 float64\n",
              "AMT_CREDIT_SUM_OVERDUE         float64\n",
              "CREDIT_TYPE                     object\n",
              "DAYS_CREDIT_UPDATE             float64\n",
              "CREDIT_ANNUITY_RATIO           float64\n",
              "credit_to_income_ratio         float64\n",
              "income_per_person              float64\n",
              "income_per_child               float64\n",
              "income_to_goods                float64\n",
              "credit_to_goods                float64\n",
              "Length: 81, dtype: object"
            ]
          },
          "metadata": {
            "tags": []
          },
          "execution_count": 48
        }
      ]
    },
    {
      "metadata": {
        "id": "MncvkyIASZP8",
        "colab_type": "text"
      },
      "cell_type": "markdown",
      "source": [
        "## Export Train and Test Dataset"
      ]
    },
    {
      "metadata": {
        "collapsed": true,
        "id": "ectR8nZNSZP9",
        "colab_type": "code",
        "colab": {}
      },
      "cell_type": "code",
      "source": [
        "# traindf.to_excel('traindf.xlsx')\n",
        "# testdf.to_excel('testdf.xlsx')"
      ],
      "execution_count": 0,
      "outputs": []
    },
    {
      "metadata": {
        "id": "Fz3kbrA-SZP9",
        "colab_type": "code",
        "outputId": "407e6d3b-d1c6-4789-f64f-24fff446a568",
        "colab": {}
      },
      "cell_type": "code",
      "source": [
        "train_fs=traindf.copy()\n",
        "train_fs.shape"
      ],
      "execution_count": 0,
      "outputs": [
        {
          "output_type": "execute_result",
          "data": {
            "text/plain": [
              "(1509345, 81)"
            ]
          },
          "metadata": {
            "tags": []
          },
          "execution_count": 50
        }
      ]
    },
    {
      "metadata": {
        "collapsed": true,
        "id": "Mn9vC0IQSZP_",
        "colab_type": "code",
        "colab": {}
      },
      "cell_type": "code",
      "source": [
        "[train_fs.count()<1509345]==True"
      ],
      "execution_count": 0,
      "outputs": []
    },
    {
      "metadata": {
        "id": "I_BxJ7xlSZP_",
        "colab_type": "text"
      },
      "cell_type": "markdown",
      "source": [
        "# One-hot encoding"
      ]
    },
    {
      "metadata": {
        "id": "3rfQDLc-SZQA",
        "colab_type": "text"
      },
      "cell_type": "markdown",
      "source": [
        "1. One-hot encoding transforms categorical variables into integer form such that Machine Learning algorithm would be able to understand and process these informations.  \n",
        "<br>\n",
        "2. The categorical variables would be selected. In the code, select_dtypes is used to select them and pandas get_dummies is used and the first reference column is dropped.  \n",
        "<br>\n",
        "3. These encoded features would be merged back to the parent dataset and the original categorical features would be dropped.\n"
      ]
    },
    {
      "metadata": {
        "id": "-Epom4lYSZQA",
        "colab_type": "code",
        "outputId": "85a157c9-e5f1-4893-c419-ac8e4c01b25f",
        "colab": {}
      },
      "cell_type": "code",
      "source": [
        "# creating a copy of the original DataFrame for creating baseline model\n",
        "baselinedf=traindf.copy()\n",
        "baselinedf.shape\n",
        "\n",
        "# checking for null in traindf and testdf\n",
        "pd.isnull(baselinedf).any(1).nonzero()[0]\n"
      ],
      "execution_count": 0,
      "outputs": [
        {
          "output_type": "execute_result",
          "data": {
            "text/plain": [
              "(1509345, 81)"
            ]
          },
          "metadata": {
            "tags": []
          },
          "execution_count": 51
        },
        {
          "output_type": "execute_result",
          "data": {
            "text/plain": [
              "array([], dtype=int64)"
            ]
          },
          "metadata": {
            "tags": []
          },
          "execution_count": 51
        }
      ]
    },
    {
      "metadata": {
        "collapsed": true,
        "id": "e0tnFitvSZQC",
        "colab_type": "code",
        "colab": {}
      },
      "cell_type": "code",
      "source": [
        "# #converting the Target column to a categorical datatype. Previously it was an int64\n",
        "# train_baseline['TARGET'].dtype\n",
        "# train_baseline['TARGET'].astype('category')\n",
        "# train_baseline['TARGET'].dtype"
      ],
      "execution_count": 0,
      "outputs": []
    },
    {
      "metadata": {
        "id": "l2gbTX9bSZQD",
        "colab_type": "code",
        "outputId": "cd655b07-5366-4922-fa1c-8b7f8b1dfea2",
        "colab": {}
      },
      "cell_type": "code",
      "source": [
        "# Selecting the object and categorical datatype\n",
        "features_cat=baselinedf.select_dtypes(['object','category'])\n",
        "###features_cat_train=pd.concat([features_cat_train,traindf[\"TARGET\"]],axis=1)\n",
        "features_cat.columns.tolist()\n",
        "features_cat.shape"
      ],
      "execution_count": 0,
      "outputs": [
        {
          "output_type": "execute_result",
          "data": {
            "text/plain": [
              "['NAME_CONTRACT_TYPE',\n",
              " 'CODE_GENDER',\n",
              " 'FLAG_OWN_CAR',\n",
              " 'FLAG_OWN_REALTY',\n",
              " 'NAME_INCOME_TYPE',\n",
              " 'NAME_EDUCATION_TYPE',\n",
              " 'NAME_FAMILY_STATUS',\n",
              " 'NAME_HOUSING_TYPE',\n",
              " 'WEEKDAY_APPR_PROCESS_START',\n",
              " 'ORGANIZATION_TYPE',\n",
              " 'CREDIT_ACTIVE',\n",
              " 'CREDIT_CURRENCY',\n",
              " 'CREDIT_TYPE']"
            ]
          },
          "metadata": {
            "tags": []
          },
          "execution_count": 53
        },
        {
          "output_type": "execute_result",
          "data": {
            "text/plain": [
              "(1509345, 13)"
            ]
          },
          "metadata": {
            "tags": []
          },
          "execution_count": 53
        }
      ]
    },
    {
      "metadata": {
        "id": "pvlWLRE5SZQE",
        "colab_type": "code",
        "outputId": "b01e4718-9523-4fbb-d967-aec6ff6c66bc",
        "colab": {}
      },
      "cell_type": "code",
      "source": [
        "# encode categorical features and dropping the reference columns\n",
        "features_encoded=pd.get_dummies(features_cat, drop_first=True)\n",
        "features_encoded.shape\n"
      ],
      "execution_count": 0,
      "outputs": [
        {
          "output_type": "execute_result",
          "data": {
            "text/plain": [
              "(1509345, 112)"
            ]
          },
          "metadata": {
            "tags": []
          },
          "execution_count": 54
        }
      ]
    },
    {
      "metadata": {
        "id": "X-LDPxFrSZQG",
        "colab_type": "code",
        "outputId": "e9eeae29-63c2-4e6f-d4bb-06de80b0b930",
        "colab": {}
      },
      "cell_type": "code",
      "source": [
        "print('Training Features shape: ', baselinedf.shape)\n",
        "print('features_cat shape:',features_cat.shape )\n",
        "print('features_encoded shape:', features_encoded.shape)"
      ],
      "execution_count": 0,
      "outputs": [
        {
          "output_type": "stream",
          "text": [
            "Training Features shape:  (1509345, 81)\n",
            "features_cat shape: (1509345, 13)\n",
            "features_encoded shape: (1509345, 112)\n"
          ],
          "name": "stdout"
        }
      ]
    },
    {
      "metadata": {
        "collapsed": true,
        "id": "8IVQ5EsDSZQI",
        "colab_type": "code",
        "colab": {}
      },
      "cell_type": "code",
      "source": [
        "##features_cat_train.drop(['TARGET'],axis=1,inplace=True)\n",
        "\n",
        "# Dropping the original categorical variables as we have already encoded under features_encoded_train and feature_encoded_test\n",
        "baselinedf.drop(features_cat.columns.tolist(),axis=1,inplace=True);\n",
        "\n",
        "# Concatenate the encoded categorical variables back to train_baseline and test_baseline\n",
        "baselinedf=pd.concat([baselinedf,features_encoded],axis=1)\n"
      ],
      "execution_count": 0,
      "outputs": []
    },
    {
      "metadata": {
        "id": "2jMPWjH3SZQJ",
        "colab_type": "code",
        "outputId": "0d2ed15f-5473-455b-d473-804e4e704562",
        "colab": {}
      },
      "cell_type": "code",
      "source": [
        "print('New Training Features shape: ',baselinedf.shape)\n"
      ],
      "execution_count": 0,
      "outputs": [
        {
          "output_type": "stream",
          "text": [
            "New Training Features shape:  (1509345, 180)\n"
          ],
          "name": "stdout"
        }
      ]
    },
    {
      "metadata": {
        "id": "yNnv-aoISZQK",
        "colab_type": "code",
        "outputId": "dd6e43ec-008a-408f-8bd6-7141cd9503fd",
        "colab": {}
      },
      "cell_type": "code",
      "source": [
        "# Checking for NaN and finite values\n",
        "np.any(np.isnan(baselinedf))\n",
        "np.all(np.isfinite(baselinedf))\n",
        "np.any(np.isnan(baselinedf))\n",
        "np.all(np.isfinite(baselinedf))"
      ],
      "execution_count": 0,
      "outputs": [
        {
          "output_type": "execute_result",
          "data": {
            "text/plain": [
              "False"
            ]
          },
          "metadata": {
            "tags": []
          },
          "execution_count": 58
        },
        {
          "output_type": "execute_result",
          "data": {
            "text/plain": [
              "True"
            ]
          },
          "metadata": {
            "tags": []
          },
          "execution_count": 58
        },
        {
          "output_type": "execute_result",
          "data": {
            "text/plain": [
              "False"
            ]
          },
          "metadata": {
            "tags": []
          },
          "execution_count": 58
        },
        {
          "output_type": "execute_result",
          "data": {
            "text/plain": [
              "True"
            ]
          },
          "metadata": {
            "tags": []
          },
          "execution_count": 58
        }
      ]
    },
    {
      "metadata": {
        "id": "iNRNwkvHSZQL",
        "colab_type": "text"
      },
      "cell_type": "markdown",
      "source": [
        "## Split Data into Features and Target"
      ]
    },
    {
      "metadata": {
        "id": "oXT3rRXbSZQM",
        "colab_type": "text"
      },
      "cell_type": "markdown",
      "source": [
        "1.  Data is split into training and test set. KFold is used to avoid the case where train/test split is not random, ie. a subset of the data only appears in the training or testing set, resulting in overfitting.  \n",
        "<br>\n",
        "2. In KFold, the dataset is split into K-equal partitions or folds. Then use one of the fold as the testing set and union of remaining sets as training set. Accuracy of the model is calculated of our model. We repeat the process of choosing train and test from different folds, and calculating training error K-times(number of folds).The average training accuracy is used as the estimate."
      ]
    },
    {
      "metadata": {
        "id": "gmDA5dsoSZQM",
        "colab_type": "code",
        "outputId": "0646068b-932c-4a75-ec02-a83edc2fc468",
        "colab": {}
      },
      "cell_type": "code",
      "source": [
        "# Split the Train Dataset into features and target dataset\n",
        "baselinedf.reset_index(drop=True, inplace=True);\n",
        "features=baselinedf.drop(columns=\"TARGET\").copy();\n",
        "features.reset_index(drop=True, inplace=True);\n",
        "target=baselinedf['TARGET'].copy();\n",
        "target.reset_index(drop=True, inplace=True);\n",
        "print('Training Features shape: ',features.shape)\n",
        "print('Training Target shape: ',target.shape)\n"
      ],
      "execution_count": 0,
      "outputs": [
        {
          "output_type": "stream",
          "text": [
            "Training Features shape:  (1509345, 179)\n",
            "Training Target shape:  (1509345,)\n"
          ],
          "name": "stdout"
        }
      ]
    },
    {
      "metadata": {
        "id": "Z7OWZwAtSZQN",
        "colab_type": "code",
        "outputId": "b4f150fc-d434-49f7-b39d-1f77facfd805",
        "colab": {}
      },
      "cell_type": "code",
      "source": [
        "# Using sklearn to split data into training and testing sets\n",
        "from sklearn.model_selection import train_test_split\n",
        "X_train,X_test,y_train,y_test = train_test_split(features,target,test_size=0.25, random_state=42)\n",
        "\n",
        "from sklearn.model_selection import KFold\n",
        "kf=KFold(n_splits=5)\n",
        "print(kf)\n",
        "for train_index, test_index in kf.split(features):\n",
        "    print(\"TRAIN:\", train_index, \"TEST:\", test_index)\n",
        "    X_train, X_test = features.iloc[train_index], features.iloc[test_index]\n",
        "    y_train, y_test = target.iloc[train_index], target.iloc[test_index]"
      ],
      "execution_count": 0,
      "outputs": [
        {
          "output_type": "stream",
          "text": [
            "KFold(n_splits=5, random_state=None, shuffle=False)\n",
            "TRAIN: [ 301869  301870  301871 ... 1509342 1509343 1509344] TEST: [     0      1      2 ... 301866 301867 301868]\n",
            "TRAIN: [      0       1       2 ... 1509342 1509343 1509344] TEST: [301869 301870 301871 ... 603735 603736 603737]\n",
            "TRAIN: [      0       1       2 ... 1509342 1509343 1509344] TEST: [603738 603739 603740 ... 905604 905605 905606]\n",
            "TRAIN: [      0       1       2 ... 1509342 1509343 1509344] TEST: [ 905607  905608  905609 ... 1207473 1207474 1207475]\n",
            "TRAIN: [      0       1       2 ... 1207473 1207474 1207475] TEST: [1207476 1207477 1207478 ... 1509342 1509343 1509344]\n"
          ],
          "name": "stdout"
        }
      ]
    },
    {
      "metadata": {
        "id": "EjkdUSb_SZQP",
        "colab_type": "code",
        "outputId": "b7fd78f8-0933-4258-8317-8b34490ab239",
        "colab": {}
      },
      "cell_type": "code",
      "source": [
        "# Get the shapes of the Features and Labels from KFold\n",
        "print('Training Features Shape:', X_train.shape)\n",
        "print('Training Label Shape:', y_train.shape)\n",
        "print('Testing Features Shape:', X_test.shape)\n",
        "print('Testing Features Shape:', y_test.shape)"
      ],
      "execution_count": 0,
      "outputs": [
        {
          "output_type": "stream",
          "text": [
            "Training Features Shape: (1207476, 179)\n",
            "Training Label Shape: (1207476,)\n",
            "Testing Features Shape: (301869, 179)\n",
            "Testing Features Shape: (301869,)\n"
          ],
          "name": "stdout"
        }
      ]
    },
    {
      "metadata": {
        "collapsed": true,
        "id": "xeNIL4cmSZQR",
        "colab_type": "code",
        "colab": {}
      },
      "cell_type": "code",
      "source": [
        "# ## check the number of rows for each column. They must be concur to shape of DataFrame\n",
        "[X_train.count()<1207476]==True\n",
        "[X_test.count()<301869]==True"
      ],
      "execution_count": 0,
      "outputs": []
    },
    {
      "metadata": {
        "id": "4Qgzcg1NSZQS",
        "colab_type": "text"
      },
      "cell_type": "markdown",
      "source": [
        "## Upsampling Data"
      ]
    },
    {
      "metadata": {
        "id": "DqNprwrkSZQS",
        "colab_type": "text"
      },
      "cell_type": "markdown",
      "source": [
        "4. Due to the inbalanced class problem, resampling using Synthetic Minority Over-sampling TEchnique (SMOTE) would be done. The upsampling of minor class will be done in the training set (after the splitting done in the previous section). This is to avoid information leakeage problem.  \n",
        "<br>\n",
        "5. In SMOTE, new observations are not duplicated information. It uses nearest neighbours of observations to create synthetic data, hence reducing bias in the new sample data.\n"
      ]
    },
    {
      "metadata": {
        "id": "RiIaZk2CSZQS",
        "colab_type": "code",
        "outputId": "3a122dfb-81e0-4f4e-ca2a-6110884024c9",
        "colab": {}
      },
      "cell_type": "code",
      "source": [
        "# upsampling the minor class to 1:1 using SMOTE\n",
        "from imblearn.over_sampling import SMOTE\n",
        "smote=SMOTE(sampling_strategy='float',random_state=20,ratio=1)\n",
        "X_sm, y_sm =smote.fit_resample(X_train,y_train)\n",
        "smote.get_params"
      ],
      "execution_count": 0,
      "outputs": [
        {
          "output_type": "execute_result",
          "data": {
            "text/plain": [
              "<bound method BaseEstimator.get_params of SMOTE(k_neighbors=5, kind='deprecated', m_neighbors='deprecated', n_jobs=1,\n",
              "   out_step='deprecated', random_state=20, ratio=1, sampling_strategy=1,\n",
              "   svm_estimator='deprecated')>"
            ]
          },
          "metadata": {
            "tags": []
          },
          "execution_count": 62
        }
      ]
    },
    {
      "metadata": {
        "id": "do2JpctHSZQU",
        "colab_type": "code",
        "outputId": "9723f89e-1a3f-4a11-df2a-eb10ef813989",
        "colab": {}
      },
      "cell_type": "code",
      "source": [
        "# checking out the shape of the training features and labels and also the Target counts should reflect a ratio=1 resampling\n",
        "print('Resampled Training Features Shape:',X_sm.shape)\n",
        "print('Resampled Training Labels Shape:',y_sm.shape)\n",
        "unique, counts=np.unique(y_sm,return_counts=True)\n",
        "print(np.asarray((unique,counts)).T)"
      ],
      "execution_count": 0,
      "outputs": [
        {
          "output_type": "stream",
          "text": [
            "Resampled Training Features Shape: (2223934, 179)\n",
            "Resampled Training Labels Shape: (2223934,)\n",
            "[[      0 1111967]\n",
            " [      1 1111967]]\n"
          ],
          "name": "stdout"
        }
      ]
    },
    {
      "metadata": {
        "id": "HTr-xJpFSZQW",
        "colab_type": "code",
        "outputId": "e8af606b-8699-4da7-e8f4-6c81610c8c50",
        "colab": {}
      },
      "cell_type": "code",
      "source": [
        "baseline_traindf=pd.DataFrame(data=X_sm,columns=features.columns.values.tolist())\n",
        "baseline_traindf.shape\n",
        "baseline_testdf=pd.DataFrame(data=y_sm, columns=['TARGET'])\n",
        "baseline_testdf.shape\n",
        "# print('Resampled Training Features Shape:',a.shape)\n",
        "# print('Resampled Training Labels Shape:',b.shape)"
      ],
      "execution_count": 0,
      "outputs": [
        {
          "output_type": "execute_result",
          "data": {
            "text/plain": [
              "(2223934, 179)"
            ]
          },
          "metadata": {
            "tags": []
          },
          "execution_count": 64
        },
        {
          "output_type": "execute_result",
          "data": {
            "text/plain": [
              "(2223934, 1)"
            ]
          },
          "metadata": {
            "tags": []
          },
          "execution_count": 64
        }
      ]
    },
    {
      "metadata": {
        "collapsed": true,
        "id": "LLCBXd7oSZQX",
        "colab_type": "code",
        "colab": {}
      },
      "cell_type": "code",
      "source": [
        "# # ## check the number of rows for each column. They must be concur to shape of DataFrame\n",
        "# [a.count()==2780736]==True\n",
        "#[b.count()<1509345]==True"
      ],
      "execution_count": 0,
      "outputs": []
    },
    {
      "metadata": {
        "id": "WRdWRSx2SZQZ",
        "colab_type": "text"
      },
      "cell_type": "markdown",
      "source": [
        "# Baseline Models"
      ]
    },
    {
      "metadata": {
        "id": "yiaED2FBSZQZ",
        "colab_type": "text"
      },
      "cell_type": "markdown",
      "source": [
        "https://stackoverflow.com/questions/38640109/logistic-regression-python-solvers-defintions"
      ]
    },
    {
      "metadata": {
        "id": "jAmGhzmzSZQa",
        "colab_type": "text"
      },
      "cell_type": "markdown",
      "source": [
        "## Logistics Regression"
      ]
    },
    {
      "metadata": {
        "collapsed": true,
        "id": "iDZUpzPrSZQa",
        "colab_type": "code",
        "colab": {}
      },
      "cell_type": "code",
      "source": [
        "from sklearn.linear_model import LogisticRegression\n",
        "\n",
        "# Make the model with the specified regularization parameter\n",
        "log_reg = LogisticRegression(C = 0.0001)\n",
        "\n",
        "# Train on the training data\n",
        "log_reg.fit(X_sm, y_sm)\n",
        "\n",
        "#Fitting the model on Test data\n",
        "y_pred = log_reg.predict(X_test)\n",
        "print('Accuracy of logistic regression classifier on test set: {:.2f}'.format(log_reg.score(X_test, y_pred)))\n"
      ],
      "execution_count": 0,
      "outputs": []
    },
    {
      "metadata": {
        "collapsed": true,
        "id": "2ls1tP7OSZQb",
        "colab_type": "code",
        "colab": {}
      },
      "cell_type": "code",
      "source": [
        "from sklearn import metrics\n",
        "print(metrics.confusion_matrix(y_test, y_pred))\n",
        "# getting the classification Accuracy. How often is the classifier correct\n",
        "print('Classification Accuracy:', metrics.accuracy_score(y_test, y_pred)) \n",
        "\n",
        "# getting the misclassification rate. How often is the classifier incorrect\n",
        "print('Misclassification Rate:',1 - metrics.accuracy_score(y_test, y_pred))\n",
        "\n",
        "# Getting the Sensitivity. How often out of all the positive predictions are correct predictions\n",
        "# ie how sensitive is the classifier to detect positive instances\n",
        "print('Sensitivity/Recall:',metrics.recall_score(y_test, y_pred))\n",
        "\n",
        "# Getting the Specificity. How often out of all the negative predictions are correct\n",
        "# ie how sensitive is the classifier to detect negative instances \n"
      ],
      "execution_count": 0,
      "outputs": []
    },
    {
      "metadata": {
        "id": "AyIKK6vLSZQd",
        "colab_type": "text"
      },
      "cell_type": "markdown",
      "source": [
        "- For the Logistics Regression Model, it gave an accuracy of 1 on the test set despite dealing with the imbalanced class. \n",
        "- Looking at the classification matrix. In a credit risk business, business would want to lean on the safer side of detecting a potential defaulter and than actually letting him/her to take a loan. The cost of false negative are much higher than false positives\n",
        "    - It shows the ratio of correct predictions to the total number of predictions. It gave a rather low classification accuracy score of 0.471\n",
        "    - we would want it to be sensitive to capture more positive instances. Sensitivity should be optimised in this case from 0.698"
      ]
    },
    {
      "metadata": {
        "collapsed": true,
        "id": "PA-8DvRkSZQd",
        "colab_type": "code",
        "colab": {}
      },
      "cell_type": "code",
      "source": [
        "from sklearn.metrics import roc_auc_score\n",
        "from sklearn.metrics import roc_curve\n",
        "logit_roc_auc = roc_auc_score(y_test, y_pred)\n",
        "fpr, tpr, thresholds = roc_curve(y_test, log_reg.predict_proba(X_test)[:,1])\n",
        "plt.figure()\n",
        "plt.plot(fpr, tpr, label='Logistic Regression (area = %0.2f)' % logit_roc_auc)\n",
        "plt.plot([0, 1], [0, 1],'r--')\n",
        "plt.xlim([0.0, 1.0])\n",
        "plt.ylim([0.0, 1.05])\n",
        "plt.xlabel('False Positive Rate')\n",
        "plt.ylabel('True Positive Rate')\n",
        "plt.title('Receiver operating characteristic')\n",
        "plt.legend(loc=\"lower right\")\n",
        "plt.savefig('Log_ROC')\n",
        "plt.show()\n",
        "\n",
        "print('AUC value:',metrics.roc_auc_score(y_test, y_pred))"
      ],
      "execution_count": 0,
      "outputs": []
    },
    {
      "metadata": {
        "id": "eB1Eey0ESZQe",
        "colab_type": "text"
      },
      "cell_type": "markdown",
      "source": [
        "- ROC Curve considers all possible classification threshold.\n",
        "- The Y axis represents the actual classification is positive, how often classifier predict positive(Sensitivity/Recall) (TP/TP+FN)\n",
        "- The X axis represents the ratio of negative predictions deemed positive to total negative prediction (FP/TN+FP)\n",
        "- AUC score shows classifier performance. It represents the likelihood that classifier will assign a higher predicted probability to the positive observation (Higher true positive to false positive)"
      ]
    },
    {
      "metadata": {
        "id": "9KLcb0xeSZQf",
        "colab_type": "text"
      },
      "cell_type": "markdown",
      "source": [
        "## Decision Trees"
      ]
    },
    {
      "metadata": {
        "id": "lyldRon1SZQf",
        "colab_type": "code",
        "outputId": "303ddd86-9b2c-4a8d-81f7-971c103f7bfc",
        "colab": {}
      },
      "cell_type": "code",
      "source": [
        "from sklearn.tree import DecisionTreeClassifier\n",
        "from sklearn import tree\n",
        "\n",
        "dtree=DecisionTreeClassifier(max_depth=3, random_state=42, criterion='gini')\n",
        "dtree.fit(X_sm,y_sm)\n",
        "y_pred_dtree=dtree.predict(X_test)\n",
        "print('Accuracy of decision tree classifier on test set: {:.2f}'.format(dtree.score(X_test, y_pred_dtree)))\n"
      ],
      "execution_count": 0,
      "outputs": [
        {
          "output_type": "execute_result",
          "data": {
            "text/plain": [
              "DecisionTreeClassifier(class_weight=None, criterion='gini', max_depth=3,\n",
              "            max_features=None, max_leaf_nodes=None,\n",
              "            min_impurity_decrease=0.0, min_impurity_split=None,\n",
              "            min_samples_leaf=1, min_samples_split=2,\n",
              "            min_weight_fraction_leaf=0.0, presort=False, random_state=42,\n",
              "            splitter='best')"
            ]
          },
          "metadata": {
            "tags": []
          },
          "execution_count": 73
        },
        {
          "output_type": "stream",
          "text": [
            "Accuracy of decision tree classifier on test set: 1.00\n"
          ],
          "name": "stdout"
        }
      ]
    },
    {
      "metadata": {
        "id": "xWtO2KTcSZQi",
        "colab_type": "code",
        "outputId": "ba995e4f-65c8-4208-db6e-f940625c77e0",
        "colab": {}
      },
      "cell_type": "code",
      "source": [
        "import graphviz\n",
        "dot_data=tree.export_graphviz(dtree, out_file=None, feature_names=features.columns, class_names=['0','1'],\n",
        "                             filled=True, rounded=True, special_characters=True)\n",
        "graph = graphviz.Source(dot_data)\n",
        "graph"
      ],
      "execution_count": 0,
      "outputs": [
        {
          "output_type": "execute_result",
          "data": {
            "image/svg+xml": "<?xml version=\"1.0\" encoding=\"UTF-8\" standalone=\"no\"?>\r\n<!DOCTYPE svg PUBLIC \"-//W3C//DTD SVG 1.1//EN\"\r\n \"http://www.w3.org/Graphics/SVG/1.1/DTD/svg11.dtd\">\r\n<!-- Generated by graphviz version 2.38.0 (20140413.2041)\r\n -->\r\n<!-- Title: Tree Pages: 1 -->\r\n<svg width=\"1151pt\" height=\"433pt\"\r\n viewBox=\"0.00 0.00 1151.00 433.00\" xmlns=\"http://www.w3.org/2000/svg\" xmlns:xlink=\"http://www.w3.org/1999/xlink\">\r\n<g id=\"graph0\" class=\"graph\" transform=\"scale(1 1) rotate(0) translate(4 429)\">\r\n<title>Tree</title>\r\n<polygon fill=\"white\" stroke=\"none\" points=\"-4,4 -4,-429 1147,-429 1147,4 -4,4\"/>\r\n<!-- 0 -->\r\n<g id=\"node1\" class=\"node\"><title>0</title>\r\n<path fill=\"none\" stroke=\"black\" d=\"M553.5,-425C553.5,-425 355.5,-425 355.5,-425 349.5,-425 343.5,-419 343.5,-413 343.5,-413 343.5,-354 343.5,-354 343.5,-348 349.5,-342 355.5,-342 355.5,-342 553.5,-342 553.5,-342 559.5,-342 565.5,-348 565.5,-354 565.5,-354 565.5,-413 565.5,-413 565.5,-419 559.5,-425 553.5,-425\"/>\r\n<text text-anchor=\"start\" x=\"351.5\" y=\"-409.8\" font-family=\"Helvetica,sans-Serif\" font-size=\"14.00\">CREDIT_ACTIVE_Closed ≤ 1.0</text>\r\n<text text-anchor=\"start\" x=\"425.5\" y=\"-394.8\" font-family=\"Helvetica,sans-Serif\" font-size=\"14.00\">gini = 0.5</text>\r\n<text text-anchor=\"start\" x=\"390.5\" y=\"-379.8\" font-family=\"Helvetica,sans-Serif\" font-size=\"14.00\">samples = 2223934</text>\r\n<text text-anchor=\"start\" x=\"364.5\" y=\"-364.8\" font-family=\"Helvetica,sans-Serif\" font-size=\"14.00\">value = [1111967, 1111967]</text>\r\n<text text-anchor=\"start\" x=\"425.5\" y=\"-349.8\" font-family=\"Helvetica,sans-Serif\" font-size=\"14.00\">class = 0</text>\r\n</g>\r\n<!-- 1 -->\r\n<g id=\"node2\" class=\"node\"><title>1</title>\r\n<path fill=\"#399de5\" fill-opacity=\"0.403922\" stroke=\"black\" d=\"M402.5,-306C402.5,-306 204.5,-306 204.5,-306 198.5,-306 192.5,-300 192.5,-294 192.5,-294 192.5,-235 192.5,-235 192.5,-229 198.5,-223 204.5,-223 204.5,-223 402.5,-223 402.5,-223 408.5,-223 414.5,-229 414.5,-235 414.5,-235 414.5,-294 414.5,-294 414.5,-300 408.5,-306 402.5,-306\"/>\r\n<text text-anchor=\"start\" x=\"200.5\" y=\"-290.8\" font-family=\"Helvetica,sans-Serif\" font-size=\"14.00\">CREDIT_ACTIVE_Closed ≤ 0.0</text>\r\n<text text-anchor=\"start\" x=\"266\" y=\"-275.8\" font-family=\"Helvetica,sans-Serif\" font-size=\"14.00\">gini = 0.468</text>\r\n<text text-anchor=\"start\" x=\"239.5\" y=\"-260.8\" font-family=\"Helvetica,sans-Serif\" font-size=\"14.00\">samples = 1147371</text>\r\n<text text-anchor=\"start\" x=\"222\" y=\"-245.8\" font-family=\"Helvetica,sans-Serif\" font-size=\"14.00\">value = [428907, 718464]</text>\r\n<text text-anchor=\"start\" x=\"274.5\" y=\"-230.8\" font-family=\"Helvetica,sans-Serif\" font-size=\"14.00\">class = 1</text>\r\n</g>\r\n<!-- 0&#45;&gt;1 -->\r\n<g id=\"edge1\" class=\"edge\"><title>0&#45;&gt;1</title>\r\n<path fill=\"none\" stroke=\"black\" d=\"M402.111,-341.907C389.813,-332.379 376.61,-322.148 363.99,-312.37\"/>\r\n<polygon fill=\"black\" stroke=\"black\" points=\"365.845,-309.379 355.796,-306.021 361.557,-314.912 365.845,-309.379\"/>\r\n<text text-anchor=\"middle\" x=\"358.943\" y=\"-327.122\" font-family=\"Helvetica,sans-Serif\" font-size=\"14.00\">True</text>\r\n</g>\r\n<!-- 6 -->\r\n<g id=\"node7\" class=\"node\"><title>6</title>\r\n<path fill=\"#e58139\" fill-opacity=\"0.423529\" stroke=\"black\" d=\"M766.5,-306C766.5,-306 444.5,-306 444.5,-306 438.5,-306 432.5,-300 432.5,-294 432.5,-294 432.5,-235 432.5,-235 432.5,-229 438.5,-223 444.5,-223 444.5,-223 766.5,-223 766.5,-223 772.5,-223 778.5,-229 778.5,-235 778.5,-235 778.5,-294 778.5,-294 778.5,-300 772.5,-306 766.5,-306\"/>\r\n<text text-anchor=\"start\" x=\"440.5\" y=\"-290.8\" font-family=\"Helvetica,sans-Serif\" font-size=\"14.00\">NAME_EDUCATION_TYPE_Higher education ≤ 1.0</text>\r\n<text text-anchor=\"start\" x=\"568\" y=\"-275.8\" font-family=\"Helvetica,sans-Serif\" font-size=\"14.00\">gini = 0.464</text>\r\n<text text-anchor=\"start\" x=\"541.5\" y=\"-260.8\" font-family=\"Helvetica,sans-Serif\" font-size=\"14.00\">samples = 1076563</text>\r\n<text text-anchor=\"start\" x=\"524\" y=\"-245.8\" font-family=\"Helvetica,sans-Serif\" font-size=\"14.00\">value = [683060, 393503]</text>\r\n<text text-anchor=\"start\" x=\"576.5\" y=\"-230.8\" font-family=\"Helvetica,sans-Serif\" font-size=\"14.00\">class = 0</text>\r\n</g>\r\n<!-- 0&#45;&gt;6 -->\r\n<g id=\"edge6\" class=\"edge\"><title>0&#45;&gt;6</title>\r\n<path fill=\"none\" stroke=\"black\" d=\"M506.889,-341.907C519.187,-332.379 532.39,-322.148 545.01,-312.37\"/>\r\n<polygon fill=\"black\" stroke=\"black\" points=\"547.443,-314.912 553.204,-306.021 543.155,-309.379 547.443,-314.912\"/>\r\n<text text-anchor=\"middle\" x=\"550.057\" y=\"-327.122\" font-family=\"Helvetica,sans-Serif\" font-size=\"14.00\">False</text>\r\n</g>\r\n<!-- 2 -->\r\n<g id=\"node3\" class=\"node\"><title>2</title>\r\n<path fill=\"#e58139\" fill-opacity=\"0.301961\" stroke=\"black\" d=\"M215,-187C215,-187 60,-187 60,-187 54,-187 48,-181 48,-175 48,-175 48,-116 48,-116 48,-110 54,-104 60,-104 60,-104 215,-104 215,-104 221,-104 227,-110 227,-116 227,-116 227,-175 227,-175 227,-181 221,-187 215,-187\"/>\r\n<text text-anchor=\"start\" x=\"60\" y=\"-171.8\" font-family=\"Helvetica,sans-Serif\" font-size=\"14.00\">housingincomplete ≤ 0.0</text>\r\n<text text-anchor=\"start\" x=\"100\" y=\"-156.8\" font-family=\"Helvetica,sans-Serif\" font-size=\"14.00\">gini = 0.484</text>\r\n<text text-anchor=\"start\" x=\"77.5\" y=\"-141.8\" font-family=\"Helvetica,sans-Serif\" font-size=\"14.00\">samples = 728125</text>\r\n<text text-anchor=\"start\" x=\"56\" y=\"-126.8\" font-family=\"Helvetica,sans-Serif\" font-size=\"14.00\">value = [428907, 299218]</text>\r\n<text text-anchor=\"start\" x=\"108.5\" y=\"-111.8\" font-family=\"Helvetica,sans-Serif\" font-size=\"14.00\">class = 0</text>\r\n</g>\r\n<!-- 1&#45;&gt;2 -->\r\n<g id=\"edge2\" class=\"edge\"><title>1&#45;&gt;2</title>\r\n<path fill=\"none\" stroke=\"black\" d=\"M245.907,-222.907C232.13,-213.197 217.319,-202.758 203.207,-192.811\"/>\r\n<polygon fill=\"black\" stroke=\"black\" points=\"205.181,-189.921 194.991,-187.021 201.148,-195.643 205.181,-189.921\"/>\r\n</g>\r\n<!-- 5 -->\r\n<g id=\"node6\" class=\"node\"><title>5</title>\r\n<path fill=\"#399de5\" stroke=\"black\" d=\"M371.5,-179.5C371.5,-179.5 257.5,-179.5 257.5,-179.5 251.5,-179.5 245.5,-173.5 245.5,-167.5 245.5,-167.5 245.5,-123.5 245.5,-123.5 245.5,-117.5 251.5,-111.5 257.5,-111.5 257.5,-111.5 371.5,-111.5 371.5,-111.5 377.5,-111.5 383.5,-117.5 383.5,-123.5 383.5,-123.5 383.5,-167.5 383.5,-167.5 383.5,-173.5 377.5,-179.5 371.5,-179.5\"/>\r\n<text text-anchor=\"start\" x=\"285.5\" y=\"-164.3\" font-family=\"Helvetica,sans-Serif\" font-size=\"14.00\">gini = 0.0</text>\r\n<text text-anchor=\"start\" x=\"254.5\" y=\"-149.3\" font-family=\"Helvetica,sans-Serif\" font-size=\"14.00\">samples = 419246</text>\r\n<text text-anchor=\"start\" x=\"253.5\" y=\"-134.3\" font-family=\"Helvetica,sans-Serif\" font-size=\"14.00\">value = [0, 419246]</text>\r\n<text text-anchor=\"start\" x=\"285.5\" y=\"-119.3\" font-family=\"Helvetica,sans-Serif\" font-size=\"14.00\">class = 1</text>\r\n</g>\r\n<!-- 1&#45;&gt;5 -->\r\n<g id=\"edge5\" class=\"edge\"><title>1&#45;&gt;5</title>\r\n<path fill=\"none\" stroke=\"black\" d=\"M307.316,-222.907C308.323,-212.204 309.412,-200.615 310.431,-189.776\"/>\r\n<polygon fill=\"black\" stroke=\"black\" points=\"313.93,-189.951 311.382,-179.667 306.961,-189.295 313.93,-189.951\"/>\r\n</g>\r\n<!-- 3 -->\r\n<g id=\"node4\" class=\"node\"><title>3</title>\r\n<path fill=\"#e58139\" fill-opacity=\"0.615686\" stroke=\"black\" d=\"M159,-68C159,-68 12,-68 12,-68 6,-68 0,-62 0,-56 0,-56 0,-12 0,-12 0,-6 6,-0 12,-0 12,-0 159,-0 159,-0 165,-0 171,-6 171,-12 171,-12 171,-56 171,-56 171,-62 165,-68 159,-68\"/>\r\n<text text-anchor=\"start\" x=\"56.5\" y=\"-52.8\" font-family=\"Helvetica,sans-Serif\" font-size=\"14.00\">gini = 0.4</text>\r\n<text text-anchor=\"start\" x=\"25.5\" y=\"-37.8\" font-family=\"Helvetica,sans-Serif\" font-size=\"14.00\">samples = 296123</text>\r\n<text text-anchor=\"start\" x=\"8\" y=\"-22.8\" font-family=\"Helvetica,sans-Serif\" font-size=\"14.00\">value = [214122, 82001]</text>\r\n<text text-anchor=\"start\" x=\"56.5\" y=\"-7.8\" font-family=\"Helvetica,sans-Serif\" font-size=\"14.00\">class = 0</text>\r\n</g>\r\n<!-- 2&#45;&gt;3 -->\r\n<g id=\"edge3\" class=\"edge\"><title>2&#45;&gt;3</title>\r\n<path fill=\"none\" stroke=\"black\" d=\"M118.137,-103.726C114.066,-95.1527 109.761,-86.0891 105.662,-77.4555\"/>\r\n<polygon fill=\"black\" stroke=\"black\" points=\"108.765,-75.8314 101.314,-68.2996 102.442,-78.8342 108.765,-75.8314\"/>\r\n</g>\r\n<!-- 4 -->\r\n<g id=\"node5\" class=\"node\"><title>4</title>\r\n<path fill=\"#399de5\" fill-opacity=\"0.011765\" stroke=\"black\" d=\"M356,-68C356,-68 201,-68 201,-68 195,-68 189,-62 189,-56 189,-56 189,-12 189,-12 189,-6 195,-0 201,-0 201,-0 356,-0 356,-0 362,-0 368,-6 368,-12 368,-12 368,-56 368,-56 368,-62 362,-68 356,-68\"/>\r\n<text text-anchor=\"start\" x=\"249.5\" y=\"-52.8\" font-family=\"Helvetica,sans-Serif\" font-size=\"14.00\">gini = 0.5</text>\r\n<text text-anchor=\"start\" x=\"218.5\" y=\"-37.8\" font-family=\"Helvetica,sans-Serif\" font-size=\"14.00\">samples = 432002</text>\r\n<text text-anchor=\"start\" x=\"197\" y=\"-22.8\" font-family=\"Helvetica,sans-Serif\" font-size=\"14.00\">value = [214785, 217217]</text>\r\n<text text-anchor=\"start\" x=\"249.5\" y=\"-7.8\" font-family=\"Helvetica,sans-Serif\" font-size=\"14.00\">class = 1</text>\r\n</g>\r\n<!-- 2&#45;&gt;4 -->\r\n<g id=\"edge4\" class=\"edge\"><title>2&#45;&gt;4</title>\r\n<path fill=\"none\" stroke=\"black\" d=\"M190.003,-103.726C202.335,-94.1494 215.454,-83.9611 227.709,-74.4438\"/>\r\n<polygon fill=\"black\" stroke=\"black\" points=\"229.87,-77.1975 235.621,-68.2996 225.576,-71.6689 229.87,-77.1975\"/>\r\n</g>\r\n<!-- 7 -->\r\n<g id=\"node8\" class=\"node\"><title>7</title>\r\n<path fill=\"#e58139\" fill-opacity=\"0.321569\" stroke=\"black\" d=\"M756.5,-187C756.5,-187 434.5,-187 434.5,-187 428.5,-187 422.5,-181 422.5,-175 422.5,-175 422.5,-116 422.5,-116 422.5,-110 428.5,-104 434.5,-104 434.5,-104 756.5,-104 756.5,-104 762.5,-104 768.5,-110 768.5,-116 768.5,-116 768.5,-175 768.5,-175 768.5,-181 762.5,-187 756.5,-187\"/>\r\n<text text-anchor=\"start\" x=\"430.5\" y=\"-171.8\" font-family=\"Helvetica,sans-Serif\" font-size=\"14.00\">NAME_EDUCATION_TYPE_Higher education ≤ 0.0</text>\r\n<text text-anchor=\"start\" x=\"558\" y=\"-156.8\" font-family=\"Helvetica,sans-Serif\" font-size=\"14.00\">gini = 0.482</text>\r\n<text text-anchor=\"start\" x=\"535.5\" y=\"-141.8\" font-family=\"Helvetica,sans-Serif\" font-size=\"14.00\">samples = 831540</text>\r\n<text text-anchor=\"start\" x=\"514\" y=\"-126.8\" font-family=\"Helvetica,sans-Serif\" font-size=\"14.00\">value = [495672, 335868]</text>\r\n<text text-anchor=\"start\" x=\"566.5\" y=\"-111.8\" font-family=\"Helvetica,sans-Serif\" font-size=\"14.00\">class = 0</text>\r\n</g>\r\n<!-- 6&#45;&gt;7 -->\r\n<g id=\"edge7\" class=\"edge\"><title>6&#45;&gt;7</title>\r\n<path fill=\"none\" stroke=\"black\" d=\"M602.031,-222.907C601.317,-214.558 600.557,-205.671 599.818,-197.02\"/>\r\n<polygon fill=\"black\" stroke=\"black\" points=\"603.302,-196.686 598.963,-187.021 596.328,-197.283 603.302,-196.686\"/>\r\n</g>\r\n<!-- 10 -->\r\n<g id=\"node11\" class=\"node\"><title>10</title>\r\n<path fill=\"#e58139\" fill-opacity=\"0.694118\" stroke=\"black\" d=\"M1016.5,-187C1016.5,-187 798.5,-187 798.5,-187 792.5,-187 786.5,-181 786.5,-175 786.5,-175 786.5,-116 786.5,-116 786.5,-110 792.5,-104 798.5,-104 798.5,-104 1016.5,-104 1016.5,-104 1022.5,-104 1028.5,-110 1028.5,-116 1028.5,-116 1028.5,-175 1028.5,-175 1028.5,-181 1022.5,-187 1016.5,-187\"/>\r\n<text text-anchor=\"start\" x=\"794.5\" y=\"-171.8\" font-family=\"Helvetica,sans-Serif\" font-size=\"14.00\">AMT_CREDIT_SUM ≤ 224999.961</text>\r\n<text text-anchor=\"start\" x=\"874\" y=\"-156.8\" font-family=\"Helvetica,sans-Serif\" font-size=\"14.00\">gini = 0.36</text>\r\n<text text-anchor=\"start\" x=\"847.5\" y=\"-141.8\" font-family=\"Helvetica,sans-Serif\" font-size=\"14.00\">samples = 245023</text>\r\n<text text-anchor=\"start\" x=\"830\" y=\"-126.8\" font-family=\"Helvetica,sans-Serif\" font-size=\"14.00\">value = [187388, 57635]</text>\r\n<text text-anchor=\"start\" x=\"878.5\" y=\"-111.8\" font-family=\"Helvetica,sans-Serif\" font-size=\"14.00\">class = 0</text>\r\n</g>\r\n<!-- 6&#45;&gt;10 -->\r\n<g id=\"edge10\" class=\"edge\"><title>6&#45;&gt;10</title>\r\n<path fill=\"none\" stroke=\"black\" d=\"M710.277,-222.907C737.099,-212.516 766.073,-201.291 793.341,-190.727\"/>\r\n<polygon fill=\"black\" stroke=\"black\" points=\"794.848,-193.897 802.908,-187.021 792.319,-187.37 794.848,-193.897\"/>\r\n</g>\r\n<!-- 8 -->\r\n<g id=\"node9\" class=\"node\"><title>8</title>\r\n<path fill=\"#e58139\" fill-opacity=\"0.396078\" stroke=\"black\" d=\"M598,-68C598,-68 443,-68 443,-68 437,-68 431,-62 431,-56 431,-56 431,-12 431,-12 431,-6 437,-0 443,-0 443,-0 598,-0 598,-0 604,-0 610,-6 610,-12 610,-12 610,-56 610,-56 610,-62 604,-68 598,-68\"/>\r\n<text text-anchor=\"start\" x=\"483\" y=\"-52.8\" font-family=\"Helvetica,sans-Serif\" font-size=\"14.00\">gini = 0.469</text>\r\n<text text-anchor=\"start\" x=\"460.5\" y=\"-37.8\" font-family=\"Helvetica,sans-Serif\" font-size=\"14.00\">samples = 794125</text>\r\n<text text-anchor=\"start\" x=\"439\" y=\"-22.8\" font-family=\"Helvetica,sans-Serif\" font-size=\"14.00\">value = [495672, 298453]</text>\r\n<text text-anchor=\"start\" x=\"491.5\" y=\"-7.8\" font-family=\"Helvetica,sans-Serif\" font-size=\"14.00\">class = 0</text>\r\n</g>\r\n<!-- 7&#45;&gt;8 -->\r\n<g id=\"edge8\" class=\"edge\"><title>7&#45;&gt;8</title>\r\n<path fill=\"none\" stroke=\"black\" d=\"M567.573,-103.726C561.513,-94.879 555.096,-85.51 549.014,-76.6303\"/>\r\n<polygon fill=\"black\" stroke=\"black\" points=\"551.846,-74.5721 543.308,-68.2996 546.071,-78.5277 551.846,-74.5721\"/>\r\n</g>\r\n<!-- 9 -->\r\n<g id=\"node10\" class=\"node\"><title>9</title>\r\n<path fill=\"#399de5\" stroke=\"black\" d=\"M746.5,-68C746.5,-68 640.5,-68 640.5,-68 634.5,-68 628.5,-62 628.5,-56 628.5,-56 628.5,-12 628.5,-12 628.5,-6 634.5,-0 640.5,-0 640.5,-0 746.5,-0 746.5,-0 752.5,-0 758.5,-6 758.5,-12 758.5,-12 758.5,-56 758.5,-56 758.5,-62 752.5,-68 746.5,-68\"/>\r\n<text text-anchor=\"start\" x=\"664.5\" y=\"-52.8\" font-family=\"Helvetica,sans-Serif\" font-size=\"14.00\">gini = 0.0</text>\r\n<text text-anchor=\"start\" x=\"637.5\" y=\"-37.8\" font-family=\"Helvetica,sans-Serif\" font-size=\"14.00\">samples = 37415</text>\r\n<text text-anchor=\"start\" x=\"636.5\" y=\"-22.8\" font-family=\"Helvetica,sans-Serif\" font-size=\"14.00\">value = [0, 37415]</text>\r\n<text text-anchor=\"start\" x=\"664.5\" y=\"-7.8\" font-family=\"Helvetica,sans-Serif\" font-size=\"14.00\">class = 1</text>\r\n</g>\r\n<!-- 7&#45;&gt;9 -->\r\n<g id=\"edge9\" class=\"edge\"><title>7&#45;&gt;9</title>\r\n<path fill=\"none\" stroke=\"black\" d=\"M631.992,-103.726C640.155,-94.6054 648.814,-84.93 656.978,-75.8078\"/>\r\n<polygon fill=\"black\" stroke=\"black\" points=\"659.637,-78.0853 663.698,-68.2996 654.421,-73.417 659.637,-78.0853\"/>\r\n</g>\r\n<!-- 11 -->\r\n<g id=\"node12\" class=\"node\"><title>11</title>\r\n<path fill=\"#e58139\" fill-opacity=\"0.623529\" stroke=\"black\" d=\"M958,-68C958,-68 811,-68 811,-68 805,-68 799,-62 799,-56 799,-56 799,-12 799,-12 799,-6 805,-0 811,-0 811,-0 958,-0 958,-0 964,-0 970,-6 970,-12 970,-12 970,-56 970,-56 970,-62 964,-68 958,-68\"/>\r\n<text text-anchor=\"start\" x=\"847\" y=\"-52.8\" font-family=\"Helvetica,sans-Serif\" font-size=\"14.00\">gini = 0.398</text>\r\n<text text-anchor=\"start\" x=\"824.5\" y=\"-37.8\" font-family=\"Helvetica,sans-Serif\" font-size=\"14.00\">samples = 174310</text>\r\n<text text-anchor=\"start\" x=\"807\" y=\"-22.8\" font-family=\"Helvetica,sans-Serif\" font-size=\"14.00\">value = [126498, 47812]</text>\r\n<text text-anchor=\"start\" x=\"855.5\" y=\"-7.8\" font-family=\"Helvetica,sans-Serif\" font-size=\"14.00\">class = 0</text>\r\n</g>\r\n<!-- 10&#45;&gt;11 -->\r\n<g id=\"edge11\" class=\"edge\"><title>10&#45;&gt;11</title>\r\n<path fill=\"none\" stroke=\"black\" d=\"M898.936,-103.726C897.192,-95.4263 895.352,-86.6671 893.591,-78.2834\"/>\r\n<polygon fill=\"black\" stroke=\"black\" points=\"896.975,-77.3666 891.494,-68.2996 890.125,-78.8055 896.975,-77.3666\"/>\r\n</g>\r\n<!-- 12 -->\r\n<g id=\"node13\" class=\"node\"><title>12</title>\r\n<path fill=\"#e58139\" fill-opacity=\"0.839216\" stroke=\"black\" d=\"M1131,-68C1131,-68 1000,-68 1000,-68 994,-68 988,-62 988,-56 988,-56 988,-12 988,-12 988,-6 994,-0 1000,-0 1000,-0 1131,-0 1131,-0 1137,-0 1143,-6 1143,-12 1143,-12 1143,-56 1143,-56 1143,-62 1137,-68 1131,-68\"/>\r\n<text text-anchor=\"start\" x=\"1028\" y=\"-52.8\" font-family=\"Helvetica,sans-Serif\" font-size=\"14.00\">gini = 0.239</text>\r\n<text text-anchor=\"start\" x=\"1009.5\" y=\"-37.8\" font-family=\"Helvetica,sans-Serif\" font-size=\"14.00\">samples = 70713</text>\r\n<text text-anchor=\"start\" x=\"996\" y=\"-22.8\" font-family=\"Helvetica,sans-Serif\" font-size=\"14.00\">value = [60890, 9823]</text>\r\n<text text-anchor=\"start\" x=\"1036.5\" y=\"-7.8\" font-family=\"Helvetica,sans-Serif\" font-size=\"14.00\">class = 0</text>\r\n</g>\r\n<!-- 10&#45;&gt;12 -->\r\n<g id=\"edge12\" class=\"edge\"><title>10&#45;&gt;12</title>\r\n<path fill=\"none\" stroke=\"black\" d=\"M966.333,-103.726C980.356,-94.0078 995.288,-83.6597 1009.19,-74.0222\"/>\r\n<polygon fill=\"black\" stroke=\"black\" points=\"1011.48,-76.6981 1017.7,-68.1252 1007.49,-70.9447 1011.48,-76.6981\"/>\r\n</g>\r\n</g>\r\n</svg>\r\n",
            "text/plain": [
              "<graphviz.files.Source at 0x1aeae0f84a8>"
            ]
          },
          "metadata": {
            "tags": []
          },
          "execution_count": 75
        }
      ]
    },
    {
      "metadata": {
        "id": "azYNGFlDSZQl",
        "colab_type": "code",
        "outputId": "a5fc258f-409e-4256-b2a8-f54a562665b5",
        "colab": {}
      },
      "cell_type": "code",
      "source": [
        "from sklearn import metrics\n",
        "print(metrics.confusion_matrix(y_test, y_pred_dtree))\n",
        "# getting the classification Accuracy. How often is the classifier correct\n",
        "print('Classification Accuracy:', metrics.accuracy_score(y_test, y_pred_dtree)) \n",
        "\n",
        "# getting the misclassification rate. How often is the classifier incorrect\n",
        "print('Misclassification Rate:',1 - metrics.accuracy_score(y_test, y_pred_dtree))\n",
        "\n",
        "# Getting the Sensitivity. How often out of all the positive predictions are correct predictions\n",
        "# ie how sensitive is the classifier to detect positive instances\n",
        "print('Sensitivity/Recall:',metrics.recall_score(y_test, y_pred_dtree))\n",
        "\n",
        "# Getting the Specificity. How often out of all the negative predictions are correct\n",
        "# ie how sensitive is the classifier to detect negative instances "
      ],
      "execution_count": 0,
      "outputs": [
        {
          "output_type": "stream",
          "text": [
            "[[225211  53190]\n",
            " [ 17258   6210]]\n",
            "Classification Accuracy: 0.7666272455932872\n",
            "Misclassification Rate: 0.2333727544067128\n",
            "Sensitivity/Recall: 0.26461564683824784\n"
          ],
          "name": "stdout"
        }
      ]
    },
    {
      "metadata": {
        "id": "RJtgpWl3SZQm",
        "colab_type": "text"
      },
      "cell_type": "markdown",
      "source": [
        "- For the Decision Tree Model, it gave an accuracy of 1 on the test set despite dealing with the imbalanced class. \n",
        "- Looking at the classification matrix. In a credit risk business, business would want to lean on the safer side of detecting a potential defaulter and than actually letting him/her to take a loan. The cost of false negative are much higher than false positives\n",
        "    - It shows the ratio of correct predictions to the total number of predictions. It gave a rather high classification accuracy score of 0.922\n",
        "    - we would want it to be sensitive to capture more positive instances. Sensitivity is zero."
      ]
    },
    {
      "metadata": {
        "id": "bL2SrZojSZQm",
        "colab_type": "code",
        "outputId": "0b81e951-11cb-4dad-eded-a0f7baddd288",
        "colab": {}
      },
      "cell_type": "code",
      "source": [
        "from sklearn.metrics import roc_auc_score\n",
        "from sklearn.metrics import roc_curve\n",
        "logit_roc_auc = roc_auc_score(y_test, y_pred_dtree)\n",
        "fpr, tpr, thresholds = roc_curve(y_test, dtree.predict_proba(X_test)[:,1])\n",
        "plt.figure()\n",
        "plt.plot(fpr, tpr, label='Decision Tree (area = %0.2f)' % logit_roc_auc)\n",
        "plt.plot([0, 1], [0, 1],'r--')\n",
        "plt.xlim([0.0, 1.0])\n",
        "plt.ylim([0.0, 1.05])\n",
        "plt.xlabel('False Positive Rate')\n",
        "plt.ylabel('True Positive Rate')\n",
        "plt.title('Receiver operating characteristic')\n",
        "plt.legend(loc=\"lower right\")\n",
        "plt.savefig('Log_ROC')\n",
        "plt.show()\n",
        "\n",
        "print('AUC value:',metrics.roc_auc_score(y_test, y_pred_dtree))"
      ],
      "execution_count": 0,
      "outputs": [
        {
          "output_type": "execute_result",
          "data": {
            "text/plain": [
              "<Figure size 432x288 with 0 Axes>"
            ]
          },
          "metadata": {
            "tags": []
          },
          "execution_count": 70
        },
        {
          "output_type": "execute_result",
          "data": {
            "text/plain": [
              "[<matplotlib.lines.Line2D at 0x1ae95eff390>]"
            ]
          },
          "metadata": {
            "tags": []
          },
          "execution_count": 70
        },
        {
          "output_type": "execute_result",
          "data": {
            "text/plain": [
              "[<matplotlib.lines.Line2D at 0x1aea0eaa128>]"
            ]
          },
          "metadata": {
            "tags": []
          },
          "execution_count": 70
        },
        {
          "output_type": "execute_result",
          "data": {
            "text/plain": [
              "(0.0, 1.0)"
            ]
          },
          "metadata": {
            "tags": []
          },
          "execution_count": 70
        },
        {
          "output_type": "execute_result",
          "data": {
            "text/plain": [
              "(0.0, 1.05)"
            ]
          },
          "metadata": {
            "tags": []
          },
          "execution_count": 70
        },
        {
          "output_type": "execute_result",
          "data": {
            "text/plain": [
              "Text(0.5,0,'False Positive Rate')"
            ]
          },
          "metadata": {
            "tags": []
          },
          "execution_count": 70
        },
        {
          "output_type": "execute_result",
          "data": {
            "text/plain": [
              "Text(0,0.5,'True Positive Rate')"
            ]
          },
          "metadata": {
            "tags": []
          },
          "execution_count": 70
        },
        {
          "output_type": "execute_result",
          "data": {
            "text/plain": [
              "Text(0.5,1,'Receiver operating characteristic')"
            ]
          },
          "metadata": {
            "tags": []
          },
          "execution_count": 70
        },
        {
          "output_type": "execute_result",
          "data": {
            "text/plain": [
              "<matplotlib.legend.Legend at 0x1ae95effcf8>"
            ]
          },
          "metadata": {
            "tags": []
          },
          "execution_count": 70
        },
        {
          "output_type": "display_data",
          "data": {
            "image/png": "[encoded data removed]",
            "text/plain": [
              "<Figure size 432x288 with 1 Axes>"
            ]
          },
          "metadata": {
            "tags": []
          }
        },
        {
          "output_type": "stream",
          "text": [
            "AUC value: 0.536780149308758\n"
          ],
          "name": "stdout"
        }
      ]
    },
    {
      "metadata": {
        "id": "gHApRd5bSZQo",
        "colab_type": "code",
        "outputId": "9617eeea-e603-4073-e957-a5ea906cc1e6",
        "colab": {}
      },
      "cell_type": "code",
      "source": [
        "from sklearn.model_selection import validation_curve\n",
        "max_depth = np.arange(0, 5)\n",
        "train_score, val_score = validation_curve(DecisionTreeClassifier(),features,target,\n",
        "                                          'Dtree_depth',max_depth,scoring=\"accuracy\",\n",
        "                                          cv=5)\n",
        "\n",
        "plt.plot(degree, np.median(train_score, 1), color='blue', label='training score')\n",
        "plt.plot(degree, np.median(val_score, 1), color='red', label='validation score')\n",
        "plt.legend(loc='best')\n",
        "plt.ylim(0, 1)\n",
        "plt.xlabel('degree')\n",
        "plt.ylabel('score');"
      ],
      "execution_count": 0,
      "outputs": [
        {
          "output_type": "error",
          "ename": "ValueError",
          "evalue": "Invalid parameter Dtree_depth for estimator DecisionTreeClassifier(class_weight=None, criterion='gini', max_depth=None,\n            max_features=None, max_leaf_nodes=None,\n            min_impurity_decrease=0.0, min_impurity_split=None,\n            min_samples_leaf=1, min_samples_split=2,\n            min_weight_fraction_leaf=0.0, presort=False, random_state=None,\n            splitter='best'). Check the list of available parameters with `estimator.get_params().keys()`.",
          "traceback": [
            "\u001b[1;31m---------------------------------------------------------------------------\u001b[0m",
            "\u001b[1;31mValueError\u001b[0m                                Traceback (most recent call last)",
            "\u001b[1;32m<ipython-input-77-a818b93c7919>\u001b[0m in \u001b[0;36m<module>\u001b[1;34m()\u001b[0m\n\u001b[0;32m      3\u001b[0m train_score, val_score = validation_curve(DecisionTreeClassifier(),features,target,\n\u001b[0;32m      4\u001b[0m                                           \u001b[1;34m'Dtree_depth'\u001b[0m\u001b[1;33m,\u001b[0m\u001b[0mmax_depth\u001b[0m\u001b[1;33m,\u001b[0m\u001b[0mscoring\u001b[0m\u001b[1;33m=\u001b[0m\u001b[1;34m\"accuracy\"\u001b[0m\u001b[1;33m,\u001b[0m\u001b[1;33m\u001b[0m\u001b[0m\n\u001b[1;32m----> 5\u001b[1;33m                                           cv=5)\n\u001b[0m\u001b[0;32m      6\u001b[0m \u001b[1;33m\u001b[0m\u001b[0m\n\u001b[0;32m      7\u001b[0m \u001b[0mplt\u001b[0m\u001b[1;33m.\u001b[0m\u001b[0mplot\u001b[0m\u001b[1;33m(\u001b[0m\u001b[0mdegree\u001b[0m\u001b[1;33m,\u001b[0m \u001b[0mnp\u001b[0m\u001b[1;33m.\u001b[0m\u001b[0mmedian\u001b[0m\u001b[1;33m(\u001b[0m\u001b[0mtrain_score\u001b[0m\u001b[1;33m,\u001b[0m \u001b[1;36m1\u001b[0m\u001b[1;33m)\u001b[0m\u001b[1;33m,\u001b[0m \u001b[0mcolor\u001b[0m\u001b[1;33m=\u001b[0m\u001b[1;34m'blue'\u001b[0m\u001b[1;33m,\u001b[0m \u001b[0mlabel\u001b[0m\u001b[1;33m=\u001b[0m\u001b[1;34m'training score'\u001b[0m\u001b[1;33m)\u001b[0m\u001b[1;33m\u001b[0m\u001b[0m\n",
            "\u001b[1;32m~\\Anaconda3\\lib\\site-packages\\sklearn\\model_selection\\_validation.py\u001b[0m in \u001b[0;36mvalidation_curve\u001b[1;34m(estimator, X, y, param_name, param_range, groups, cv, scoring, n_jobs, pre_dispatch, verbose, error_score)\u001b[0m\n\u001b[0;32m   1445\u001b[0m         error_score=error_score)\n\u001b[0;32m   1446\u001b[0m         \u001b[1;31m# NOTE do not change order of iteration to allow one time cv splitters\u001b[0m\u001b[1;33m\u001b[0m\u001b[1;33m\u001b[0m\u001b[0m\n\u001b[1;32m-> 1447\u001b[1;33m         for train, test in cv.split(X, y, groups) for v in param_range)\n\u001b[0m\u001b[0;32m   1448\u001b[0m     \u001b[0mout\u001b[0m \u001b[1;33m=\u001b[0m \u001b[0mnp\u001b[0m\u001b[1;33m.\u001b[0m\u001b[0masarray\u001b[0m\u001b[1;33m(\u001b[0m\u001b[0mout\u001b[0m\u001b[1;33m)\u001b[0m\u001b[1;33m\u001b[0m\u001b[0m\n\u001b[0;32m   1449\u001b[0m     \u001b[0mn_params\u001b[0m \u001b[1;33m=\u001b[0m \u001b[0mlen\u001b[0m\u001b[1;33m(\u001b[0m\u001b[0mparam_range\u001b[0m\u001b[1;33m)\u001b[0m\u001b[1;33m\u001b[0m\u001b[0m\n",
            "\u001b[1;32m~\\Anaconda3\\lib\\site-packages\\sklearn\\externals\\joblib\\parallel.py\u001b[0m in \u001b[0;36m__call__\u001b[1;34m(self, iterable)\u001b[0m\n\u001b[0;32m    915\u001b[0m             \u001b[1;31m# remaining jobs.\u001b[0m\u001b[1;33m\u001b[0m\u001b[1;33m\u001b[0m\u001b[0m\n\u001b[0;32m    916\u001b[0m             \u001b[0mself\u001b[0m\u001b[1;33m.\u001b[0m\u001b[0m_iterating\u001b[0m \u001b[1;33m=\u001b[0m \u001b[1;32mFalse\u001b[0m\u001b[1;33m\u001b[0m\u001b[0m\n\u001b[1;32m--> 917\u001b[1;33m             \u001b[1;32mif\u001b[0m \u001b[0mself\u001b[0m\u001b[1;33m.\u001b[0m\u001b[0mdispatch_one_batch\u001b[0m\u001b[1;33m(\u001b[0m\u001b[0miterator\u001b[0m\u001b[1;33m)\u001b[0m\u001b[1;33m:\u001b[0m\u001b[1;33m\u001b[0m\u001b[0m\n\u001b[0m\u001b[0;32m    918\u001b[0m                 \u001b[0mself\u001b[0m\u001b[1;33m.\u001b[0m\u001b[0m_iterating\u001b[0m \u001b[1;33m=\u001b[0m \u001b[0mself\u001b[0m\u001b[1;33m.\u001b[0m\u001b[0m_original_iterator\u001b[0m \u001b[1;32mis\u001b[0m \u001b[1;32mnot\u001b[0m \u001b[1;32mNone\u001b[0m\u001b[1;33m\u001b[0m\u001b[0m\n\u001b[0;32m    919\u001b[0m \u001b[1;33m\u001b[0m\u001b[0m\n",
            "\u001b[1;32m~\\Anaconda3\\lib\\site-packages\\sklearn\\externals\\joblib\\parallel.py\u001b[0m in \u001b[0;36mdispatch_one_batch\u001b[1;34m(self, iterator)\u001b[0m\n\u001b[0;32m    757\u001b[0m                 \u001b[1;32mreturn\u001b[0m \u001b[1;32mFalse\u001b[0m\u001b[1;33m\u001b[0m\u001b[0m\n\u001b[0;32m    758\u001b[0m             \u001b[1;32melse\u001b[0m\u001b[1;33m:\u001b[0m\u001b[1;33m\u001b[0m\u001b[0m\n\u001b[1;32m--> 759\u001b[1;33m                 \u001b[0mself\u001b[0m\u001b[1;33m.\u001b[0m\u001b[0m_dispatch\u001b[0m\u001b[1;33m(\u001b[0m\u001b[0mtasks\u001b[0m\u001b[1;33m)\u001b[0m\u001b[1;33m\u001b[0m\u001b[0m\n\u001b[0m\u001b[0;32m    760\u001b[0m                 \u001b[1;32mreturn\u001b[0m \u001b[1;32mTrue\u001b[0m\u001b[1;33m\u001b[0m\u001b[0m\n\u001b[0;32m    761\u001b[0m \u001b[1;33m\u001b[0m\u001b[0m\n",
            "\u001b[1;32m~\\Anaconda3\\lib\\site-packages\\sklearn\\externals\\joblib\\parallel.py\u001b[0m in \u001b[0;36m_dispatch\u001b[1;34m(self, batch)\u001b[0m\n\u001b[0;32m    714\u001b[0m         \u001b[1;32mwith\u001b[0m \u001b[0mself\u001b[0m\u001b[1;33m.\u001b[0m\u001b[0m_lock\u001b[0m\u001b[1;33m:\u001b[0m\u001b[1;33m\u001b[0m\u001b[0m\n\u001b[0;32m    715\u001b[0m             \u001b[0mjob_idx\u001b[0m \u001b[1;33m=\u001b[0m \u001b[0mlen\u001b[0m\u001b[1;33m(\u001b[0m\u001b[0mself\u001b[0m\u001b[1;33m.\u001b[0m\u001b[0m_jobs\u001b[0m\u001b[1;33m)\u001b[0m\u001b[1;33m\u001b[0m\u001b[0m\n\u001b[1;32m--> 716\u001b[1;33m             \u001b[0mjob\u001b[0m \u001b[1;33m=\u001b[0m \u001b[0mself\u001b[0m\u001b[1;33m.\u001b[0m\u001b[0m_backend\u001b[0m\u001b[1;33m.\u001b[0m\u001b[0mapply_async\u001b[0m\u001b[1;33m(\u001b[0m\u001b[0mbatch\u001b[0m\u001b[1;33m,\u001b[0m \u001b[0mcallback\u001b[0m\u001b[1;33m=\u001b[0m\u001b[0mcb\u001b[0m\u001b[1;33m)\u001b[0m\u001b[1;33m\u001b[0m\u001b[0m\n\u001b[0m\u001b[0;32m    717\u001b[0m             \u001b[1;31m# A job can complete so quickly than its callback is\u001b[0m\u001b[1;33m\u001b[0m\u001b[1;33m\u001b[0m\u001b[0m\n\u001b[0;32m    718\u001b[0m             \u001b[1;31m# called before we get here, causing self._jobs to\u001b[0m\u001b[1;33m\u001b[0m\u001b[1;33m\u001b[0m\u001b[0m\n",
            "\u001b[1;32m~\\Anaconda3\\lib\\site-packages\\sklearn\\externals\\joblib\\_parallel_backends.py\u001b[0m in \u001b[0;36mapply_async\u001b[1;34m(self, func, callback)\u001b[0m\n\u001b[0;32m    180\u001b[0m     \u001b[1;32mdef\u001b[0m \u001b[0mapply_async\u001b[0m\u001b[1;33m(\u001b[0m\u001b[0mself\u001b[0m\u001b[1;33m,\u001b[0m \u001b[0mfunc\u001b[0m\u001b[1;33m,\u001b[0m \u001b[0mcallback\u001b[0m\u001b[1;33m=\u001b[0m\u001b[1;32mNone\u001b[0m\u001b[1;33m)\u001b[0m\u001b[1;33m:\u001b[0m\u001b[1;33m\u001b[0m\u001b[0m\n\u001b[0;32m    181\u001b[0m         \u001b[1;34m\"\"\"Schedule a func to be run\"\"\"\u001b[0m\u001b[1;33m\u001b[0m\u001b[0m\n\u001b[1;32m--> 182\u001b[1;33m         \u001b[0mresult\u001b[0m \u001b[1;33m=\u001b[0m \u001b[0mImmediateResult\u001b[0m\u001b[1;33m(\u001b[0m\u001b[0mfunc\u001b[0m\u001b[1;33m)\u001b[0m\u001b[1;33m\u001b[0m\u001b[0m\n\u001b[0m\u001b[0;32m    183\u001b[0m         \u001b[1;32mif\u001b[0m \u001b[0mcallback\u001b[0m\u001b[1;33m:\u001b[0m\u001b[1;33m\u001b[0m\u001b[0m\n\u001b[0;32m    184\u001b[0m             \u001b[0mcallback\u001b[0m\u001b[1;33m(\u001b[0m\u001b[0mresult\u001b[0m\u001b[1;33m)\u001b[0m\u001b[1;33m\u001b[0m\u001b[0m\n",
            "\u001b[1;32m~\\Anaconda3\\lib\\site-packages\\sklearn\\externals\\joblib\\_parallel_backends.py\u001b[0m in \u001b[0;36m__init__\u001b[1;34m(self, batch)\u001b[0m\n\u001b[0;32m    547\u001b[0m         \u001b[1;31m# Don't delay the application, to avoid keeping the input\u001b[0m\u001b[1;33m\u001b[0m\u001b[1;33m\u001b[0m\u001b[0m\n\u001b[0;32m    548\u001b[0m         \u001b[1;31m# arguments in memory\u001b[0m\u001b[1;33m\u001b[0m\u001b[1;33m\u001b[0m\u001b[0m\n\u001b[1;32m--> 549\u001b[1;33m         \u001b[0mself\u001b[0m\u001b[1;33m.\u001b[0m\u001b[0mresults\u001b[0m \u001b[1;33m=\u001b[0m \u001b[0mbatch\u001b[0m\u001b[1;33m(\u001b[0m\u001b[1;33m)\u001b[0m\u001b[1;33m\u001b[0m\u001b[0m\n\u001b[0m\u001b[0;32m    550\u001b[0m \u001b[1;33m\u001b[0m\u001b[0m\n\u001b[0;32m    551\u001b[0m     \u001b[1;32mdef\u001b[0m \u001b[0mget\u001b[0m\u001b[1;33m(\u001b[0m\u001b[0mself\u001b[0m\u001b[1;33m)\u001b[0m\u001b[1;33m:\u001b[0m\u001b[1;33m\u001b[0m\u001b[0m\n",
            "\u001b[1;32m~\\Anaconda3\\lib\\site-packages\\sklearn\\externals\\joblib\\parallel.py\u001b[0m in \u001b[0;36m__call__\u001b[1;34m(self)\u001b[0m\n\u001b[0;32m    223\u001b[0m         \u001b[1;32mwith\u001b[0m \u001b[0mparallel_backend\u001b[0m\u001b[1;33m(\u001b[0m\u001b[0mself\u001b[0m\u001b[1;33m.\u001b[0m\u001b[0m_backend\u001b[0m\u001b[1;33m,\u001b[0m \u001b[0mn_jobs\u001b[0m\u001b[1;33m=\u001b[0m\u001b[0mself\u001b[0m\u001b[1;33m.\u001b[0m\u001b[0m_n_jobs\u001b[0m\u001b[1;33m)\u001b[0m\u001b[1;33m:\u001b[0m\u001b[1;33m\u001b[0m\u001b[0m\n\u001b[0;32m    224\u001b[0m             return [func(*args, **kwargs)\n\u001b[1;32m--> 225\u001b[1;33m                     for func, args, kwargs in self.items]\n\u001b[0m\u001b[0;32m    226\u001b[0m \u001b[1;33m\u001b[0m\u001b[0m\n\u001b[0;32m    227\u001b[0m     \u001b[1;32mdef\u001b[0m \u001b[0m__len__\u001b[0m\u001b[1;33m(\u001b[0m\u001b[0mself\u001b[0m\u001b[1;33m)\u001b[0m\u001b[1;33m:\u001b[0m\u001b[1;33m\u001b[0m\u001b[0m\n",
            "\u001b[1;32m~\\Anaconda3\\lib\\site-packages\\sklearn\\externals\\joblib\\parallel.py\u001b[0m in \u001b[0;36m<listcomp>\u001b[1;34m(.0)\u001b[0m\n\u001b[0;32m    223\u001b[0m         \u001b[1;32mwith\u001b[0m \u001b[0mparallel_backend\u001b[0m\u001b[1;33m(\u001b[0m\u001b[0mself\u001b[0m\u001b[1;33m.\u001b[0m\u001b[0m_backend\u001b[0m\u001b[1;33m,\u001b[0m \u001b[0mn_jobs\u001b[0m\u001b[1;33m=\u001b[0m\u001b[0mself\u001b[0m\u001b[1;33m.\u001b[0m\u001b[0m_n_jobs\u001b[0m\u001b[1;33m)\u001b[0m\u001b[1;33m:\u001b[0m\u001b[1;33m\u001b[0m\u001b[0m\n\u001b[0;32m    224\u001b[0m             return [func(*args, **kwargs)\n\u001b[1;32m--> 225\u001b[1;33m                     for func, args, kwargs in self.items]\n\u001b[0m\u001b[0;32m    226\u001b[0m \u001b[1;33m\u001b[0m\u001b[0m\n\u001b[0;32m    227\u001b[0m     \u001b[1;32mdef\u001b[0m \u001b[0m__len__\u001b[0m\u001b[1;33m(\u001b[0m\u001b[0mself\u001b[0m\u001b[1;33m)\u001b[0m\u001b[1;33m:\u001b[0m\u001b[1;33m\u001b[0m\u001b[0m\n",
            "\u001b[1;32m~\\Anaconda3\\lib\\site-packages\\sklearn\\model_selection\\_validation.py\u001b[0m in \u001b[0;36m_fit_and_score\u001b[1;34m(estimator, X, y, scorer, train, test, verbose, parameters, fit_params, return_train_score, return_parameters, return_n_test_samples, return_times, return_estimator, error_score)\u001b[0m\n\u001b[0;32m    512\u001b[0m     \u001b[0mtrain_scores\u001b[0m \u001b[1;33m=\u001b[0m \u001b[1;33m{\u001b[0m\u001b[1;33m}\u001b[0m\u001b[1;33m\u001b[0m\u001b[0m\n\u001b[0;32m    513\u001b[0m     \u001b[1;32mif\u001b[0m \u001b[0mparameters\u001b[0m \u001b[1;32mis\u001b[0m \u001b[1;32mnot\u001b[0m \u001b[1;32mNone\u001b[0m\u001b[1;33m:\u001b[0m\u001b[1;33m\u001b[0m\u001b[0m\n\u001b[1;32m--> 514\u001b[1;33m         \u001b[0mestimator\u001b[0m\u001b[1;33m.\u001b[0m\u001b[0mset_params\u001b[0m\u001b[1;33m(\u001b[0m\u001b[1;33m**\u001b[0m\u001b[0mparameters\u001b[0m\u001b[1;33m)\u001b[0m\u001b[1;33m\u001b[0m\u001b[0m\n\u001b[0m\u001b[0;32m    515\u001b[0m \u001b[1;33m\u001b[0m\u001b[0m\n\u001b[0;32m    516\u001b[0m     \u001b[0mstart_time\u001b[0m \u001b[1;33m=\u001b[0m \u001b[0mtime\u001b[0m\u001b[1;33m.\u001b[0m\u001b[0mtime\u001b[0m\u001b[1;33m(\u001b[0m\u001b[1;33m)\u001b[0m\u001b[1;33m\u001b[0m\u001b[0m\n",
            "\u001b[1;32m~\\Anaconda3\\lib\\site-packages\\sklearn\\base.py\u001b[0m in \u001b[0;36mset_params\u001b[1;34m(self, **params)\u001b[0m\n\u001b[0;32m    211\u001b[0m                                  \u001b[1;34m'Check the list of available parameters '\u001b[0m\u001b[1;33m\u001b[0m\u001b[0m\n\u001b[0;32m    212\u001b[0m                                  \u001b[1;34m'with `estimator.get_params().keys()`.'\u001b[0m \u001b[1;33m%\u001b[0m\u001b[1;33m\u001b[0m\u001b[0m\n\u001b[1;32m--> 213\u001b[1;33m                                  (key, self))\n\u001b[0m\u001b[0;32m    214\u001b[0m \u001b[1;33m\u001b[0m\u001b[0m\n\u001b[0;32m    215\u001b[0m             \u001b[1;32mif\u001b[0m \u001b[0mdelim\u001b[0m\u001b[1;33m:\u001b[0m\u001b[1;33m\u001b[0m\u001b[0m\n",
            "\u001b[1;31mValueError\u001b[0m: Invalid parameter Dtree_depth for estimator DecisionTreeClassifier(class_weight=None, criterion='gini', max_depth=None,\n            max_features=None, max_leaf_nodes=None,\n            min_impurity_decrease=0.0, min_impurity_split=None,\n            min_samples_leaf=1, min_samples_split=2,\n            min_weight_fraction_leaf=0.0, presort=False, random_state=None,\n            splitter='best'). Check the list of available parameters with `estimator.get_params().keys()`."
          ]
        }
      ]
    },
    {
      "metadata": {
        "id": "L3-Tddh9SZQp",
        "colab_type": "text"
      },
      "cell_type": "markdown",
      "source": [
        "- Ways to improve the model\n",
        "    - Feature selection\n",
        "    - Parameter tuning\n",
        "    - Relook into the business case and dataset and improve features"
      ]
    },
    {
      "metadata": {
        "id": "TlEfKYHYSZQp",
        "colab_type": "text"
      },
      "cell_type": "markdown",
      "source": [
        "# Feature Selection\n",
        "Top reasons to use feature selection are:\n",
        "\n",
        "- It enables the machine learning algorithm to train faster.\n",
        "- It reduces the complexity of a model and makes it easier to interpret.\n",
        "- It improves the accuracy of a model if the right subset is chosen.\n",
        "- It reduces overfitting.\n",
        "\n",
        "Methods which I will be exploring in this kernel would be\n",
        "\n",
        "#### Filter Methods\n",
        "- High correlation features\n",
        "    - Multiple variables giving similar information or variation is known as Multi-collinearity. Use Pearson/Polychoric correlation matrix to identify variables with high correlation and select using Variance Inflation Factor. VIF>5 will be dropped\n",
        "    - https://etav.github.io/python/vif_factor_python.html\n",
        "        \n",
        "#### Embedded methods\n",
        "- Variable importance/selection using Decision Trees\n",
        "    - Takes into account of missing and outliers well.\n",
        "        \n",
        "#### Wrapper Methods\n",
        "\n",
        "- Recursive Feature elimination\n",
        "    - Greedy optimization algorithm which aims to find the best performing feature subset. Ranks the features based on order of elimination.\n",
        "    \n",
        "#### Synthesis\n",
        "- Synthesis the top 20 variables for further analysis\n",
        "    \n",
        "Reference:\n",
        "- https://towardsdatascience.com/why-how-and-when-to-apply-feature-selection-e9c69adfabf2\n",
        "- https://machinelearningmastery.com/an-introduction-to-feature-selection/\n",
        "- https://www.analyticsvidhya.com/blog/2015/07/dimension-reduction-methods/\n",
        "- https://medium.com/@rrfd/standardize-or-normalize-examples-in-python-e3f174b65dfc\n",
        "- http://benalexkeen.com/feature-scaling-with-scikit-learn/"
      ]
    },
    {
      "metadata": {
        "id": "sbiwOnxVSZQp",
        "colab_type": "text"
      },
      "cell_type": "markdown",
      "source": [
        "## One-hot encoding"
      ]
    },
    {
      "metadata": {
        "collapsed": true,
        "id": "XfbTMpxJSZQq",
        "colab_type": "code",
        "colab": {}
      },
      "cell_type": "code",
      "source": [
        "features_cat=train_fs.select_dtypes('object')\n",
        "features_cat.columns.tolist()"
      ],
      "execution_count": 0,
      "outputs": []
    },
    {
      "metadata": {
        "collapsed": true,
        "id": "Nmxv98D3SZQq",
        "colab_type": "code",
        "colab": {}
      },
      "cell_type": "code",
      "source": [
        "features_encoded=pd.get_dummies(features_cat, drop_first=True)\n",
        "features_encoded.shape"
      ],
      "execution_count": 0,
      "outputs": []
    },
    {
      "metadata": {
        "collapsed": true,
        "id": "SKg19ebLSZQr",
        "colab_type": "code",
        "colab": {}
      },
      "cell_type": "code",
      "source": [
        "features_2=pd.concat([train_fs,features_encoded],axis=1)\n",
        "features_2.shape"
      ],
      "execution_count": 0,
      "outputs": []
    },
    {
      "metadata": {
        "collapsed": true,
        "id": "i0due6wiSZQr",
        "colab_type": "code",
        "colab": {}
      },
      "cell_type": "code",
      "source": [
        "features_2.drop(features_cat.columns.tolist(),axis=1,inplace=True);"
      ],
      "execution_count": 0,
      "outputs": []
    },
    {
      "metadata": {
        "collapsed": true,
        "id": "bwaWRmSlSZQs",
        "colab_type": "code",
        "colab": {}
      },
      "cell_type": "code",
      "source": [
        "features_2.shape"
      ],
      "execution_count": 0,
      "outputs": []
    },
    {
      "metadata": {
        "id": "oCPnOqLXSZQt",
        "colab_type": "text"
      },
      "cell_type": "markdown",
      "source": [
        "## Split Dataset to Features and Target"
      ]
    },
    {
      "metadata": {
        "collapsed": true,
        "id": "Od9VU66USZQt",
        "colab_type": "code",
        "colab": {}
      },
      "cell_type": "code",
      "source": [
        "# Split the Dataset into features and target dataset\n",
        "features_2.reset_index(drop=True);\n",
        "features=features_2.drop(columns=\"TARGET\").copy()\n",
        "target=features_2['TARGET'].copy()\n",
        "# features.shape\n",
        "# target.shape\n",
        "target.shape\n",
        "features.shape"
      ],
      "execution_count": 0,
      "outputs": []
    },
    {
      "metadata": {
        "id": "KvEDh5K1SZQu",
        "colab_type": "text"
      },
      "cell_type": "markdown",
      "source": [
        "## Train Test Split"
      ]
    },
    {
      "metadata": {
        "collapsed": true,
        "id": "nr9ZCoWgSZQu",
        "colab_type": "code",
        "colab": {}
      },
      "cell_type": "code",
      "source": [
        "from sklearn.model_selection import train_test_split\n",
        "xTrain, xTest, yTrain, yTest = train_test_split(features, target, test_size = 0.3, random_state = 42)"
      ],
      "execution_count": 0,
      "outputs": []
    },
    {
      "metadata": {
        "collapsed": true,
        "id": "UNDRMx9VSZQv",
        "colab_type": "code",
        "colab": {}
      },
      "cell_type": "code",
      "source": [
        "xTrain.shape\n",
        "xTest.shape\n",
        "yTrain.shape\n",
        "yTest.shape"
      ],
      "execution_count": 0,
      "outputs": []
    },
    {
      "metadata": {
        "id": "YFySuu7nSZQv",
        "colab_type": "text"
      },
      "cell_type": "markdown",
      "source": [
        "## Upsamping minority class"
      ]
    },
    {
      "metadata": {
        "id": "DRdHymcaSZQv",
        "colab_type": "text"
      },
      "cell_type": "markdown",
      "source": [
        "- Using SMOTE to upsample the minority class for the Training Dataset.(training dataset instead of complete dataset to avoid information leakage)"
      ]
    },
    {
      "metadata": {
        "collapsed": true,
        "id": "2E67ubDeSZQw",
        "colab_type": "code",
        "colab": {}
      },
      "cell_type": "code",
      "source": [
        "# upsampling the minor class to 1:1 using SMOTE\n",
        "from imblearn.over_sampling import SMOTE\n",
        "smote=SMOTE(sampling_strategy='float',random_state=20,ratio=1)\n",
        "X_sm, y_sm =smote.fit_resample(features,target)\n",
        "smote.get_params"
      ],
      "execution_count": 0,
      "outputs": []
    },
    {
      "metadata": {
        "collapsed": true,
        "id": "yV2QcK8fSZQy",
        "colab_type": "code",
        "colab": {}
      },
      "cell_type": "code",
      "source": [
        "print('Resampled Training Features Shape:',X_sm.shape)\n",
        "print('Resampled Training Labels Shape:',y_sm.shape)"
      ],
      "execution_count": 0,
      "outputs": []
    },
    {
      "metadata": {
        "collapsed": true,
        "id": "hBnmtGuJSZQy",
        "colab_type": "code",
        "colab": {}
      },
      "cell_type": "code",
      "source": [
        ""
      ],
      "execution_count": 0,
      "outputs": []
    },
    {
      "metadata": {
        "id": "19pstnSwSZQz",
        "colab_type": "text"
      },
      "cell_type": "markdown",
      "source": [
        "## MultiCollinearity"
      ]
    },
    {
      "metadata": {
        "id": "1bAR8qa4SZQz",
        "colab_type": "text"
      },
      "cell_type": "markdown",
      "source": [
        "- Multicollinearity occurs when independent variables in a regression model are correlated. This correlation is a problem because independent variables should be independent.\n",
        "- The stronger the correlation, the more difficult it is to change one variable without changing another. It becomes difficult for the model to estimate the relationship between each independent variable and the dependent variable independetaly because these variables tend to change in unison.\n"
      ]
    },
    {
      "metadata": {
        "collapsed": true,
        "id": "UCHQof7eSZQz",
        "colab_type": "code",
        "colab": {}
      },
      "cell_type": "code",
      "source": [
        "features_num=features.select_dtypes('number')"
      ],
      "execution_count": 0,
      "outputs": []
    },
    {
      "metadata": {
        "collapsed": true,
        "id": "JygNIsoySZQ2",
        "colab_type": "code",
        "colab": {}
      },
      "cell_type": "code",
      "source": [
        "import statsmodels.formula.api as sm\n",
        "def vif_cal(input_data, dependent_col):\n",
        "    x_vars=input_data.drop([dependent_col], axis=1)\n",
        "    xvars_names=x_vars.columns\n",
        "    VIPlist={}\n",
        "    for i in range(0,vars_names.shape[0]):\n",
        "        y=x_vars[xvars_names[1]]\n",
        "        x=x_vars[xvars_names.drop(xvars_names[i])]\n",
        "        rsq=sm.ols(formula=\"y-x\" ,data=vars).fit().rsquared\n",
        "        vif=round(1/(1-rsq),2)\n",
        "        VIFlist[vars_names[i]]=vif\n",
        "        print(vars_names[i], \"VIF=\",vif)\n",
        "    return VIFlist"
      ],
      "execution_count": 0,
      "outputs": []
    },
    {
      "metadata": {
        "collapsed": true,
        "scrolled": true,
        "id": "Gw010V1fSZQ3",
        "colab_type": "code",
        "colab": {}
      },
      "cell_type": "code",
      "source": [
        "vif_cal(input_data=features_num, dependent_col=target)"
      ],
      "execution_count": 0,
      "outputs": []
    },
    {
      "metadata": {
        "id": "caD-sL60SZQ3",
        "colab_type": "text"
      },
      "cell_type": "markdown",
      "source": [
        "## Low Variance"
      ]
    },
    {
      "metadata": {
        "collapsed": true,
        "id": "jCt7ygysSZQ3",
        "colab_type": "code",
        "colab": {}
      },
      "cell_type": "code",
      "source": [
        "# checking for low variance\n",
        "from sklearn.feature_selection import VarianceThreshold\n",
        "# Splitting into Features and Target \n",
        "df1_features=train_fs.drop('TARGET',axis=1).copy()\n",
        "df1_target=train_fs.loc[:,'TARGET']\n",
        "# filter out numeric and string variables\n",
        "df1_features_cat= df1_features.select_dtypes(include=['category','object'])\n",
        "df1_features_num= df1_features.select_dtypes(include='number')"
      ],
      "execution_count": 0,
      "outputs": []
    },
    {
      "metadata": {
        "collapsed": true,
        "id": "iHCW29BpSZQ4",
        "colab_type": "code",
        "colab": {}
      },
      "cell_type": "code",
      "source": [
        "df1_features_num.shape"
      ],
      "execution_count": 0,
      "outputs": []
    },
    {
      "metadata": {
        "collapsed": true,
        "id": "KceNT4UVSZQ4",
        "colab_type": "code",
        "colab": {}
      },
      "cell_type": "code",
      "source": [
        "# scaling our data using min-max( need to check)\n",
        "scaler = preprocessing.MinMaxScaler()\n",
        "scaled_df = scaler.fit_transform(train_fs)\n",
        "scaled_df = pd.DataFrame(scaled_df)"
      ],
      "execution_count": 0,
      "outputs": []
    },
    {
      "metadata": {
        "collapsed": true,
        "id": "3seImYBiSZQ6",
        "colab_type": "code",
        "colab": {}
      },
      "cell_type": "code",
      "source": [
        "#create instance\n",
        "variancefilter=VarianceThreshold(threshold=0.1)"
      ],
      "execution_count": 0,
      "outputs": []
    },
    {
      "metadata": {
        "collapsed": true,
        "id": "UDo_jIuISZQ6",
        "colab_type": "code",
        "colab": {}
      },
      "cell_type": "code",
      "source": [
        "def variance_threshold_selector(data, threshold=0.1):\n",
        "    selector = VarianceThreshold(threshold)\n",
        "    selector.fit(data)\n",
        "    return data[data.columns[selector.get_support(indices=True)]]\n"
      ],
      "execution_count": 0,
      "outputs": []
    },
    {
      "metadata": {
        "collapsed": true,
        "id": "XGGpBbbfSZQ8",
        "colab_type": "code",
        "colab": {}
      },
      "cell_type": "code",
      "source": [
        "variance_threshold_selector(df1_features_num)"
      ],
      "execution_count": 0,
      "outputs": []
    },
    {
      "metadata": {
        "id": "82FYnusuSZQ8",
        "colab_type": "text"
      },
      "cell_type": "markdown",
      "source": [
        "## High Correlations"
      ]
    },
    {
      "metadata": {
        "collapsed": true,
        "id": "i0PR2KgFSZQ8",
        "colab_type": "code",
        "colab": {}
      },
      "cell_type": "code",
      "source": [
        "correlationdata=train_fs.corr()"
      ],
      "execution_count": 0,
      "outputs": []
    },
    {
      "metadata": {
        "collapsed": true,
        "id": "sT7r3MLPSZQ9",
        "colab_type": "code",
        "colab": {}
      },
      "cell_type": "code",
      "source": [
        "# Set the threshold\n",
        "threshold = 0.8\n",
        "\n",
        "# Empty dictionary to hold correlated variables\n",
        "above_threshold_vars = {}\n",
        "\n",
        "# For each column, record the variables that are above the threshold\n",
        "for col in correlationdata:\n",
        "    above_threshold_vars[col] = list(correlationdata.index[correlationdata[col] > threshold])"
      ],
      "execution_count": 0,
      "outputs": []
    },
    {
      "metadata": {
        "collapsed": true,
        "id": "no9Ej5gISZQ-",
        "colab_type": "code",
        "colab": {}
      },
      "cell_type": "code",
      "source": [
        "# Track columns to remove and columns already examined\n",
        "cols_to_remove = []\n",
        "cols_seen = []\n",
        "cols_to_remove_pair = []\n",
        "\n",
        "# Iterate through columns and correlated columns\n",
        "for key, value in above_threshold_vars.items():\n",
        "    # Keep track of columns already examined\n",
        "    cols_seen.append(key)\n",
        "    for x in value:\n",
        "        if x == key:\n",
        "            next\n",
        "        else:\n",
        "            # Only want to remove one in a pair\n",
        "            if x not in cols_seen:\n",
        "                cols_to_remove.append(x)\n",
        "                cols_to_remove_pair.append(key)\n",
        "            \n",
        "cols_to_remove = list(set(cols_to_remove))\n",
        "print('Number of columns to remove: ', len(cols_to_remove));"
      ],
      "execution_count": 0,
      "outputs": []
    },
    {
      "metadata": {
        "collapsed": true,
        "id": "VjITNJNUSZQ_",
        "colab_type": "code",
        "colab": {}
      },
      "cell_type": "code",
      "source": [
        "cols_to_remove"
      ],
      "execution_count": 0,
      "outputs": []
    },
    {
      "metadata": {
        "collapsed": true,
        "id": "5kDSuJPOSZRC",
        "colab_type": "code",
        "colab": {}
      },
      "cell_type": "code",
      "source": [
        "# correlationdata_removed = correlationdata.drop(columns = cols_to_remove)\n",
        "# print('Correlations Removed Shape: ', correlationdata_removed.shape)"
      ],
      "execution_count": 0,
      "outputs": []
    },
    {
      "metadata": {
        "collapsed": true,
        "id": "YzSniky3SZRD",
        "colab_type": "code",
        "colab": {}
      },
      "cell_type": "code",
      "source": [
        "# ef correlation(dataset, threshold):\n",
        "#     col_corr = set() # Set of all the names of deleted columns\n",
        "#     corr_matrix = dataset.corr()\n",
        "#     for i in range(len(corr_matrix.columns)):\n",
        "#         for j in range(i):\n",
        "#             if corr_matrix.iloc[i, j] >= threshold:\n",
        "#                 colname = corr_matrix.columns[i] # getting the name of column\n",
        "#                 col_corr.add(colname)\n",
        "#                 if colname in dataset.columns:\n",
        "#                     del dataset[colname] # deleting the column from the dataset\n",
        "\n",
        "#     print(dataset)"
      ],
      "execution_count": 0,
      "outputs": []
    },
    {
      "metadata": {
        "id": "G8npqhQASZRF",
        "colab_type": "text"
      },
      "cell_type": "markdown",
      "source": [
        "- Colinearity is the state where two variables are highly correlated and contain similiar information about the variance within a given dataset. To detect colinearity among variables, simply create a correlation matrix and find variables with large absolute values.\n",
        "\n",
        "- Multicolinearity on the other hand is more troublesome to detect because it emerges when three or more variables, which are highly correlated, are included within a model. To make matters worst multicolinearity can emerge even when isolated pairs of variables are not colinear.\n",
        "\n",
        "http://psychologicalstatistics.blogspot.com/2013/11/multicollinearity-and-collinearity-in.html\n",
        "\n",
        "https://etav.github.io/python/vif_factor_python.html"
      ]
    },
    {
      "metadata": {
        "id": "93X8djWISZRF",
        "colab_type": "text"
      },
      "cell_type": "markdown",
      "source": [
        "- as there are significant missing values(NaN), variance threshold method could not be used.\n",
        "- Too many variables with missing values to impute up front. \n",
        "- Discovered that Sklearn module does not handle missing values well. It returned error for RandomForestClassifier and DecisionTreeClassifier\n",
        "- Reference: https://blog.datadive.net/selecting-good-features-part-iii-random-forests/"
      ]
    },
    {
      "metadata": {
        "id": "zwJrHrcJSZRF",
        "colab_type": "text"
      },
      "cell_type": "markdown",
      "source": [
        "## Random Forest"
      ]
    },
    {
      "metadata": {
        "id": "TZQBdvxoSZRG",
        "colab_type": "code",
        "outputId": "1dddd8a8-eafb-4dd5-82c9-b8da8421533a",
        "colab": {}
      },
      "cell_type": "code",
      "source": [
        "# Instantiate random forest and train on new features\n",
        "from sklearn.ensemble import RandomForestClassifier\n",
        "from sklearn.feature_selection import SelectFromModel\n",
        "# Create an instance of the Random Forest Model\n",
        "rf_exp = RandomForestClassifier(n_estimators= 10,max_depth=3, random_state=42)\n",
        "\n",
        "#Train the model on the training data\n",
        "rf_exp.fit(X_sm, y_sm)\n",
        "\n",
        "# Get numerical feature importances\n",
        "importances = list(rf_exp.feature_importances_)\n",
        "\n",
        "# List of tuples with variable and importance\n",
        "feature_list=list(features.columns)\n",
        "feature_importances = [(X_sm, round(importance, 2)) for X_sm, importance in zip(feature_list, importances)]\n",
        "\n",
        "# Sort the feature importances by most important first\n",
        "feature_importances = sorted(feature_importances, key = lambda x: x[1], reverse = True)\n",
        "\n",
        "# Print out the feature and importances \n",
        "[print('Variable: {:20} Importance: {}'.format(*pair)) for pair in feature_importances];"
      ],
      "execution_count": 0,
      "outputs": [
        {
          "output_type": "stream",
          "text": [
            "Variable: CREDIT_ACTIVE_Closed Importance: 0.16\n",
            "Variable: CREDIT_ACTIVE_Active Importance: 0.14\n",
            "Variable: CODE_GENDER_M        Importance: 0.11\n",
            "Variable: REG_CITY_NOT_WORK_CITY Importance: 0.09\n",
            "Variable: DAYS_CREDIT_UPDATE   Importance: 0.06\n",
            "Variable: NAME_INCOME_TYPE_Working Importance: 0.06\n",
            "Variable: REGION_RATING_CLIENT Importance: 0.04\n",
            "Variable: OBS_60_CNT_SOCIAL_CIRCLE Importance: 0.04\n",
            "Variable: NAME_EDUCATION_TYPE_Secondary / secondary special Importance: 0.04\n",
            "Variable: FLAG_PHONE           Importance: 0.03\n",
            "Variable: housingincomplete    Importance: 0.03\n",
            "Variable: DAYS_CREDIT          Importance: 0.03\n",
            "Variable: NAME_EDUCATION_TYPE_Higher education Importance: 0.03\n",
            "Variable: ORGANIZATION_TYPE_Business Entity Type 3 Importance: 0.03\n",
            "Variable: REGION_POPULATION_RELATIVE Importance: 0.02\n",
            "Variable: FLAG_OWN_CAR_Y       Importance: 0.02\n",
            "Variable: NAME_INCOME_TYPE_Commercial associate Importance: 0.02\n",
            "Variable: WEEKDAY_APPR_PROCESS_START_TUESDAY Importance: 0.02\n",
            "Variable: CREDIT_TYPE_Credit card Importance: 0.02\n",
            "Variable: DAYS_BIRTH           Importance: 0.01\n",
            "Variable: CREDIT_ANNUITY_RATIO Importance: 0.01\n",
            "Variable: NAME_CONTRACT_TYPE_Revolving loans Importance: 0.01\n",
            "Variable: SK_ID_CURR           Importance: 0.0\n",
            "Variable: CNT_CHILDREN         Importance: 0.0\n",
            "Variable: AMT_INCOME_TOTAL     Importance: 0.0\n",
            "Variable: AMT_CREDIT           Importance: 0.0\n",
            "Variable: AMT_ANNUITY          Importance: 0.0\n",
            "Variable: AMT_GOODS_PRICE      Importance: 0.0\n",
            "Variable: DAYS_EMPLOYED        Importance: 0.0\n",
            "Variable: DAYS_REGISTRATION    Importance: 0.0\n",
            "Variable: DAYS_ID_PUBLISH      Importance: 0.0\n",
            "Variable: OWN_CAR_AGE          Importance: 0.0\n",
            "Variable: FLAG_MOBIL           Importance: 0.0\n",
            "Variable: FLAG_EMP_PHONE       Importance: 0.0\n",
            "Variable: FLAG_WORK_PHONE      Importance: 0.0\n",
            "Variable: FLAG_CONT_MOBILE     Importance: 0.0\n",
            "Variable: FLAG_EMAIL           Importance: 0.0\n",
            "Variable: CNT_FAM_MEMBERS      Importance: 0.0\n",
            "Variable: REGION_RATING_CLIENT_W_CITY Importance: 0.0\n",
            "Variable: HOUR_APPR_PROCESS_START Importance: 0.0\n",
            "Variable: REG_REGION_NOT_LIVE_REGION Importance: 0.0\n",
            "Variable: REG_REGION_NOT_WORK_REGION Importance: 0.0\n",
            "Variable: LIVE_REGION_NOT_WORK_REGION Importance: 0.0\n",
            "Variable: REG_CITY_NOT_LIVE_CITY Importance: 0.0\n",
            "Variable: LIVE_CITY_NOT_WORK_CITY Importance: 0.0\n",
            "Variable: OBS_30_CNT_SOCIAL_CIRCLE Importance: 0.0\n",
            "Variable: DEF_30_CNT_SOCIAL_CIRCLE Importance: 0.0\n",
            "Variable: DEF_60_CNT_SOCIAL_CIRCLE Importance: 0.0\n",
            "Variable: DAYS_LAST_PHONE_CHANGE Importance: 0.0\n",
            "Variable: FLAG_DOCUMENT_2      Importance: 0.0\n",
            "Variable: FLAG_DOCUMENT_3      Importance: 0.0\n",
            "Variable: FLAG_DOCUMENT_4      Importance: 0.0\n",
            "Variable: FLAG_DOCUMENT_5      Importance: 0.0\n",
            "Variable: FLAG_DOCUMENT_6      Importance: 0.0\n",
            "Variable: FLAG_DOCUMENT_7      Importance: 0.0\n",
            "Variable: FLAG_DOCUMENT_8      Importance: 0.0\n",
            "Variable: FLAG_DOCUMENT_9      Importance: 0.0\n",
            "Variable: FLAG_DOCUMENT_10     Importance: 0.0\n",
            "Variable: FLAG_DOCUMENT_11     Importance: 0.0\n",
            "Variable: FLAG_DOCUMENT_12     Importance: 0.0\n",
            "Variable: FLAG_DOCUMENT_13     Importance: 0.0\n",
            "Variable: FLAG_DOCUMENT_14     Importance: 0.0\n",
            "Variable: FLAG_DOCUMENT_15     Importance: 0.0\n",
            "Variable: FLAG_DOCUMENT_16     Importance: 0.0\n",
            "Variable: FLAG_DOCUMENT_17     Importance: 0.0\n",
            "Variable: FLAG_DOCUMENT_18     Importance: 0.0\n",
            "Variable: FLAG_DOCUMENT_19     Importance: 0.0\n",
            "Variable: FLAG_DOCUMENT_20     Importance: 0.0\n",
            "Variable: FLAG_DOCUMENT_21     Importance: 0.0\n",
            "Variable: SK_ID_BUREAU         Importance: 0.0\n",
            "Variable: CREDIT_DAY_OVERDUE   Importance: 0.0\n",
            "Variable: CNT_CREDIT_PROLONG   Importance: 0.0\n",
            "Variable: AMT_CREDIT_SUM       Importance: 0.0\n",
            "Variable: AMT_CREDIT_SUM_OVERDUE Importance: 0.0\n",
            "Variable: credit_to_income_ratio Importance: 0.0\n",
            "Variable: income_per_person    Importance: 0.0\n",
            "Variable: income_per_child     Importance: 0.0\n",
            "Variable: income_to_goods      Importance: 0.0\n",
            "Variable: credit_to_goods      Importance: 0.0\n",
            "Variable: CODE_GENDER_XNA      Importance: 0.0\n",
            "Variable: FLAG_OWN_REALTY_Y    Importance: 0.0\n",
            "Variable: NAME_INCOME_TYPE_Maternity leave Importance: 0.0\n",
            "Variable: NAME_INCOME_TYPE_Pensioner Importance: 0.0\n",
            "Variable: NAME_INCOME_TYPE_State servant Importance: 0.0\n",
            "Variable: NAME_INCOME_TYPE_Student Importance: 0.0\n",
            "Variable: NAME_INCOME_TYPE_Unemployed Importance: 0.0\n",
            "Variable: NAME_EDUCATION_TYPE_Incomplete higher Importance: 0.0\n",
            "Variable: NAME_EDUCATION_TYPE_Lower secondary Importance: 0.0\n",
            "Variable: NAME_FAMILY_STATUS_Married Importance: 0.0\n",
            "Variable: NAME_FAMILY_STATUS_Separated Importance: 0.0\n",
            "Variable: NAME_FAMILY_STATUS_Single / not married Importance: 0.0\n",
            "Variable: NAME_FAMILY_STATUS_Unknown Importance: 0.0\n",
            "Variable: NAME_FAMILY_STATUS_Widow Importance: 0.0\n",
            "Variable: NAME_HOUSING_TYPE_House / apartment Importance: 0.0\n",
            "Variable: NAME_HOUSING_TYPE_Municipal apartment Importance: 0.0\n",
            "Variable: NAME_HOUSING_TYPE_Office apartment Importance: 0.0\n",
            "Variable: NAME_HOUSING_TYPE_Rented apartment Importance: 0.0\n",
            "Variable: NAME_HOUSING_TYPE_With parents Importance: 0.0\n",
            "Variable: WEEKDAY_APPR_PROCESS_START_MONDAY Importance: 0.0\n",
            "Variable: WEEKDAY_APPR_PROCESS_START_SATURDAY Importance: 0.0\n",
            "Variable: WEEKDAY_APPR_PROCESS_START_SUNDAY Importance: 0.0\n",
            "Variable: WEEKDAY_APPR_PROCESS_START_THURSDAY Importance: 0.0\n",
            "Variable: WEEKDAY_APPR_PROCESS_START_WEDNESDAY Importance: 0.0\n",
            "Variable: ORGANIZATION_TYPE_Agriculture Importance: 0.0\n",
            "Variable: ORGANIZATION_TYPE_Bank Importance: 0.0\n",
            "Variable: ORGANIZATION_TYPE_Business Entity Type 1 Importance: 0.0\n",
            "Variable: ORGANIZATION_TYPE_Business Entity Type 2 Importance: 0.0\n",
            "Variable: ORGANIZATION_TYPE_Cleaning Importance: 0.0\n",
            "Variable: ORGANIZATION_TYPE_Construction Importance: 0.0\n",
            "Variable: ORGANIZATION_TYPE_Culture Importance: 0.0\n",
            "Variable: ORGANIZATION_TYPE_Electricity Importance: 0.0\n",
            "Variable: ORGANIZATION_TYPE_Emergency Importance: 0.0\n",
            "Variable: ORGANIZATION_TYPE_Government Importance: 0.0\n",
            "Variable: ORGANIZATION_TYPE_Hotel Importance: 0.0\n",
            "Variable: ORGANIZATION_TYPE_Housing Importance: 0.0\n",
            "Variable: ORGANIZATION_TYPE_Industry: type 1 Importance: 0.0\n",
            "Variable: ORGANIZATION_TYPE_Industry: type 10 Importance: 0.0\n",
            "Variable: ORGANIZATION_TYPE_Industry: type 11 Importance: 0.0\n",
            "Variable: ORGANIZATION_TYPE_Industry: type 12 Importance: 0.0\n",
            "Variable: ORGANIZATION_TYPE_Industry: type 13 Importance: 0.0\n",
            "Variable: ORGANIZATION_TYPE_Industry: type 2 Importance: 0.0\n",
            "Variable: ORGANIZATION_TYPE_Industry: type 3 Importance: 0.0\n",
            "Variable: ORGANIZATION_TYPE_Industry: type 4 Importance: 0.0\n",
            "Variable: ORGANIZATION_TYPE_Industry: type 5 Importance: 0.0\n",
            "Variable: ORGANIZATION_TYPE_Industry: type 6 Importance: 0.0\n",
            "Variable: ORGANIZATION_TYPE_Industry: type 7 Importance: 0.0\n",
            "Variable: ORGANIZATION_TYPE_Industry: type 8 Importance: 0.0\n",
            "Variable: ORGANIZATION_TYPE_Industry: type 9 Importance: 0.0\n",
            "Variable: ORGANIZATION_TYPE_Insurance Importance: 0.0\n",
            "Variable: ORGANIZATION_TYPE_Kindergarten Importance: 0.0\n",
            "Variable: ORGANIZATION_TYPE_Legal Services Importance: 0.0\n",
            "Variable: ORGANIZATION_TYPE_Medicine Importance: 0.0\n",
            "Variable: ORGANIZATION_TYPE_Military Importance: 0.0\n",
            "Variable: ORGANIZATION_TYPE_Mobile Importance: 0.0\n",
            "Variable: ORGANIZATION_TYPE_Other Importance: 0.0\n",
            "Variable: ORGANIZATION_TYPE_Police Importance: 0.0\n",
            "Variable: ORGANIZATION_TYPE_Postal Importance: 0.0\n",
            "Variable: ORGANIZATION_TYPE_Realtor Importance: 0.0\n",
            "Variable: ORGANIZATION_TYPE_Religion Importance: 0.0\n",
            "Variable: ORGANIZATION_TYPE_Restaurant Importance: 0.0\n",
            "Variable: ORGANIZATION_TYPE_School Importance: 0.0\n",
            "Variable: ORGANIZATION_TYPE_Security Importance: 0.0\n",
            "Variable: ORGANIZATION_TYPE_Security Ministries Importance: 0.0\n",
            "Variable: ORGANIZATION_TYPE_Self-employed Importance: 0.0\n",
            "Variable: ORGANIZATION_TYPE_Services Importance: 0.0\n",
            "Variable: ORGANIZATION_TYPE_Telecom Importance: 0.0\n",
            "Variable: ORGANIZATION_TYPE_Trade: type 1 Importance: 0.0\n",
            "Variable: ORGANIZATION_TYPE_Trade: type 2 Importance: 0.0\n",
            "Variable: ORGANIZATION_TYPE_Trade: type 3 Importance: 0.0\n",
            "Variable: ORGANIZATION_TYPE_Trade: type 4 Importance: 0.0\n",
            "Variable: ORGANIZATION_TYPE_Trade: type 5 Importance: 0.0\n",
            "Variable: ORGANIZATION_TYPE_Trade: type 6 Importance: 0.0\n",
            "Variable: ORGANIZATION_TYPE_Trade: type 7 Importance: 0.0\n",
            "Variable: ORGANIZATION_TYPE_Transport: type 1 Importance: 0.0\n",
            "Variable: ORGANIZATION_TYPE_Transport: type 2 Importance: 0.0\n",
            "Variable: ORGANIZATION_TYPE_Transport: type 3 Importance: 0.0\n",
            "Variable: ORGANIZATION_TYPE_Transport: type 4 Importance: 0.0\n",
            "Variable: ORGANIZATION_TYPE_University Importance: 0.0\n",
            "Variable: ORGANIZATION_TYPE_XNA Importance: 0.0\n",
            "Variable: CREDIT_ACTIVE_Bad debt Importance: 0.0\n",
            "Variable: CREDIT_ACTIVE_Sold   Importance: 0.0\n",
            "Variable: CREDIT_CURRENCY_currency 1 Importance: 0.0\n",
            "Variable: CREDIT_CURRENCY_currency 2 Importance: 0.0\n",
            "Variable: CREDIT_CURRENCY_currency 3 Importance: 0.0\n",
            "Variable: CREDIT_CURRENCY_currency 4 Importance: 0.0\n",
            "Variable: CREDIT_TYPE_Another type of loan Importance: 0.0\n",
            "Variable: CREDIT_TYPE_Car loan Importance: 0.0\n",
            "Variable: CREDIT_TYPE_Cash loan (non-earmarked) Importance: 0.0\n",
            "Variable: CREDIT_TYPE_Consumer credit Importance: 0.0\n",
            "Variable: CREDIT_TYPE_Interbank credit Importance: 0.0\n",
            "Variable: CREDIT_TYPE_Loan for business development Importance: 0.0\n",
            "Variable: CREDIT_TYPE_Loan for purchase of shares (margin lending) Importance: 0.0\n",
            "Variable: CREDIT_TYPE_Loan for the purchase of equipment Importance: 0.0\n",
            "Variable: CREDIT_TYPE_Loan for working capital replenishment Importance: 0.0\n",
            "Variable: CREDIT_TYPE_Microloan Importance: 0.0\n",
            "Variable: CREDIT_TYPE_Mobile operator loan Importance: 0.0\n",
            "Variable: CREDIT_TYPE_Mortgage Importance: 0.0\n",
            "Variable: CREDIT_TYPE_Real estate loan Importance: 0.0\n",
            "Variable: CREDIT_TYPE_Unknown type of loan Importance: 0.0\n"
          ],
          "name": "stdout"
        }
      ]
    },
    {
      "metadata": {
        "collapsed": true,
        "id": "mCcK_xGrSZRG",
        "colab_type": "code",
        "colab": {}
      },
      "cell_type": "code",
      "source": [
        "# Extract the names of the most important features\n",
        "important_feature_names = [feature[0] for feature in feature_importances[0:6]]\n",
        "# Find the columns of the most important features\n",
        "important_indices = [feature_list.index(feature) for feature in important_feature_names]\n",
        "\n",
        "# Create training and testing sets with only the important features\n",
        "important_train_features = train_features[:, important_indices]\n",
        "important_test_features = test_features[:, important_indices]\n",
        "\n",
        "# Sanity check on operations\n",
        "print('Important train features shape:', important_train_features.shape)\n",
        "print('Important test features shape:', important_test_features.shape)"
      ],
      "execution_count": 0,
      "outputs": []
    },
    {
      "metadata": {
        "collapsed": true,
        "id": "u9wsVZbRSZRH",
        "colab_type": "code",
        "colab": {}
      },
      "cell_type": "code",
      "source": [
        "def permutation_importances(rf, features, target, metric):\n",
        "    baseline = metric(rf, features, target)\n",
        "    imp = []\n",
        "    for col in features.columns:\n",
        "        save = features[col].copy()\n",
        "        features[col] = np.random.permutation(features[col])\n",
        "        m = metric(rf, features, target)\n",
        "        features[col] = save\n",
        "        imp.append(baseline - m)\n",
        "    return np.array(imp)"
      ],
      "execution_count": 0,
      "outputs": []
    },
    {
      "metadata": {
        "collapsed": true,
        "id": "tVVPP9EGSZRH",
        "colab_type": "code",
        "colab": {}
      },
      "cell_type": "code",
      "source": [
        "rf = RandomForestClassifier(n_estimators= 10,max_depth=3, random_state=42)\n",
        "imp = permutation_importances(rf, features, target,\n",
        "                              oob_classifier_accuracy)"
      ],
      "execution_count": 0,
      "outputs": []
    },
    {
      "metadata": {
        "id": "8NR16yAgSZRI",
        "colab_type": "text"
      },
      "cell_type": "markdown",
      "source": [
        "# Hyperparameter Tuning"
      ]
    },
    {
      "metadata": {
        "id": "9F5-1SCnSZRI",
        "colab_type": "code",
        "outputId": "d6d3f082-f321-48bd-d642-f3e984158d16",
        "colab": {}
      },
      "cell_type": "code",
      "source": [
        "from sklearn.model_selection import RandomizedSearchCV\n",
        "\n",
        "#maximum number of fetures to consider for making splits\n",
        "max_features = ['auto','sqrt','log2']\n",
        "\n",
        "#max depth of each tree\n",
        "max_depth = [2,3,5,6,8]\n",
        "\n",
        "#min number of samples to split a node\n",
        "min_samples_split=[2,4,6,8]\n",
        "\n",
        "#min number if samples per leaf\n",
        "min_samples_leaf = [2,4,6,8]\n",
        "\n",
        "#define the grid of hyperparameters to search\n",
        "hyperparameter_DT={'max_features':max_features,\n",
        "                  'max_depth': max_depth,\n",
        "                  'min_samples_leaf': min_samples_leaf,\n",
        "                  'min_samples_split': min_samples_split}\n",
        "print(hyperparameter_DT)"
      ],
      "execution_count": 0,
      "outputs": [
        {
          "output_type": "stream",
          "text": [
            "{'max_features': ['auto', 'sqrt', 'log2'], 'max_depth': [2, 3, 5, 6, 8], 'min_samples_leaf': [2, 4, 6, 8], 'min_samples_split': [2, 4, 6, 8]}\n"
          ],
          "name": "stdout"
        }
      ]
    },
    {
      "metadata": {
        "id": "C61FjdylSZRJ",
        "colab_type": "code",
        "outputId": "85fee326-80d9-4015-90ee-cf3f9dbe5be1",
        "colab": {}
      },
      "cell_type": "code",
      "source": [
        "DT_hyper = DecisionTreeClassifier()\n",
        "\n",
        "#set up the random search with 4-fold cross validation\n",
        "\n",
        "DT_cv = RandomizedSearchCV(estimator=DT_hyper,\n",
        "                          param_distributions=hyperparameter_DT,\n",
        "                          cv=1,\n",
        "                          n_iter=50,\n",
        "                          scoring='roc_auc',\n",
        "                          n_jobs=2,\n",
        "                          verbose=1,\n",
        "                          return_train_score = True,\n",
        "                          random_state=42\n",
        "                            )\n",
        "\n",
        "#Train the model on training data\n",
        "DT_cv.fit(X_sm, y_sm)"
      ],
      "execution_count": 0,
      "outputs": [
        {
          "output_type": "stream",
          "text": [
            "Fitting 3 folds for each of 50 candidates, totalling 150 fits\n"
          ],
          "name": "stdout"
        },
        {
          "output_type": "stream",
          "text": [
            "[Parallel(n_jobs=2)]: Using backend LokyBackend with 2 concurrent workers.\n",
            "[Parallel(n_jobs=2)]: Done  46 tasks      | elapsed: 56.4min\n"
          ],
          "name": "stderr"
        }
      ]
    },
    {
      "metadata": {
        "collapsed": true,
        "id": "JJhDSDHCSZRK",
        "colab_type": "text"
      },
      "cell_type": "markdown",
      "source": [
        "# Model Building"
      ]
    },
    {
      "metadata": {
        "id": "IJg0ujktSZRK",
        "colab_type": "text"
      },
      "cell_type": "markdown",
      "source": [
        ""
      ]
    },
    {
      "metadata": {
        "collapsed": true,
        "id": "OZ4IB5DxSZRK",
        "colab_type": "code",
        "colab": {}
      },
      "cell_type": "code",
      "source": [
        "from sklearn.linear_model import LogisticRegression\n",
        "\n",
        "# Make the model with the specified regularization parameter\n",
        "log_reg = LogisticRegression(C = 0.0001)\n",
        "\n",
        "# Train on the training data\n",
        "log_reg.fit(X_sm, y_sm)"
      ],
      "execution_count": 0,
      "outputs": []
    },
    {
      "metadata": {
        "collapsed": true,
        "id": "uXqMYE9pSZRL",
        "colab_type": "code",
        "colab": {}
      },
      "cell_type": "code",
      "source": [
        "from sklearn.tree import DecisionTreeClassifier\n",
        "X = df1_features_num\n",
        "Y = df1_target\n",
        "names = list(df1_features.columns.values)\n",
        "rf = DecisionTreeClassifier()\n",
        "rf.fit(X, Y)\n",
        "print (\"Features sorted by their score:\",sorted(zip(map(lambda x: round(x, 4), rf.feature_importances_), names), \n",
        "             reverse=True))"
      ],
      "execution_count": 0,
      "outputs": []
    },
    {
      "metadata": {
        "id": "jn_g8o5sSZRM",
        "colab_type": "text"
      },
      "cell_type": "markdown",
      "source": [
        "- how to combine insights from multiple feature selection methods\n",
        "- example impute median\n",
        "- https://www.kaggle.com/sz8416/6-ways-for-feature-selection"
      ]
    },
    {
      "metadata": {
        "collapsed": true,
        "id": "PrB5HdimSZRM",
        "colab_type": "code",
        "colab": {}
      },
      "cell_type": "code",
      "source": [
        ""
      ],
      "execution_count": 0,
      "outputs": []
    }
  ]
}
